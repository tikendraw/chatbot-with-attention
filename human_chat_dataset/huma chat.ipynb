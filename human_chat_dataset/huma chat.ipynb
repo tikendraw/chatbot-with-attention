{
 "cells": [
  {
   "cell_type": "markdown",
   "id": "b99229af-16c3-410f-9ec1-a3884733e8d7",
   "metadata": {},
   "source": [
    "# Preprocessing Human chat "
   ]
  },
  {
   "cell_type": "code",
   "execution_count": 85,
   "id": "3f20c1e4-81df-4675-acc6-378d3730878d",
   "metadata": {},
   "outputs": [],
   "source": [
    "import pandas as pd\n",
    "import numpy as np"
   ]
  },
  {
   "cell_type": "markdown",
   "id": "5fdb7288-489a-4976-8c5a-569824bd9816",
   "metadata": {},
   "source": [
    "# Reading the File"
   ]
  },
  {
   "cell_type": "code",
   "execution_count": 86,
   "id": "27b7f944-fd3d-4759-a9da-ce55ed87a09a",
   "metadata": {},
   "outputs": [],
   "source": [
    "with open('human_chat.txt', 'r') as file:\n",
    "    lines = file.readlines()"
   ]
  },
  {
   "cell_type": "code",
   "execution_count": 87,
   "id": "90013620-f6b1-45f9-b36d-bc17ea556806",
   "metadata": {},
   "outputs": [
    {
     "data": {
      "text/plain": [
       "1495"
      ]
     },
     "execution_count": 87,
     "metadata": {},
     "output_type": "execute_result"
    }
   ],
   "source": [
    "len(lines)"
   ]
  },
  {
   "cell_type": "markdown",
   "id": "53ee61c1-eb1a-45d4-80fb-66b91c40aecc",
   "metadata": {},
   "source": [
    "# Make data"
   ]
  },
  {
   "cell_type": "code",
   "execution_count": 88,
   "id": "8f03cc2d-f9fb-48ac-9193-633e8ab02b65",
   "metadata": {},
   "outputs": [],
   "source": [
    "df = pd.DataFrame(lines,columns = ['text'])"
   ]
  },
  {
   "cell_type": "code",
   "execution_count": 89,
   "id": "d10b8a05-4a8d-43d9-83e5-4ee3e3037bdd",
   "metadata": {},
   "outputs": [
    {
     "data": {
      "text/html": [
       "<div>\n",
       "<style scoped>\n",
       "    .dataframe tbody tr th:only-of-type {\n",
       "        vertical-align: middle;\n",
       "    }\n",
       "\n",
       "    .dataframe tbody tr th {\n",
       "        vertical-align: top;\n",
       "    }\n",
       "\n",
       "    .dataframe thead th {\n",
       "        text-align: right;\n",
       "    }\n",
       "</style>\n",
       "<table border=\"1\" class=\"dataframe\">\n",
       "  <thead>\n",
       "    <tr style=\"text-align: right;\">\n",
       "      <th></th>\n",
       "      <th>text</th>\n",
       "    </tr>\n",
       "  </thead>\n",
       "  <tbody>\n",
       "    <tr>\n",
       "      <th>0</th>\n",
       "      <td>Human 1: Hi!\\n</td>\n",
       "    </tr>\n",
       "    <tr>\n",
       "      <th>1</th>\n",
       "      <td>Human 2: What is your favorite holiday?\\n</td>\n",
       "    </tr>\n",
       "    <tr>\n",
       "      <th>2</th>\n",
       "      <td>Human 1: one where I get to meet lots of diffe...</td>\n",
       "    </tr>\n",
       "    <tr>\n",
       "      <th>3</th>\n",
       "      <td>Human 2: What was the most number of people yo...</td>\n",
       "    </tr>\n",
       "    <tr>\n",
       "      <th>4</th>\n",
       "      <td>Human 1: Hard to keep a count. Maybe 25.\\n</td>\n",
       "    </tr>\n",
       "  </tbody>\n",
       "</table>\n",
       "</div>"
      ],
      "text/plain": [
       "                                                text\n",
       "0                                     Human 1: Hi!\\n\n",
       "1          Human 2: What is your favorite holiday?\\n\n",
       "2  Human 1: one where I get to meet lots of diffe...\n",
       "3  Human 2: What was the most number of people yo...\n",
       "4         Human 1: Hard to keep a count. Maybe 25.\\n"
      ]
     },
     "execution_count": 89,
     "metadata": {},
     "output_type": "execute_result"
    }
   ],
   "source": [
    "df.head()"
   ]
  },
  {
   "cell_type": "code",
   "execution_count": 90,
   "id": "c82746da-446a-4dba-9cff-81f9579cf6fc",
   "metadata": {},
   "outputs": [],
   "source": [
    "df['p1'] = df['text']\n",
    "df['p2'] = df['text'].shift(-1)"
   ]
  },
  {
   "cell_type": "code",
   "execution_count": 91,
   "id": "8604e627-f4a5-4a2d-b750-c577d9e7d865",
   "metadata": {},
   "outputs": [
    {
     "data": {
      "text/plain": [
       "(1495, 3)"
      ]
     },
     "execution_count": 91,
     "metadata": {},
     "output_type": "execute_result"
    }
   ],
   "source": [
    "df.shape"
   ]
  },
  {
   "cell_type": "code",
   "execution_count": 92,
   "id": "ad8f9b6b-cd45-4309-a1ee-e91ac2cbef30",
   "metadata": {},
   "outputs": [],
   "source": [
    "# who to whom\n",
    "df['said'] = df.p1.apply(lambda x: (x.split(':')[0]).split(' ')[-1])\n",
    "df['to'] = df.p2.apply(lambda x: (x.split(':')[0]).split(' ')[-1] if type(x)==str else x)"
   ]
  },
  {
   "cell_type": "code",
   "execution_count": 93,
   "id": "667a91f6-8cec-4f7f-91e2-0ceeefc5104f",
   "metadata": {},
   "outputs": [
    {
     "data": {
      "text/html": [
       "<div>\n",
       "<style scoped>\n",
       "    .dataframe tbody tr th:only-of-type {\n",
       "        vertical-align: middle;\n",
       "    }\n",
       "\n",
       "    .dataframe tbody tr th {\n",
       "        vertical-align: top;\n",
       "    }\n",
       "\n",
       "    .dataframe thead th {\n",
       "        text-align: right;\n",
       "    }\n",
       "</style>\n",
       "<table border=\"1\" class=\"dataframe\">\n",
       "  <thead>\n",
       "    <tr style=\"text-align: right;\">\n",
       "      <th></th>\n",
       "      <th>text</th>\n",
       "      <th>p1</th>\n",
       "      <th>p2</th>\n",
       "      <th>said</th>\n",
       "      <th>to</th>\n",
       "    </tr>\n",
       "  </thead>\n",
       "  <tbody>\n",
       "    <tr>\n",
       "      <th>0</th>\n",
       "      <td>Human 1: Hi!\\n</td>\n",
       "      <td>Human 1: Hi!\\n</td>\n",
       "      <td>Human 2: What is your favorite holiday?\\n</td>\n",
       "      <td>1</td>\n",
       "      <td>2</td>\n",
       "    </tr>\n",
       "    <tr>\n",
       "      <th>1</th>\n",
       "      <td>Human 2: What is your favorite holiday?\\n</td>\n",
       "      <td>Human 2: What is your favorite holiday?\\n</td>\n",
       "      <td>Human 1: one where I get to meet lots of diffe...</td>\n",
       "      <td>2</td>\n",
       "      <td>1</td>\n",
       "    </tr>\n",
       "    <tr>\n",
       "      <th>2</th>\n",
       "      <td>Human 1: one where I get to meet lots of diffe...</td>\n",
       "      <td>Human 1: one where I get to meet lots of diffe...</td>\n",
       "      <td>Human 2: What was the most number of people yo...</td>\n",
       "      <td>1</td>\n",
       "      <td>2</td>\n",
       "    </tr>\n",
       "    <tr>\n",
       "      <th>3</th>\n",
       "      <td>Human 2: What was the most number of people yo...</td>\n",
       "      <td>Human 2: What was the most number of people yo...</td>\n",
       "      <td>Human 1: Hard to keep a count. Maybe 25.\\n</td>\n",
       "      <td>2</td>\n",
       "      <td>1</td>\n",
       "    </tr>\n",
       "    <tr>\n",
       "      <th>4</th>\n",
       "      <td>Human 1: Hard to keep a count. Maybe 25.\\n</td>\n",
       "      <td>Human 1: Hard to keep a count. Maybe 25.\\n</td>\n",
       "      <td>Human 2: Which holiday was that?\\n</td>\n",
       "      <td>1</td>\n",
       "      <td>2</td>\n",
       "    </tr>\n",
       "  </tbody>\n",
       "</table>\n",
       "</div>"
      ],
      "text/plain": [
       "                                                text  \\\n",
       "0                                     Human 1: Hi!\\n   \n",
       "1          Human 2: What is your favorite holiday?\\n   \n",
       "2  Human 1: one where I get to meet lots of diffe...   \n",
       "3  Human 2: What was the most number of people yo...   \n",
       "4         Human 1: Hard to keep a count. Maybe 25.\\n   \n",
       "\n",
       "                                                  p1  \\\n",
       "0                                     Human 1: Hi!\\n   \n",
       "1          Human 2: What is your favorite holiday?\\n   \n",
       "2  Human 1: one where I get to meet lots of diffe...   \n",
       "3  Human 2: What was the most number of people yo...   \n",
       "4         Human 1: Hard to keep a count. Maybe 25.\\n   \n",
       "\n",
       "                                                  p2 said to  \n",
       "0          Human 2: What is your favorite holiday?\\n    1  2  \n",
       "1  Human 1: one where I get to meet lots of diffe...    2  1  \n",
       "2  Human 2: What was the most number of people yo...    1  2  \n",
       "3         Human 1: Hard to keep a count. Maybe 25.\\n    2  1  \n",
       "4                 Human 2: Which holiday was that?\\n    1  2  "
      ]
     },
     "execution_count": 93,
     "metadata": {},
     "output_type": "execute_result"
    }
   ],
   "source": [
    "df.head(5)"
   ]
  },
  {
   "cell_type": "markdown",
   "id": "d7241e1f-4fcf-4564-8e87-d3d6a0388634",
   "metadata": {},
   "source": [
    "# fixing a dtype"
   ]
  },
  {
   "cell_type": "code",
   "execution_count": 94,
   "id": "81ada491-0344-409a-9555-3e5fc01dc108",
   "metadata": {},
   "outputs": [
    {
     "data": {
      "text/plain": [
       "(array(['1', '2', '\\n'], dtype=object),\n",
       " array(['2', '1', '\\n', None], dtype=object))"
      ]
     },
     "execution_count": 94,
     "metadata": {},
     "output_type": "execute_result"
    }
   ],
   "source": [
    "df.said.unique(), df.to.unique()"
   ]
  },
  {
   "cell_type": "markdown",
   "id": "452b4f1b-75e7-4b4d-8d74-ce8917ca6c23",
   "metadata": {},
   "source": [
    "There is also a null value in the last row due to value shift. (fill it with 3)"
   ]
  },
  {
   "cell_type": "code",
   "execution_count": 95,
   "id": "55468361-7963-464a-89e7-c8221dfc56c2",
   "metadata": {},
   "outputs": [
    {
     "name": "stdout",
     "output_type": "stream",
     "text": [
      "1\n",
      "[1494]\n"
     ]
    }
   ],
   "source": [
    "print(df.to.isnull().sum())\n",
    "print(df[df['to'].isnull()].index.tolist())\n"
   ]
  },
  {
   "cell_type": "code",
   "execution_count": 96,
   "id": "bca71cdf-da84-435f-9fec-0a0716a4610c",
   "metadata": {},
   "outputs": [
    {
     "data": {
      "text/plain": [
       "(Int64Index([919], dtype='int64'), Int64Index([918], dtype='int64'))"
      ]
     },
     "execution_count": 96,
     "metadata": {},
     "output_type": "execute_result"
    }
   ],
   "source": [
    "# replacing \\n to 3\n",
    "df[df['said']=='\\n'].index, df[df['to']=='\\n'].index"
   ]
  },
  {
   "cell_type": "code",
   "execution_count": 97,
   "id": "64d2d235-88a1-44a6-bda2-df83f2dc6ce8",
   "metadata": {},
   "outputs": [],
   "source": [
    "df.at[919, 'said'] = 9\n",
    "df.at[918, 'to'] = 9\n",
    "df.at[1494, 'to'] = 9\n"
   ]
  },
  {
   "cell_type": "code",
   "execution_count": 98,
   "id": "0534bc7b-758f-4bd4-8237-dfb6ef981b54",
   "metadata": {},
   "outputs": [],
   "source": [
    "df['to'] = pd.to_numeric(df['to'])\n",
    "df['said'] = pd.to_numeric(df['said'])"
   ]
  },
  {
   "cell_type": "code",
   "execution_count": 99,
   "id": "ffa8abcd-3b75-4663-b255-89e3e95001c6",
   "metadata": {},
   "outputs": [
    {
     "name": "stdout",
     "output_type": "stream",
     "text": [
      "<class 'pandas.core.frame.DataFrame'>\n",
      "RangeIndex: 1495 entries, 0 to 1494\n",
      "Data columns (total 5 columns):\n",
      " #   Column  Non-Null Count  Dtype \n",
      "---  ------  --------------  ----- \n",
      " 0   text    1495 non-null   object\n",
      " 1   p1      1495 non-null   object\n",
      " 2   p2      1494 non-null   object\n",
      " 3   said    1495 non-null   int64 \n",
      " 4   to      1495 non-null   int64 \n",
      "dtypes: int64(2), object(3)\n",
      "memory usage: 58.5+ KB\n"
     ]
    }
   ],
   "source": [
    "df.info()"
   ]
  },
  {
   "cell_type": "code",
   "execution_count": 100,
   "id": "13a74c92-148d-4efc-9374-f6421fe95781",
   "metadata": {},
   "outputs": [
    {
     "data": {
      "text/plain": [
       "(array([1, 2, 9]), array([2, 1, 9]))"
      ]
     },
     "execution_count": 100,
     "metadata": {},
     "output_type": "execute_result"
    }
   ],
   "source": [
    "df.said.unique(), df.to.unique()"
   ]
  },
  {
   "cell_type": "markdown",
   "id": "9ed0f64d-b86f-494e-8223-f99e66b122c2",
   "metadata": {},
   "source": [
    "======================"
   ]
  },
  {
   "cell_type": "code",
   "execution_count": 101,
   "id": "feb3d0b0-02a3-4add-85f9-b35326f375f0",
   "metadata": {},
   "outputs": [],
   "source": [
    "df['status'] = df['said'] - df['to']"
   ]
  },
  {
   "cell_type": "code",
   "execution_count": 102,
   "id": "25533417-8ce4-46dc-baa5-4936434c3877",
   "metadata": {},
   "outputs": [
    {
     "data": {
      "text/html": [
       "<div>\n",
       "<style scoped>\n",
       "    .dataframe tbody tr th:only-of-type {\n",
       "        vertical-align: middle;\n",
       "    }\n",
       "\n",
       "    .dataframe tbody tr th {\n",
       "        vertical-align: top;\n",
       "    }\n",
       "\n",
       "    .dataframe thead th {\n",
       "        text-align: right;\n",
       "    }\n",
       "</style>\n",
       "<table border=\"1\" class=\"dataframe\">\n",
       "  <thead>\n",
       "    <tr style=\"text-align: right;\">\n",
       "      <th></th>\n",
       "      <th>text</th>\n",
       "      <th>p1</th>\n",
       "      <th>p2</th>\n",
       "      <th>said</th>\n",
       "      <th>to</th>\n",
       "      <th>status</th>\n",
       "    </tr>\n",
       "  </thead>\n",
       "  <tbody>\n",
       "    <tr>\n",
       "      <th>0</th>\n",
       "      <td>Human 1: Hi!\\n</td>\n",
       "      <td>Human 1: Hi!\\n</td>\n",
       "      <td>Human 2: What is your favorite holiday?\\n</td>\n",
       "      <td>1</td>\n",
       "      <td>2</td>\n",
       "      <td>-1</td>\n",
       "    </tr>\n",
       "    <tr>\n",
       "      <th>1</th>\n",
       "      <td>Human 2: What is your favorite holiday?\\n</td>\n",
       "      <td>Human 2: What is your favorite holiday?\\n</td>\n",
       "      <td>Human 1: one where I get to meet lots of diffe...</td>\n",
       "      <td>2</td>\n",
       "      <td>1</td>\n",
       "      <td>1</td>\n",
       "    </tr>\n",
       "    <tr>\n",
       "      <th>2</th>\n",
       "      <td>Human 1: one where I get to meet lots of diffe...</td>\n",
       "      <td>Human 1: one where I get to meet lots of diffe...</td>\n",
       "      <td>Human 2: What was the most number of people yo...</td>\n",
       "      <td>1</td>\n",
       "      <td>2</td>\n",
       "      <td>-1</td>\n",
       "    </tr>\n",
       "    <tr>\n",
       "      <th>3</th>\n",
       "      <td>Human 2: What was the most number of people yo...</td>\n",
       "      <td>Human 2: What was the most number of people yo...</td>\n",
       "      <td>Human 1: Hard to keep a count. Maybe 25.\\n</td>\n",
       "      <td>2</td>\n",
       "      <td>1</td>\n",
       "      <td>1</td>\n",
       "    </tr>\n",
       "    <tr>\n",
       "      <th>4</th>\n",
       "      <td>Human 1: Hard to keep a count. Maybe 25.\\n</td>\n",
       "      <td>Human 1: Hard to keep a count. Maybe 25.\\n</td>\n",
       "      <td>Human 2: Which holiday was that?\\n</td>\n",
       "      <td>1</td>\n",
       "      <td>2</td>\n",
       "      <td>-1</td>\n",
       "    </tr>\n",
       "  </tbody>\n",
       "</table>\n",
       "</div>"
      ],
      "text/plain": [
       "                                                text  \\\n",
       "0                                     Human 1: Hi!\\n   \n",
       "1          Human 2: What is your favorite holiday?\\n   \n",
       "2  Human 1: one where I get to meet lots of diffe...   \n",
       "3  Human 2: What was the most number of people yo...   \n",
       "4         Human 1: Hard to keep a count. Maybe 25.\\n   \n",
       "\n",
       "                                                  p1  \\\n",
       "0                                     Human 1: Hi!\\n   \n",
       "1          Human 2: What is your favorite holiday?\\n   \n",
       "2  Human 1: one where I get to meet lots of diffe...   \n",
       "3  Human 2: What was the most number of people yo...   \n",
       "4         Human 1: Hard to keep a count. Maybe 25.\\n   \n",
       "\n",
       "                                                  p2  said  to  status  \n",
       "0          Human 2: What is your favorite holiday?\\n     1   2      -1  \n",
       "1  Human 1: one where I get to meet lots of diffe...     2   1       1  \n",
       "2  Human 2: What was the most number of people yo...     1   2      -1  \n",
       "3         Human 1: Hard to keep a count. Maybe 25.\\n     2   1       1  \n",
       "4                 Human 2: Which holiday was that?\\n     1   2      -1  "
      ]
     },
     "execution_count": 102,
     "metadata": {},
     "output_type": "execute_result"
    }
   ],
   "source": [
    "df.head()"
   ]
  },
  {
   "cell_type": "code",
   "execution_count": 103,
   "id": "812519b6-b171-4090-8889-be305acd5aed",
   "metadata": {},
   "outputs": [
    {
     "data": {
      "text/plain": [
       "array([-1,  1,  0, -8,  8])"
      ]
     },
     "execution_count": 103,
     "metadata": {},
     "output_type": "execute_result"
    }
   ],
   "source": [
    "df['status'].unique()"
   ]
  },
  {
   "cell_type": "code",
   "execution_count": 104,
   "id": "5d0dc0ff-8235-4867-9a76-955e2bcc8b85",
   "metadata": {},
   "outputs": [
    {
     "data": {
      "text/plain": [
       "-1    730\n",
       " 1    730\n",
       " 0     32\n",
       "-8      2\n",
       " 8      1\n",
       "Name: status, dtype: int64"
      ]
     },
     "execution_count": 104,
     "metadata": {},
     "output_type": "execute_result"
    }
   ],
   "source": [
    "df['status'].value_counts()"
   ]
  },
  {
   "cell_type": "markdown",
   "id": "db300bf3-7218-45c0-a029-b3945ea12abf",
   "metadata": {},
   "source": [
    "Here we will only select conversation where speaker 1 is talking to speaker 2, Because this is basically one way conversation (like you and your crush)"
   ]
  },
  {
   "cell_type": "code",
   "execution_count": 105,
   "id": "311764d5-b1bc-404d-ad42-fd2aac7b3ef5",
   "metadata": {},
   "outputs": [
    {
     "data": {
      "text/html": [
       "<div>\n",
       "<style scoped>\n",
       "    .dataframe tbody tr th:only-of-type {\n",
       "        vertical-align: middle;\n",
       "    }\n",
       "\n",
       "    .dataframe tbody tr th {\n",
       "        vertical-align: top;\n",
       "    }\n",
       "\n",
       "    .dataframe thead th {\n",
       "        text-align: right;\n",
       "    }\n",
       "</style>\n",
       "<table border=\"1\" class=\"dataframe\">\n",
       "  <thead>\n",
       "    <tr style=\"text-align: right;\">\n",
       "      <th></th>\n",
       "      <th>text</th>\n",
       "      <th>p1</th>\n",
       "      <th>p2</th>\n",
       "      <th>said</th>\n",
       "      <th>to</th>\n",
       "      <th>status</th>\n",
       "    </tr>\n",
       "  </thead>\n",
       "  <tbody>\n",
       "    <tr>\n",
       "      <th>0</th>\n",
       "      <td>Human 1: Hi!\\n</td>\n",
       "      <td>Human 1: Hi!\\n</td>\n",
       "      <td>Human 2: What is your favorite holiday?\\n</td>\n",
       "      <td>1</td>\n",
       "      <td>2</td>\n",
       "      <td>-1</td>\n",
       "    </tr>\n",
       "    <tr>\n",
       "      <th>1</th>\n",
       "      <td>Human 2: What is your favorite holiday?\\n</td>\n",
       "      <td>Human 2: What is your favorite holiday?\\n</td>\n",
       "      <td>Human 1: one where I get to meet lots of diffe...</td>\n",
       "      <td>2</td>\n",
       "      <td>1</td>\n",
       "      <td>1</td>\n",
       "    </tr>\n",
       "    <tr>\n",
       "      <th>2</th>\n",
       "      <td>Human 1: one where I get to meet lots of diffe...</td>\n",
       "      <td>Human 1: one where I get to meet lots of diffe...</td>\n",
       "      <td>Human 2: What was the most number of people yo...</td>\n",
       "      <td>1</td>\n",
       "      <td>2</td>\n",
       "      <td>-1</td>\n",
       "    </tr>\n",
       "    <tr>\n",
       "      <th>3</th>\n",
       "      <td>Human 2: What was the most number of people yo...</td>\n",
       "      <td>Human 2: What was the most number of people yo...</td>\n",
       "      <td>Human 1: Hard to keep a count. Maybe 25.\\n</td>\n",
       "      <td>2</td>\n",
       "      <td>1</td>\n",
       "      <td>1</td>\n",
       "    </tr>\n",
       "    <tr>\n",
       "      <th>4</th>\n",
       "      <td>Human 1: Hard to keep a count. Maybe 25.\\n</td>\n",
       "      <td>Human 1: Hard to keep a count. Maybe 25.\\n</td>\n",
       "      <td>Human 2: Which holiday was that?\\n</td>\n",
       "      <td>1</td>\n",
       "      <td>2</td>\n",
       "      <td>-1</td>\n",
       "    </tr>\n",
       "    <tr>\n",
       "      <th>...</th>\n",
       "      <td>...</td>\n",
       "      <td>...</td>\n",
       "      <td>...</td>\n",
       "      <td>...</td>\n",
       "      <td>...</td>\n",
       "      <td>...</td>\n",
       "    </tr>\n",
       "    <tr>\n",
       "      <th>57</th>\n",
       "      <td>Human 2: it is pretty dry in the mountains I b...</td>\n",
       "      <td>Human 2: it is pretty dry in the mountains I b...</td>\n",
       "      <td>Human 1: hmm.... okay. Climate change talk thi...</td>\n",
       "      <td>2</td>\n",
       "      <td>1</td>\n",
       "      <td>1</td>\n",
       "    </tr>\n",
       "    <tr>\n",
       "      <th>58</th>\n",
       "      <td>Human 1: hmm.... okay. Climate change talk thi...</td>\n",
       "      <td>Human 1: hmm.... okay. Climate change talk thi...</td>\n",
       "      <td>Human 2: nope, what does it say?\\n</td>\n",
       "      <td>1</td>\n",
       "      <td>2</td>\n",
       "      <td>-1</td>\n",
       "    </tr>\n",
       "    <tr>\n",
       "      <th>59</th>\n",
       "      <td>Human 2: nope, what does it say?\\n</td>\n",
       "      <td>Human 2: nope, what does it say?\\n</td>\n",
       "      <td>Human 1: they were talking about how AI is hel...</td>\n",
       "      <td>2</td>\n",
       "      <td>1</td>\n",
       "      <td>1</td>\n",
       "    </tr>\n",
       "    <tr>\n",
       "      <th>60</th>\n",
       "      <td>Human 1: they were talking about how AI is hel...</td>\n",
       "      <td>Human 1: they were talking about how AI is hel...</td>\n",
       "      <td>Human 1: Hi.\\n</td>\n",
       "      <td>1</td>\n",
       "      <td>1</td>\n",
       "      <td>0</td>\n",
       "    </tr>\n",
       "    <tr>\n",
       "      <th>61</th>\n",
       "      <td>Human 1: Hi.\\n</td>\n",
       "      <td>Human 1: Hi.\\n</td>\n",
       "      <td>Human 2: Helloooooo!\\n</td>\n",
       "      <td>1</td>\n",
       "      <td>2</td>\n",
       "      <td>-1</td>\n",
       "    </tr>\n",
       "  </tbody>\n",
       "</table>\n",
       "<p>62 rows × 6 columns</p>\n",
       "</div>"
      ],
      "text/plain": [
       "                                                 text  \\\n",
       "0                                      Human 1: Hi!\\n   \n",
       "1           Human 2: What is your favorite holiday?\\n   \n",
       "2   Human 1: one where I get to meet lots of diffe...   \n",
       "3   Human 2: What was the most number of people yo...   \n",
       "4          Human 1: Hard to keep a count. Maybe 25.\\n   \n",
       "..                                                ...   \n",
       "57  Human 2: it is pretty dry in the mountains I b...   \n",
       "58  Human 1: hmm.... okay. Climate change talk thi...   \n",
       "59                 Human 2: nope, what does it say?\\n   \n",
       "60  Human 1: they were talking about how AI is hel...   \n",
       "61                                     Human 1: Hi.\\n   \n",
       "\n",
       "                                                   p1  \\\n",
       "0                                      Human 1: Hi!\\n   \n",
       "1           Human 2: What is your favorite holiday?\\n   \n",
       "2   Human 1: one where I get to meet lots of diffe...   \n",
       "3   Human 2: What was the most number of people yo...   \n",
       "4          Human 1: Hard to keep a count. Maybe 25.\\n   \n",
       "..                                                ...   \n",
       "57  Human 2: it is pretty dry in the mountains I b...   \n",
       "58  Human 1: hmm.... okay. Climate change talk thi...   \n",
       "59                 Human 2: nope, what does it say?\\n   \n",
       "60  Human 1: they were talking about how AI is hel...   \n",
       "61                                     Human 1: Hi.\\n   \n",
       "\n",
       "                                                   p2  said  to  status  \n",
       "0           Human 2: What is your favorite holiday?\\n     1   2      -1  \n",
       "1   Human 1: one where I get to meet lots of diffe...     2   1       1  \n",
       "2   Human 2: What was the most number of people yo...     1   2      -1  \n",
       "3          Human 1: Hard to keep a count. Maybe 25.\\n     2   1       1  \n",
       "4                  Human 2: Which holiday was that?\\n     1   2      -1  \n",
       "..                                                ...   ...  ..     ...  \n",
       "57  Human 1: hmm.... okay. Climate change talk thi...     2   1       1  \n",
       "58                 Human 2: nope, what does it say?\\n     1   2      -1  \n",
       "59  Human 1: they were talking about how AI is hel...     2   1       1  \n",
       "60                                     Human 1: Hi.\\n     1   1       0  \n",
       "61                             Human 2: Helloooooo!\\n     1   2      -1  \n",
       "\n",
       "[62 rows x 6 columns]"
      ]
     },
     "execution_count": 105,
     "metadata": {},
     "output_type": "execute_result"
    }
   ],
   "source": [
    "df.head(62)"
   ]
  },
  {
   "cell_type": "code",
   "execution_count": 124,
   "id": "03e02c45-5b8e-4a94-b0ed-f616c43f6257",
   "metadata": {},
   "outputs": [],
   "source": [
    "data = df[df.status==-1]"
   ]
  },
  {
   "cell_type": "code",
   "execution_count": 125,
   "id": "b599634c-d62e-4835-a3fb-441b65222264",
   "metadata": {},
   "outputs": [
    {
     "data": {
      "text/plain": [
       "(730, 6)"
      ]
     },
     "execution_count": 125,
     "metadata": {},
     "output_type": "execute_result"
    }
   ],
   "source": [
    "data.shape"
   ]
  },
  {
   "cell_type": "code",
   "execution_count": 126,
   "id": "6547e28b-1944-4bf8-ab44-a90eb0a83107",
   "metadata": {},
   "outputs": [
    {
     "data": {
      "text/html": [
       "<div>\n",
       "<style scoped>\n",
       "    .dataframe tbody tr th:only-of-type {\n",
       "        vertical-align: middle;\n",
       "    }\n",
       "\n",
       "    .dataframe tbody tr th {\n",
       "        vertical-align: top;\n",
       "    }\n",
       "\n",
       "    .dataframe thead th {\n",
       "        text-align: right;\n",
       "    }\n",
       "</style>\n",
       "<table border=\"1\" class=\"dataframe\">\n",
       "  <thead>\n",
       "    <tr style=\"text-align: right;\">\n",
       "      <th></th>\n",
       "      <th>text</th>\n",
       "      <th>p1</th>\n",
       "      <th>p2</th>\n",
       "      <th>said</th>\n",
       "      <th>to</th>\n",
       "      <th>status</th>\n",
       "    </tr>\n",
       "  </thead>\n",
       "  <tbody>\n",
       "    <tr>\n",
       "      <th>0</th>\n",
       "      <td>Human 1: Hi!\\n</td>\n",
       "      <td>Human 1: Hi!\\n</td>\n",
       "      <td>Human 2: What is your favorite holiday?\\n</td>\n",
       "      <td>1</td>\n",
       "      <td>2</td>\n",
       "      <td>-1</td>\n",
       "    </tr>\n",
       "    <tr>\n",
       "      <th>2</th>\n",
       "      <td>Human 1: one where I get to meet lots of diffe...</td>\n",
       "      <td>Human 1: one where I get to meet lots of diffe...</td>\n",
       "      <td>Human 2: What was the most number of people yo...</td>\n",
       "      <td>1</td>\n",
       "      <td>2</td>\n",
       "      <td>-1</td>\n",
       "    </tr>\n",
       "    <tr>\n",
       "      <th>4</th>\n",
       "      <td>Human 1: Hard to keep a count. Maybe 25.\\n</td>\n",
       "      <td>Human 1: Hard to keep a count. Maybe 25.\\n</td>\n",
       "      <td>Human 2: Which holiday was that?\\n</td>\n",
       "      <td>1</td>\n",
       "      <td>2</td>\n",
       "      <td>-1</td>\n",
       "    </tr>\n",
       "    <tr>\n",
       "      <th>6</th>\n",
       "      <td>Human 1: I think it was Australia\\n</td>\n",
       "      <td>Human 1: I think it was Australia\\n</td>\n",
       "      <td>Human 2: Do you still talk to the people you m...</td>\n",
       "      <td>1</td>\n",
       "      <td>2</td>\n",
       "      <td>-1</td>\n",
       "    </tr>\n",
       "    <tr>\n",
       "      <th>8</th>\n",
       "      <td>Human 1: Not really. The interactions are usua...</td>\n",
       "      <td>Human 1: Not really. The interactions are usua...</td>\n",
       "      <td>Human 2: Yea, me too. I feel like God often pu...</td>\n",
       "      <td>1</td>\n",
       "      <td>2</td>\n",
       "      <td>-1</td>\n",
       "    </tr>\n",
       "  </tbody>\n",
       "</table>\n",
       "</div>"
      ],
      "text/plain": [
       "                                                text  \\\n",
       "0                                     Human 1: Hi!\\n   \n",
       "2  Human 1: one where I get to meet lots of diffe...   \n",
       "4         Human 1: Hard to keep a count. Maybe 25.\\n   \n",
       "6                Human 1: I think it was Australia\\n   \n",
       "8  Human 1: Not really. The interactions are usua...   \n",
       "\n",
       "                                                  p1  \\\n",
       "0                                     Human 1: Hi!\\n   \n",
       "2  Human 1: one where I get to meet lots of diffe...   \n",
       "4         Human 1: Hard to keep a count. Maybe 25.\\n   \n",
       "6                Human 1: I think it was Australia\\n   \n",
       "8  Human 1: Not really. The interactions are usua...   \n",
       "\n",
       "                                                  p2  said  to  status  \n",
       "0          Human 2: What is your favorite holiday?\\n     1   2      -1  \n",
       "2  Human 2: What was the most number of people yo...     1   2      -1  \n",
       "4                 Human 2: Which holiday was that?\\n     1   2      -1  \n",
       "6  Human 2: Do you still talk to the people you m...     1   2      -1  \n",
       "8  Human 2: Yea, me too. I feel like God often pu...     1   2      -1  "
      ]
     },
     "execution_count": 126,
     "metadata": {},
     "output_type": "execute_result"
    }
   ],
   "source": [
    "data.head()"
   ]
  },
  {
   "cell_type": "code",
   "execution_count": 127,
   "id": "1050831b-6cba-4111-bf87-ca9056ddda39",
   "metadata": {},
   "outputs": [],
   "source": [
    "data = data[['p1', 'p2']]"
   ]
  },
  {
   "cell_type": "code",
   "execution_count": 128,
   "id": "d41ec7ca-bf68-43a0-8b5c-329e46ac737d",
   "metadata": {},
   "outputs": [
    {
     "data": {
      "text/html": [
       "<div>\n",
       "<style scoped>\n",
       "    .dataframe tbody tr th:only-of-type {\n",
       "        vertical-align: middle;\n",
       "    }\n",
       "\n",
       "    .dataframe tbody tr th {\n",
       "        vertical-align: top;\n",
       "    }\n",
       "\n",
       "    .dataframe thead th {\n",
       "        text-align: right;\n",
       "    }\n",
       "</style>\n",
       "<table border=\"1\" class=\"dataframe\">\n",
       "  <thead>\n",
       "    <tr style=\"text-align: right;\">\n",
       "      <th></th>\n",
       "      <th>p1</th>\n",
       "      <th>p2</th>\n",
       "    </tr>\n",
       "  </thead>\n",
       "  <tbody>\n",
       "    <tr>\n",
       "      <th>0</th>\n",
       "      <td>Human 1: Hi!\\n</td>\n",
       "      <td>Human 2: What is your favorite holiday?\\n</td>\n",
       "    </tr>\n",
       "    <tr>\n",
       "      <th>2</th>\n",
       "      <td>Human 1: one where I get to meet lots of diffe...</td>\n",
       "      <td>Human 2: What was the most number of people yo...</td>\n",
       "    </tr>\n",
       "    <tr>\n",
       "      <th>4</th>\n",
       "      <td>Human 1: Hard to keep a count. Maybe 25.\\n</td>\n",
       "      <td>Human 2: Which holiday was that?\\n</td>\n",
       "    </tr>\n",
       "    <tr>\n",
       "      <th>6</th>\n",
       "      <td>Human 1: I think it was Australia\\n</td>\n",
       "      <td>Human 2: Do you still talk to the people you m...</td>\n",
       "    </tr>\n",
       "    <tr>\n",
       "      <th>8</th>\n",
       "      <td>Human 1: Not really. The interactions are usua...</td>\n",
       "      <td>Human 2: Yea, me too. I feel like God often pu...</td>\n",
       "    </tr>\n",
       "    <tr>\n",
       "      <th>...</th>\n",
       "      <td>...</td>\n",
       "      <td>...</td>\n",
       "    </tr>\n",
       "    <tr>\n",
       "      <th>1484</th>\n",
       "      <td>Human 1: I'm looking through some old photos o...</td>\n",
       "      <td>Human 2: I feel you. Memeories always flood wh...</td>\n",
       "    </tr>\n",
       "    <tr>\n",
       "      <th>1486</th>\n",
       "      <td>Human 1: It's called &lt;REDACTED_TERM&gt;, on the n...</td>\n",
       "      <td>Human 2: Hope you can take some time to visit ...</td>\n",
       "    </tr>\n",
       "    <tr>\n",
       "      <th>1488</th>\n",
       "      <td>Human 1: Yes, that would be nice. Do you like ...</td>\n",
       "      <td>Human 2: Yes I do. But haven’t been to many pl...</td>\n",
       "    </tr>\n",
       "    <tr>\n",
       "      <th>1490</th>\n",
       "      <td>Human 1: Where would you most like to go, if y...</td>\n",
       "      <td>Human 2: Fly to the moon :) Haha\\n</td>\n",
       "    </tr>\n",
       "    <tr>\n",
       "      <th>1492</th>\n",
       "      <td>Human 1: Wow, cool! I think space tourism is g...</td>\n",
       "      <td>Human 2: Yep! I believe there is a day for that\\n</td>\n",
       "    </tr>\n",
       "  </tbody>\n",
       "</table>\n",
       "<p>730 rows × 2 columns</p>\n",
       "</div>"
      ],
      "text/plain": [
       "                                                     p1  \\\n",
       "0                                        Human 1: Hi!\\n   \n",
       "2     Human 1: one where I get to meet lots of diffe...   \n",
       "4            Human 1: Hard to keep a count. Maybe 25.\\n   \n",
       "6                   Human 1: I think it was Australia\\n   \n",
       "8     Human 1: Not really. The interactions are usua...   \n",
       "...                                                 ...   \n",
       "1484  Human 1: I'm looking through some old photos o...   \n",
       "1486  Human 1: It's called <REDACTED_TERM>, on the n...   \n",
       "1488  Human 1: Yes, that would be nice. Do you like ...   \n",
       "1490  Human 1: Where would you most like to go, if y...   \n",
       "1492  Human 1: Wow, cool! I think space tourism is g...   \n",
       "\n",
       "                                                     p2  \n",
       "0             Human 2: What is your favorite holiday?\\n  \n",
       "2     Human 2: What was the most number of people yo...  \n",
       "4                    Human 2: Which holiday was that?\\n  \n",
       "6     Human 2: Do you still talk to the people you m...  \n",
       "8     Human 2: Yea, me too. I feel like God often pu...  \n",
       "...                                                 ...  \n",
       "1484  Human 2: I feel you. Memeories always flood wh...  \n",
       "1486  Human 2: Hope you can take some time to visit ...  \n",
       "1488  Human 2: Yes I do. But haven’t been to many pl...  \n",
       "1490                 Human 2: Fly to the moon :) Haha\\n  \n",
       "1492  Human 2: Yep! I believe there is a day for that\\n  \n",
       "\n",
       "[730 rows x 2 columns]"
      ]
     },
     "execution_count": 128,
     "metadata": {},
     "output_type": "execute_result"
    }
   ],
   "source": [
    "data"
   ]
  },
  {
   "cell_type": "code",
   "execution_count": 129,
   "id": "c0e83942-44e0-48b1-87f6-398ab79def23",
   "metadata": {},
   "outputs": [
    {
     "name": "stdout",
     "output_type": "stream",
     "text": [
      " is the   name   gooog.\n"
     ]
    }
   ],
   "source": [
    "aa = 'what : is the : name : gooog.'\n",
    "print(' '.join(aa.split(':')[1:]))"
   ]
  },
  {
   "cell_type": "code",
   "execution_count": 130,
   "id": "211b2b06-6f43-4541-89ec-3bd3704501b6",
   "metadata": {},
   "outputs": [],
   "source": [
    "data['p1'] = data['p1'].apply(lambda x : ' '.join(x.split(':')[1:]))\n",
    "data['p2'] = data['p2'].apply(lambda x : ' '.join(x.split(':')[1:]))"
   ]
  },
  {
   "cell_type": "code",
   "execution_count": 131,
   "id": "0077cbd8-9583-4542-aad4-d516de5bb367",
   "metadata": {},
   "outputs": [
    {
     "data": {
      "text/html": [
       "<div>\n",
       "<style scoped>\n",
       "    .dataframe tbody tr th:only-of-type {\n",
       "        vertical-align: middle;\n",
       "    }\n",
       "\n",
       "    .dataframe tbody tr th {\n",
       "        vertical-align: top;\n",
       "    }\n",
       "\n",
       "    .dataframe thead th {\n",
       "        text-align: right;\n",
       "    }\n",
       "</style>\n",
       "<table border=\"1\" class=\"dataframe\">\n",
       "  <thead>\n",
       "    <tr style=\"text-align: right;\">\n",
       "      <th></th>\n",
       "      <th>p1</th>\n",
       "      <th>p2</th>\n",
       "    </tr>\n",
       "  </thead>\n",
       "  <tbody>\n",
       "    <tr>\n",
       "      <th>0</th>\n",
       "      <td>Hi!\\n</td>\n",
       "      <td>What is your favorite holiday?\\n</td>\n",
       "    </tr>\n",
       "    <tr>\n",
       "      <th>2</th>\n",
       "      <td>one where I get to meet lots of different peo...</td>\n",
       "      <td>What was the most number of people you have e...</td>\n",
       "    </tr>\n",
       "    <tr>\n",
       "      <th>4</th>\n",
       "      <td>Hard to keep a count. Maybe 25.\\n</td>\n",
       "      <td>Which holiday was that?\\n</td>\n",
       "    </tr>\n",
       "    <tr>\n",
       "      <th>6</th>\n",
       "      <td>I think it was Australia\\n</td>\n",
       "      <td>Do you still talk to the people you met?\\n</td>\n",
       "    </tr>\n",
       "    <tr>\n",
       "      <th>8</th>\n",
       "      <td>Not really. The interactions are usually shor...</td>\n",
       "      <td>Yea, me too. I feel like God often puts stran...</td>\n",
       "    </tr>\n",
       "    <tr>\n",
       "      <th>...</th>\n",
       "      <td>...</td>\n",
       "      <td>...</td>\n",
       "    </tr>\n",
       "    <tr>\n",
       "      <th>1484</th>\n",
       "      <td>I'm looking through some old photos of my hom...</td>\n",
       "      <td>I feel you. Memeories always flood when looki...</td>\n",
       "    </tr>\n",
       "    <tr>\n",
       "      <th>1486</th>\n",
       "      <td>It's called &lt;REDACTED_TERM&gt;, on the north coa...</td>\n",
       "      <td>Hope you can take some time to visit pretty s...</td>\n",
       "    </tr>\n",
       "    <tr>\n",
       "      <th>1488</th>\n",
       "      <td>Yes, that would be nice. Do you like travelli...</td>\n",
       "      <td>Yes I do. But haven’t been to many places yet\\n</td>\n",
       "    </tr>\n",
       "    <tr>\n",
       "      <th>1490</th>\n",
       "      <td>Where would you most like to go, if you could?\\n</td>\n",
       "      <td>Fly to the moon  ) Haha\\n</td>\n",
       "    </tr>\n",
       "    <tr>\n",
       "      <th>1492</th>\n",
       "      <td>Wow, cool! I think space tourism is going to ...</td>\n",
       "      <td>Yep! I believe there is a day for that\\n</td>\n",
       "    </tr>\n",
       "  </tbody>\n",
       "</table>\n",
       "<p>730 rows × 2 columns</p>\n",
       "</div>"
      ],
      "text/plain": [
       "                                                     p1  \\\n",
       "0                                                 Hi!\\n   \n",
       "2      one where I get to meet lots of different peo...   \n",
       "4                     Hard to keep a count. Maybe 25.\\n   \n",
       "6                            I think it was Australia\\n   \n",
       "8      Not really. The interactions are usually shor...   \n",
       "...                                                 ...   \n",
       "1484   I'm looking through some old photos of my hom...   \n",
       "1486   It's called <REDACTED_TERM>, on the north coa...   \n",
       "1488   Yes, that would be nice. Do you like travelli...   \n",
       "1490   Where would you most like to go, if you could?\\n   \n",
       "1492   Wow, cool! I think space tourism is going to ...   \n",
       "\n",
       "                                                     p2  \n",
       "0                      What is your favorite holiday?\\n  \n",
       "2      What was the most number of people you have e...  \n",
       "4                             Which holiday was that?\\n  \n",
       "6            Do you still talk to the people you met?\\n  \n",
       "8      Yea, me too. I feel like God often puts stran...  \n",
       "...                                                 ...  \n",
       "1484   I feel you. Memeories always flood when looki...  \n",
       "1486   Hope you can take some time to visit pretty s...  \n",
       "1488    Yes I do. But haven’t been to many places yet\\n  \n",
       "1490                          Fly to the moon  ) Haha\\n  \n",
       "1492           Yep! I believe there is a day for that\\n  \n",
       "\n",
       "[730 rows x 2 columns]"
      ]
     },
     "execution_count": 131,
     "metadata": {},
     "output_type": "execute_result"
    }
   ],
   "source": [
    "data"
   ]
  },
  {
   "cell_type": "code",
   "execution_count": 132,
   "id": "cdc8a14e-10f6-45d1-94f8-42cb6b0ba26a",
   "metadata": {},
   "outputs": [],
   "source": [
    "data['p1'] = data['p1'].apply(lambda x : x.replace(\"\\n\", \"\"))\n",
    "data['p2'] = data['p2'].apply(lambda x : x.replace(\"\\n\", \"\"))"
   ]
  },
  {
   "cell_type": "code",
   "execution_count": 133,
   "id": "d214e89d-df4d-41f1-a701-caab7cd778fe",
   "metadata": {},
   "outputs": [
    {
     "data": {
      "text/html": [
       "<div>\n",
       "<style scoped>\n",
       "    .dataframe tbody tr th:only-of-type {\n",
       "        vertical-align: middle;\n",
       "    }\n",
       "\n",
       "    .dataframe tbody tr th {\n",
       "        vertical-align: top;\n",
       "    }\n",
       "\n",
       "    .dataframe thead th {\n",
       "        text-align: right;\n",
       "    }\n",
       "</style>\n",
       "<table border=\"1\" class=\"dataframe\">\n",
       "  <thead>\n",
       "    <tr style=\"text-align: right;\">\n",
       "      <th></th>\n",
       "      <th>p1</th>\n",
       "      <th>p2</th>\n",
       "    </tr>\n",
       "  </thead>\n",
       "  <tbody>\n",
       "    <tr>\n",
       "      <th>0</th>\n",
       "      <td>Hi!</td>\n",
       "      <td>What is your favorite holiday?</td>\n",
       "    </tr>\n",
       "    <tr>\n",
       "      <th>2</th>\n",
       "      <td>one where I get to meet lots of different peo...</td>\n",
       "      <td>What was the most number of people you have e...</td>\n",
       "    </tr>\n",
       "    <tr>\n",
       "      <th>4</th>\n",
       "      <td>Hard to keep a count. Maybe 25.</td>\n",
       "      <td>Which holiday was that?</td>\n",
       "    </tr>\n",
       "    <tr>\n",
       "      <th>6</th>\n",
       "      <td>I think it was Australia</td>\n",
       "      <td>Do you still talk to the people you met?</td>\n",
       "    </tr>\n",
       "    <tr>\n",
       "      <th>8</th>\n",
       "      <td>Not really. The interactions are usually shor...</td>\n",
       "      <td>Yea, me too. I feel like God often puts stran...</td>\n",
       "    </tr>\n",
       "  </tbody>\n",
       "</table>\n",
       "</div>"
      ],
      "text/plain": [
       "                                                  p1  \\\n",
       "0                                                Hi!   \n",
       "2   one where I get to meet lots of different peo...   \n",
       "4                    Hard to keep a count. Maybe 25.   \n",
       "6                           I think it was Australia   \n",
       "8   Not really. The interactions are usually shor...   \n",
       "\n",
       "                                                  p2  \n",
       "0                     What is your favorite holiday?  \n",
       "2   What was the most number of people you have e...  \n",
       "4                            Which holiday was that?  \n",
       "6           Do you still talk to the people you met?  \n",
       "8   Yea, me too. I feel like God often puts stran...  "
      ]
     },
     "execution_count": 133,
     "metadata": {},
     "output_type": "execute_result"
    }
   ],
   "source": [
    "data.head()"
   ]
  },
  {
   "cell_type": "code",
   "execution_count": 134,
   "id": "4c13e09c-644c-4c62-b25b-94cca0eca4b7",
   "metadata": {},
   "outputs": [],
   "source": [
    "data.columns = ['col1', 'col2']"
   ]
  },
  {
   "cell_type": "code",
   "execution_count": 136,
   "id": "61437949-58ba-414d-b383-4b119cc8af9c",
   "metadata": {},
   "outputs": [],
   "source": [
    "data.to_csv('human_dataset.csv')"
   ]
  },
  {
   "cell_type": "code",
   "execution_count": null,
   "id": "7ee2ef8c-6b06-4d4b-9636-135fe5a70062",
   "metadata": {},
   "outputs": [],
   "source": []
  }
 ],
 "metadata": {
  "kernelspec": {
   "display_name": "tf_new",
   "language": "python",
   "name": "tf_new"
  },
  "language_info": {
   "codemirror_mode": {
    "name": "ipython",
    "version": 3
   },
   "file_extension": ".py",
   "mimetype": "text/x-python",
   "name": "python",
   "nbconvert_exporter": "python",
   "pygments_lexer": "ipython3",
   "version": "3.9.16"
  }
 },
 "nbformat": 4,
 "nbformat_minor": 5
}
