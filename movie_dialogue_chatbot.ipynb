{
 "cells": [
  {
   "cell_type": "markdown",
   "id": "8280d970-42ed-4e4f-a1be-61514d137d4f",
   "metadata": {},
   "source": [
    "# ChatBot (Data Preparation)"
   ]
  },
  {
   "cell_type": "code",
   "execution_count": 2,
   "id": "l3-Va26WjY0Y",
   "metadata": {
    "colab": {
     "base_uri": "https://localhost:8080/"
    },
    "id": "l3-Va26WjY0Y",
    "outputId": "9a02c65d-1b4f-444b-f808-67aa2c5060b6"
   },
   "outputs": [
    {
     "name": "stdout",
     "output_type": "stream",
     "text": [
      "Cloning into 'chatbot-with-attention'...\n",
      "remote: Enumerating objects: 40, done.\u001b[K\n",
      "remote: Counting objects: 100% (40/40), done.\u001b[K\n",
      "remote: Compressing objects: 100% (30/30), done.\u001b[K\n",
      "remote: Total 40 (delta 2), reused 33 (delta 1), pack-reused 0\u001b[K\n",
      "Unpacking objects: 100% (40/40), 35.00 MiB | 7.21 MiB/s, done.\n",
      "/content/chatbot-with-attention\n",
      "\u001b[2K     \u001b[90m━━━━━━━━━━━━━━━━━━━━━━━━━━━━━━━━━━━━━━━━\u001b[0m \u001b[32m5.8/5.8 MB\u001b[0m \u001b[31m87.3 MB/s\u001b[0m eta \u001b[36m0:00:00\u001b[0m\n",
      "\u001b[?25h"
     ]
    }
   ],
   "source": [
    "import sys\n",
    "import os\n",
    "\n",
    "if 'google.colab' in sys.modules:\n",
    "    \n",
    "    from google.colab import drive\n",
    "    drive.mount('/content/drive')\n",
    "    \n",
    "    ! git clone https://github.com/tikendraw/chatbot-with-attention.git \n",
    "    os.chdir('chatbot-with-attention') \n",
    "    print(os.getcwd())\n",
    "\n",
    "    ! pip install tensorflow==2.11 -q\n",
    "    ! pip install tensorflow-text -q"
   ]
  },
  {
   "cell_type": "code",
   "execution_count": 1,
   "id": "55dd94cd-06fb-4dba-a2c9-3a366e216863",
   "metadata": {
    "colab": {
     "base_uri": "https://localhost:8080/"
    },
    "id": "55dd94cd-06fb-4dba-a2c9-3a366e216863",
    "outputId": "ccecbd83-5983-4e8a-c3b5-e655de65be50"
   },
   "outputs": [
    {
     "name": "stderr",
     "output_type": "stream",
     "text": [
      "2023-02-27 21:29:29.014704: I tensorflow/core/platform/cpu_feature_guard.cc:193] This TensorFlow binary is optimized with oneAPI Deep Neural Network Library (oneDNN) to use the following CPU instructions in performance-critical operations:  AVX2 FMA\n",
      "To enable them in other operations, rebuild TensorFlow with the appropriate compiler flags.\n",
      "2023-02-27 21:29:30.647250: W tensorflow/compiler/xla/stream_executor/platform/default/dso_loader.cc:64] Could not load dynamic library 'libnvinfer.so.7'; dlerror: libnvinfer.so.7: cannot open shared object file: No such file or directory; LD_LIBRARY_PATH: :/home/t/miniconda3/envs/tf_new/lib/\n",
      "2023-02-27 21:29:30.647353: W tensorflow/compiler/xla/stream_executor/platform/default/dso_loader.cc:64] Could not load dynamic library 'libnvinfer_plugin.so.7'; dlerror: libnvinfer_plugin.so.7: cannot open shared object file: No such file or directory; LD_LIBRARY_PATH: :/home/t/miniconda3/envs/tf_new/lib/\n",
      "2023-02-27 21:29:30.647361: W tensorflow/compiler/tf2tensorrt/utils/py_utils.cc:38] TF-TRT Warning: Cannot dlopen some TensorRT libraries. If you would like to use Nvidia GPU with TensorRT, please make sure the missing libraries mentioned above are installed properly.\n"
     ]
    },
    {
     "name": "stdout",
     "output_type": "stream",
     "text": [
      "GPU Avaliable:  1\n"
     ]
    },
    {
     "name": "stderr",
     "output_type": "stream",
     "text": [
      "2023-02-27 21:29:32.132682: I tensorflow/compiler/xla/stream_executor/cuda/cuda_gpu_executor.cc:981] successful NUMA node read from SysFS had negative value (-1), but there must be at least one NUMA node, so returning NUMA node zero\n",
      "2023-02-27 21:29:32.171709: I tensorflow/compiler/xla/stream_executor/cuda/cuda_gpu_executor.cc:981] successful NUMA node read from SysFS had negative value (-1), but there must be at least one NUMA node, so returning NUMA node zero\n",
      "2023-02-27 21:29:32.172141: I tensorflow/compiler/xla/stream_executor/cuda/cuda_gpu_executor.cc:981] successful NUMA node read from SysFS had negative value (-1), but there must be at least one NUMA node, so returning NUMA node zero\n"
     ]
    }
   ],
   "source": [
    "import zipfile\n",
    "import seaborn as sns\n",
    "import random, os\n",
    "import pandas as pd\n",
    "import numpy as np\n",
    "import tensorflow as tf\n",
    "from tensorflow import keras\n",
    "from sklearn.model_selection import train_test_split\n",
    "from tensorflow.keras.layers import TextVectorization, Embedding, LSTM, GRU, Bidirectional, TimeDistributed, Dense, Attention, MultiHeadAttention\n",
    "import tensorflow_text as tf_text\n",
    "import pickle\n",
    "from datetime import datetime\n",
    "import matplotlib.pyplot as plt\n",
    "from tensorflow.keras.callbacks import CSVLogger\n",
    "\n",
    "print('GPU Avaliable: ', gpu:=len(tf.config.list_physical_devices('GPU')))\n",
    "if gpu:\n",
    "    pass\n",
    "\n"
   ]
  },
  {
   "cell_type": "code",
   "execution_count": 3,
   "id": "753818c9-d137-4fa1-a9a2-9d50d577ce66",
   "metadata": {
    "id": "753818c9-d137-4fa1-a9a2-9d50d577ce66"
   },
   "outputs": [],
   "source": [
    "data = pd.read_csv('./dataset.csv',sep = '\\t',encoding='latin1', names = ['col1','col2'])"
   ]
  },
  {
   "cell_type": "code",
   "execution_count": 4,
   "id": "480362ff-ec17-472e-b205-95896f3f561d",
   "metadata": {
    "colab": {
     "base_uri": "https://localhost:8080/",
     "height": 206
    },
    "id": "480362ff-ec17-472e-b205-95896f3f561d",
    "outputId": "418e1dc4-35c1-4019-f81e-5961d1818c6b"
   },
   "outputs": [
    {
     "data": {
      "text/html": [
       "<div>\n",
       "<style scoped>\n",
       "    .dataframe tbody tr th:only-of-type {\n",
       "        vertical-align: middle;\n",
       "    }\n",
       "\n",
       "    .dataframe tbody tr th {\n",
       "        vertical-align: top;\n",
       "    }\n",
       "\n",
       "    .dataframe thead th {\n",
       "        text-align: right;\n",
       "    }\n",
       "</style>\n",
       "<table border=\"1\" class=\"dataframe\">\n",
       "  <thead>\n",
       "    <tr style=\"text-align: right;\">\n",
       "      <th></th>\n",
       "      <th>col1</th>\n",
       "      <th>col2</th>\n",
       "    </tr>\n",
       "  </thead>\n",
       "  <tbody>\n",
       "    <tr>\n",
       "      <th>0</th>\n",
       "      <td>Can we make this quick?  Roxanne Korrine and A...</td>\n",
       "      <td>Well, I thought we'd start with pronunciation,...</td>\n",
       "    </tr>\n",
       "    <tr>\n",
       "      <th>1</th>\n",
       "      <td>Well, I thought we'd start with pronunciation,...</td>\n",
       "      <td>Not the hacking and gagging and spitting part....</td>\n",
       "    </tr>\n",
       "    <tr>\n",
       "      <th>2</th>\n",
       "      <td>Not the hacking and gagging and spitting part....</td>\n",
       "      <td>Okay... then how 'bout we try out some French ...</td>\n",
       "    </tr>\n",
       "    <tr>\n",
       "      <th>3</th>\n",
       "      <td>You're asking me out.  That's so cute. What's ...</td>\n",
       "      <td>Forget it.</td>\n",
       "    </tr>\n",
       "    <tr>\n",
       "      <th>4</th>\n",
       "      <td>No, no, it's my fault -- we didn't have a prop...</td>\n",
       "      <td>Cameron.</td>\n",
       "    </tr>\n",
       "  </tbody>\n",
       "</table>\n",
       "</div>"
      ],
      "text/plain": [
       "                                                col1  \\\n",
       "0  Can we make this quick?  Roxanne Korrine and A...   \n",
       "1  Well, I thought we'd start with pronunciation,...   \n",
       "2  Not the hacking and gagging and spitting part....   \n",
       "3  You're asking me out.  That's so cute. What's ...   \n",
       "4  No, no, it's my fault -- we didn't have a prop...   \n",
       "\n",
       "                                                col2  \n",
       "0  Well, I thought we'd start with pronunciation,...  \n",
       "1  Not the hacking and gagging and spitting part....  \n",
       "2  Okay... then how 'bout we try out some French ...  \n",
       "3                                         Forget it.  \n",
       "4                                           Cameron.  "
      ]
     },
     "execution_count": 4,
     "metadata": {},
     "output_type": "execute_result"
    }
   ],
   "source": [
    "# show the data\n",
    "data.head()"
   ]
  },
  {
   "cell_type": "code",
   "execution_count": 5,
   "id": "74eb0854-494c-4599-92af-99ec3e6ef160",
   "metadata": {
    "colab": {
     "base_uri": "https://localhost:8080/"
    },
    "id": "74eb0854-494c-4599-92af-99ec3e6ef160",
    "outputId": "0080516b-f98f-4eae-8624-1488da3b0afb"
   },
   "outputs": [
    {
     "data": {
      "text/plain": [
       "col1    0\n",
       "col2    0\n",
       "dtype: int64"
      ]
     },
     "execution_count": 5,
     "metadata": {},
     "output_type": "execute_result"
    }
   ],
   "source": [
    "# check for null values\n",
    "data.isnull().sum()"
   ]
  },
  {
   "cell_type": "code",
   "execution_count": 6,
   "id": "a34cf9fc-4a8b-43b3-bd88-03c851f09603",
   "metadata": {
    "id": "a34cf9fc-4a8b-43b3-bd88-03c851f09603"
   },
   "outputs": [],
   "source": [
    "# senetence lenght of conversations\n",
    "data['col1_length'] = data.col1.apply(lambda x: len(str(x).split()))\n",
    "data['col2_length'] = data.col2.apply(lambda x: len(str(x).split()))"
   ]
  },
  {
   "cell_type": "code",
   "execution_count": 7,
   "id": "b510cba2-061e-4bca-9b28-c0f50482100c",
   "metadata": {
    "colab": {
     "base_uri": "https://localhost:8080/",
     "height": 206
    },
    "id": "b510cba2-061e-4bca-9b28-c0f50482100c",
    "outputId": "13412341-4e74-4f95-b914-9849791169b0"
   },
   "outputs": [
    {
     "data": {
      "text/html": [
       "<div>\n",
       "<style scoped>\n",
       "    .dataframe tbody tr th:only-of-type {\n",
       "        vertical-align: middle;\n",
       "    }\n",
       "\n",
       "    .dataframe tbody tr th {\n",
       "        vertical-align: top;\n",
       "    }\n",
       "\n",
       "    .dataframe thead th {\n",
       "        text-align: right;\n",
       "    }\n",
       "</style>\n",
       "<table border=\"1\" class=\"dataframe\">\n",
       "  <thead>\n",
       "    <tr style=\"text-align: right;\">\n",
       "      <th></th>\n",
       "      <th>col1</th>\n",
       "      <th>col2</th>\n",
       "      <th>col1_length</th>\n",
       "      <th>col2_length</th>\n",
       "    </tr>\n",
       "  </thead>\n",
       "  <tbody>\n",
       "    <tr>\n",
       "      <th>0</th>\n",
       "      <td>Can we make this quick?  Roxanne Korrine and A...</td>\n",
       "      <td>Well, I thought we'd start with pronunciation,...</td>\n",
       "      <td>22</td>\n",
       "      <td>12</td>\n",
       "    </tr>\n",
       "    <tr>\n",
       "      <th>1</th>\n",
       "      <td>Well, I thought we'd start with pronunciation,...</td>\n",
       "      <td>Not the hacking and gagging and spitting part....</td>\n",
       "      <td>12</td>\n",
       "      <td>9</td>\n",
       "    </tr>\n",
       "    <tr>\n",
       "      <th>2</th>\n",
       "      <td>Not the hacking and gagging and spitting part....</td>\n",
       "      <td>Okay... then how 'bout we try out some French ...</td>\n",
       "      <td>9</td>\n",
       "      <td>12</td>\n",
       "    </tr>\n",
       "    <tr>\n",
       "      <th>3</th>\n",
       "      <td>You're asking me out.  That's so cute. What's ...</td>\n",
       "      <td>Forget it.</td>\n",
       "      <td>11</td>\n",
       "      <td>2</td>\n",
       "    </tr>\n",
       "    <tr>\n",
       "      <th>4</th>\n",
       "      <td>No, no, it's my fault -- we didn't have a prop...</td>\n",
       "      <td>Cameron.</td>\n",
       "      <td>13</td>\n",
       "      <td>1</td>\n",
       "    </tr>\n",
       "  </tbody>\n",
       "</table>\n",
       "</div>"
      ],
      "text/plain": [
       "                                                col1  \\\n",
       "0  Can we make this quick?  Roxanne Korrine and A...   \n",
       "1  Well, I thought we'd start with pronunciation,...   \n",
       "2  Not the hacking and gagging and spitting part....   \n",
       "3  You're asking me out.  That's so cute. What's ...   \n",
       "4  No, no, it's my fault -- we didn't have a prop...   \n",
       "\n",
       "                                                col2  col1_length  col2_length  \n",
       "0  Well, I thought we'd start with pronunciation,...           22           12  \n",
       "1  Not the hacking and gagging and spitting part....           12            9  \n",
       "2  Okay... then how 'bout we try out some French ...            9           12  \n",
       "3                                         Forget it.           11            2  \n",
       "4                                           Cameron.           13            1  "
      ]
     },
     "execution_count": 7,
     "metadata": {},
     "output_type": "execute_result"
    }
   ],
   "source": [
    "data.head()"
   ]
  },
  {
   "cell_type": "code",
   "execution_count": 8,
   "id": "e994e6b0-6421-4b53-997a-2534d0b34ab9",
   "metadata": {
    "id": "e994e6b0-6421-4b53-997a-2534d0b34ab9"
   },
   "outputs": [],
   "source": [
    "\n",
    "def distplot_axis(x:np.array, axis:list=list(range(95,100)), percent:int = 99,where_text:int = 5000,xlim:list=None, ylim:list=None, **kwargs):\n",
    "    # plt.figure(figsize = (15,7))\n",
    "    plt.grid()\n",
    "\n",
    "    plt.hist(x , bins = 50, **kwargs)\n",
    "    # Title Word Count distribution\n",
    "    try:\n",
    "        plt.xlim(xlim[0], xlim[1])\n",
    "        plt.ylim(ylim[0], ylim[1])\n",
    "    except:\n",
    "        pass\n",
    "\n",
    "    plt.xlabel('word length')\n",
    "    plt.ylabel('Count')\n",
    "    for i in axis:\n",
    "        plt.axvline(x = np.percentile(x, i), color = 'b', label = 'axvline - full height')\n",
    "        # random_pixel = \n",
    "        try:\n",
    "            plt.text(np.percentile(x, i),where_text,f'{i} percent',rotation=90)\n",
    "        except:\n",
    "            pass\n",
    "\n",
    "    plt.title(f'Text Word Count distribution: {np.percentile(x, percent)} words cover {percent}% of text data')\n",
    "\n"
   ]
  },
  {
   "cell_type": "code",
   "execution_count": 9,
   "id": "9f742027-9ec2-4fe8-83b7-fee1b48c6629",
   "metadata": {
    "colab": {
     "base_uri": "https://localhost:8080/",
     "height": 532
    },
    "id": "9f742027-9ec2-4fe8-83b7-fee1b48c6629",
    "outputId": "f51ae7b7-c976-4648-afd3-4d2917db659e"
   },
   "outputs": [
    {
     "data": {
      "image/png": "[encoded data removed]",
      "text/plain": [
       "<Figure size 3000x1000 with 2 Axes>"
      ]
     },
     "metadata": {},
     "output_type": "display_data"
    }
   ],
   "source": [
    "plt.figure(figsize = (30,10))\n",
    "\n",
    "plt.subplot(1,2,1)\n",
    "distplot_axis(data.col1_length,where_text = 50000, xlim=[0,100])\n",
    "\n",
    "\n",
    "plt.subplot(1,2,2)\n",
    "distplot_axis(data.col2_length,where_text = 50000, xlim=[0,100])"
   ]
  },
  {
   "cell_type": "code",
   "execution_count": 10,
   "id": "9cb37f91-980c-49b6-973c-df00e36e3dc8",
   "metadata": {
    "id": "9cb37f91-980c-49b6-973c-df00e36e3dc8"
   },
   "outputs": [],
   "source": [
    "MAX_OUTPUT_LENGTH = 102\n",
    "BATCH_SIZE = 32\n",
    "UNITS = 64\n",
    "EMBEDDING_DIMS = 50"
   ]
  },
  {
   "cell_type": "markdown",
   "id": "cb2ae3aa-d41e-40ab-b5fd-ab55213a058b",
   "metadata": {
    "id": "cb2ae3aa-d41e-40ab-b5fd-ab55213a058b"
   },
   "source": [
    "# Splitting Data"
   ]
  },
  {
   "cell_type": "code",
   "execution_count": 11,
   "id": "9fcd716c-a264-40aa-82df-74b04e8078e4",
   "metadata": {
    "id": "9fcd716c-a264-40aa-82df-74b04e8078e4"
   },
   "outputs": [],
   "source": [
    "xtrain, xtest, ytrain, ytest = train_test_split(data['col1'],data['col2'], train_size=.05 , test_size=.005, random_state= 44)"
   ]
  },
  {
   "cell_type": "code",
   "execution_count": 12,
   "id": "3b87a01a-21d9-470d-8590-3e6595db5c7f",
   "metadata": {
    "colab": {
     "base_uri": "https://localhost:8080/"
    },
    "id": "3b87a01a-21d9-470d-8590-3e6595db5c7f",
    "outputId": "7d1f76b5-e355-408c-bcba-4c7123cc230a"
   },
   "outputs": [
    {
     "name": "stdout",
     "output_type": "stream",
     "text": [
      "xtrain.shape=(210217,)\n",
      "ytrain.shape=(210217,)\n",
      "xtest.shape=(11065,)\n",
      "ytest.shape=(11065,)\n"
     ]
    }
   ],
   "source": [
    "print(f'{xtrain.shape=}')\n",
    "print(f'{ytrain.shape=}')\n",
    "print(f'{xtest.shape=}')\n",
    "print(f'{ytest.shape=}')"
   ]
  },
  {
   "cell_type": "code",
   "execution_count": 13,
   "id": "8aecfc2a-f938-4544-8978-0f067bf14d60",
   "metadata": {
    "id": "8aecfc2a-f938-4544-8978-0f067bf14d60"
   },
   "outputs": [
    {
     "name": "stderr",
     "output_type": "stream",
     "text": [
      "2023-02-27 21:30:32.293403: I tensorflow/core/platform/cpu_feature_guard.cc:193] This TensorFlow binary is optimized with oneAPI Deep Neural Network Library (oneDNN) to use the following CPU instructions in performance-critical operations:  AVX2 FMA\n",
      "To enable them in other operations, rebuild TensorFlow with the appropriate compiler flags.\n",
      "2023-02-27 21:30:32.295337: I tensorflow/compiler/xla/stream_executor/cuda/cuda_gpu_executor.cc:981] successful NUMA node read from SysFS had negative value (-1), but there must be at least one NUMA node, so returning NUMA node zero\n",
      "2023-02-27 21:30:32.295566: I tensorflow/compiler/xla/stream_executor/cuda/cuda_gpu_executor.cc:981] successful NUMA node read from SysFS had negative value (-1), but there must be at least one NUMA node, so returning NUMA node zero\n",
      "2023-02-27 21:30:32.295743: I tensorflow/compiler/xla/stream_executor/cuda/cuda_gpu_executor.cc:981] successful NUMA node read from SysFS had negative value (-1), but there must be at least one NUMA node, so returning NUMA node zero\n",
      "2023-02-27 21:30:33.415757: I tensorflow/compiler/xla/stream_executor/cuda/cuda_gpu_executor.cc:981] successful NUMA node read from SysFS had negative value (-1), but there must be at least one NUMA node, so returning NUMA node zero\n",
      "2023-02-27 21:30:33.416612: I tensorflow/compiler/xla/stream_executor/cuda/cuda_gpu_executor.cc:981] successful NUMA node read from SysFS had negative value (-1), but there must be at least one NUMA node, so returning NUMA node zero\n",
      "2023-02-27 21:30:33.416767: I tensorflow/compiler/xla/stream_executor/cuda/cuda_gpu_executor.cc:981] successful NUMA node read from SysFS had negative value (-1), but there must be at least one NUMA node, so returning NUMA node zero\n",
      "2023-02-27 21:30:33.417116: I tensorflow/core/common_runtime/gpu/gpu_device.cc:1613] Created device /job:localhost/replica:0/task:0/device:GPU:0 with 2430 MB memory:  -> device: 0, name: NVIDIA GeForce GTX 1650, pci bus id: 0000:01:00.0, compute capability: 7.5\n"
     ]
    }
   ],
   "source": [
    "train_data = tf.data.Dataset.from_tensor_slices((xtrain.to_list(), ytrain.to_list()))\n",
    "test_data = tf.data.Dataset.from_tensor_slices((xtest.to_list(), ytest.to_list()))"
   ]
  },
  {
   "cell_type": "markdown",
   "id": "949a7dd1-b4b0-41e4-bb05-4c73a27dc032",
   "metadata": {
    "id": "949a7dd1-b4b0-41e4-bb05-4c73a27dc032"
   },
   "source": [
    "# Text Vectorization"
   ]
  },
  {
   "cell_type": "code",
   "execution_count": null,
   "id": "e576575e-580a-4ace-9322-bb96fe9abbe3",
   "metadata": {
    "id": "e576575e-580a-4ace-9322-bb96fe9abbe3"
   },
   "outputs": [],
   "source": []
  },
  {
   "cell_type": "code",
   "execution_count": 14,
   "id": "b598214d-bb37-4831-a2b0-176659c303bf",
   "metadata": {
    "id": "b598214d-bb37-4831-a2b0-176659c303bf"
   },
   "outputs": [],
   "source": [
    "# preprocessing text\n",
    "def tf_lower_and_split_punct_en(text):\n",
    "    # Split accented characters.\n",
    "    text = tf_text.normalize_utf8(text, 'NFKD')\n",
    "    text = tf.strings.lower(text)\n",
    "    # Keep space, a to z, and select punctuation.\n",
    "    text = tf.strings.regex_replace(text, '[^ a-z.?!,¿]', '')\n",
    "    # Add spaces around punctuation.\n",
    "    text = tf.strings.regex_replace(text, '[.?!,¿|]', r' \\0 ')\n",
    "    # Strip whitespace.\n",
    "    text = tf.strings.strip(text)\n",
    "    text = tf.strings.join(['[START]', text, '[END]'], separator=' ')\n",
    "    return text\n",
    "\n"
   ]
  },
  {
   "cell_type": "code",
   "execution_count": null,
   "id": "42461adb-af1c-4568-b26f-c20e3dcda345",
   "metadata": {
    "id": "42461adb-af1c-4568-b26f-c20e3dcda345"
   },
   "outputs": [],
   "source": []
  },
  {
   "cell_type": "code",
   "execution_count": 15,
   "id": "0649c8ec-776f-4084-af5e-e0fb0efa3dd7",
   "metadata": {
    "id": "0649c8ec-776f-4084-af5e-e0fb0efa3dd7"
   },
   "outputs": [],
   "source": [
    "# vectorization\n",
    "vectorizer = TextVectorization(output_sequence_length=MAX_OUTPUT_LENGTH, standardize=tf_lower_and_split_punct_en)"
   ]
  },
  {
   "cell_type": "code",
   "execution_count": 16,
   "id": "52f38aa9-86ff-4658-baa5-9e3a7dbde7a5",
   "metadata": {
    "id": "52f38aa9-86ff-4658-baa5-9e3a7dbde7a5",
    "outputId": "3859a0c7-77ba-4a80-c55f-ae9c1022aafb"
   },
   "outputs": [
    {
     "name": "stdout",
     "output_type": "stream",
     "text": [
      "tf.Tensor(b'is bending down, pulling a tray of sausage rolls into the oven. Both girls look at HONORA silently.', shape=(), dtype=string)\n",
      "tf.Tensor(b'turns around and Juliet presents her with a brown paper bag.', shape=(), dtype=string)\n"
     ]
    }
   ],
   "source": [
    "for i,j in train_data.take(1):\n",
    "    print(i)\n",
    "    print(j)"
   ]
  },
  {
   "cell_type": "code",
   "execution_count": 17,
   "id": "7393b24f-777d-45cb-aa11-8cd0b9d8fb6d",
   "metadata": {
    "id": "7393b24f-777d-45cb-aa11-8cd0b9d8fb6d"
   },
   "outputs": [],
   "source": [
    "\n",
    "# 20.2 s ± 606 ms per loop (mean ± std. dev. of 7 runs, 1 loop each)\n",
    "# 21* 7 == 2 MIN 27 sec\n",
    "vectorizer.adapt(xtrain)"
   ]
  },
  {
   "cell_type": "markdown",
   "id": "b717ebd2-e925-4ac2-afc3-cfa428f79831",
   "metadata": {},
   "source": [
    "## Reading Glove"
   ]
  },
  {
   "cell_type": "code",
   "execution_count": 20,
   "id": "f11377cb-71ad-473d-8419-942f6cf5b435",
   "metadata": {},
   "outputs": [],
   "source": [
    "\n",
    "zi = zipfile.ZipFile('./embedding/glove.6B.50d.zip')\n",
    "zi.extractall('./embedding/')\n",
    "zi.close()"
   ]
  },
  {
   "cell_type": "code",
   "execution_count": 21,
   "id": "4b0ac158-683d-4543-83db-cc72882f5b53",
   "metadata": {},
   "outputs": [
    {
     "name": "stdout",
     "output_type": "stream",
     "text": [
      "Glove Loded!\n"
     ]
    }
   ],
   "source": [
    "embeddings_index = {}\n",
    "with open('./embedding/glove.6B.50d.txt', encoding='utf-8') as f:\n",
    "    for line in f:\n",
    "        values = line.split()\n",
    "        word = values[0]\n",
    "        coefs = np.asarray(values[1:], dtype='float32')\n",
    "        embeddings_index[word] = coefs\n",
    "    f.close()\n",
    "\n",
    "print(\"Glove Loded!\")\n"
   ]
  },
  {
   "cell_type": "code",
   "execution_count": 23,
   "id": "99b2561d-177c-408b-b86b-4a9bd394cf42",
   "metadata": {},
   "outputs": [],
   "source": [
    "word_dict = {word:i for i, word in enumerate(vectorizer.get_vocabulary())}"
   ]
  },
  {
   "cell_type": "code",
   "execution_count": 34,
   "id": "9766d896-100c-468f-8deb-c37d3b030742",
   "metadata": {},
   "outputs": [
    {
     "data": {
      "text/plain": [
       "49580"
      ]
     },
     "execution_count": 34,
     "metadata": {},
     "output_type": "execute_result"
    }
   ],
   "source": [
    "len(word_dict)"
   ]
  },
  {
   "cell_type": "code",
   "execution_count": 31,
   "id": "db5cc131-c4e4-49f2-b303-9194ce7356e4",
   "metadata": {},
   "outputs": [],
   "source": [
    "\n",
    "\n",
    "\n",
    "# \"\"\"\"\"\"\n",
    "# # Create matrix that holds words that occour together\n",
    "# \"\"\"\"\"\"\n",
    "\n",
    "embedding_dimention = 50\n",
    "def embedding_matrix_creater(embedding_dimention, word_index):\n",
    "    embedding_matrix = np.zeros((len(word_index)+1, embedding_dimention))\n",
    "    for word, i in word_index.items():\n",
    "        embedding_vector = embeddings_index.get(word)\n",
    "        if embedding_vector is not None:\n",
    "          # words not found in embedding index will be all-zeros.\n",
    "            embedding_matrix[i] = embedding_vector\n",
    "    return embedding_matrix\n",
    "\n",
    "\n",
    "embedding_matrix = embedding_matrix_creater(50, word_index=word_dict)    \n",
    "\n",
    "VOCAB_SIZE = vectorizer.vocabulary_size()\n",
    "\n",
    "embedding = Embedding(VOCAB_SIZE+1, \n",
    "                  50, \n",
    "                  \n",
    "                  input_length=13,\n",
    "                  trainable=True)\n",
    "\n",
    "embedding.build((None,))\n",
    "embedding.set_weights([embedding_matrix])\n",
    "\n"
   ]
  },
  {
   "cell_type": "code",
   "execution_count": 32,
   "id": "eca8e0e8-56cc-4c35-af13-b2c0e895c14d",
   "metadata": {},
   "outputs": [
    {
     "data": {
      "text/plain": [
       "keras.layers.core.embedding.Embedding"
      ]
     },
     "execution_count": 32,
     "metadata": {},
     "output_type": "execute_result"
    }
   ],
   "source": [
    "type(embed)"
   ]
  },
  {
   "cell_type": "code",
   "execution_count": 35,
   "id": "2de93690-15d5-4e33-8ee7-2205cac58c46",
   "metadata": {},
   "outputs": [
    {
     "data": {
      "text/plain": [
       "numpy.ndarray"
      ]
     },
     "execution_count": 35,
     "metadata": {},
     "output_type": "execute_result"
    }
   ],
   "source": [
    "type(embedding_matrix)"
   ]
  },
  {
   "cell_type": "code",
   "execution_count": 37,
   "id": "d61e3869-88c0-4333-86cc-06e41eb31237",
   "metadata": {},
   "outputs": [],
   "source": [
    "# saving embedding_matrix for further use\n",
    "np.save('./embedding/embedding_matrix.npy',embedding_matrix, allow_pickle=True)"
   ]
  },
  {
   "cell_type": "code",
   "execution_count": null,
   "id": "0ab9a2fe-82c6-4f5e-ad33-9c4cda6caadf",
   "metadata": {},
   "outputs": [],
   "source": []
  },
  {
   "cell_type": "code",
   "execution_count": 28,
   "id": "300a2e38-0165-41d6-b7f5-179a0031e681",
   "metadata": {},
   "outputs": [
    {
     "data": {
      "text/plain": [
       "49580"
      ]
     },
     "execution_count": 28,
     "metadata": {},
     "output_type": "execute_result"
    }
   ],
   "source": [
    "vectorizer.vocabulary_size()"
   ]
  },
  {
   "cell_type": "code",
   "execution_count": 29,
   "id": "a2532a2d-c4f8-48fe-a519-e830944939ad",
   "metadata": {},
   "outputs": [
    {
     "data": {
      "text/plain": [
       "49580"
      ]
     },
     "execution_count": 29,
     "metadata": {},
     "output_type": "execute_result"
    }
   ],
   "source": [
    "len(word_dict)"
   ]
  },
  {
   "cell_type": "code",
   "execution_count": 27,
   "id": "e967a134-418f-436a-a67c-b24387116476",
   "metadata": {},
   "outputs": [
    {
     "data": {
      "text/plain": [
       "(49581, 50)"
      ]
     },
     "execution_count": 27,
     "metadata": {},
     "output_type": "execute_result"
    }
   ],
   "source": [
    "embedding_matrix.shape"
   ]
  },
  {
   "cell_type": "markdown",
   "id": "2567fa46-ee23-44f1-8977-571372b61363",
   "metadata": {
    "id": "2567fa46-ee23-44f1-8977-571372b61363"
   },
   "source": [
    "### saving vectorizer\n",
    "https://stackoverflow.com/questions/65103526/how-to-save-textvectorization-to-disk-in-tensorflow\n"
   ]
  },
  {
   "cell_type": "code",
   "execution_count": null,
   "id": "db9d82af-e17f-418a-8260-3b2aca817913",
   "metadata": {
    "id": "db9d82af-e17f-418a-8260-3b2aca817913"
   },
   "outputs": [],
   "source": [
    "# Pickle the config and weights\n",
    "\n",
    "# os.makedirs('components', exist_ok=True)\n",
    "# pickle.dump({'config': vectorizer.get_config(),\n",
    "#              'weights': vectorizer.get_weights()}\n",
    "#             , open(\"./components/vectorizer.pkl\", \"wb\"))\n"
   ]
  },
  {
   "cell_type": "markdown",
   "id": "e60f71e7-7a9c-40d5-aac8-051e1e6ed656",
   "metadata": {
    "id": "e60f71e7-7a9c-40d5-aac8-051e1e6ed656"
   },
   "source": [
    "### Loading saved vectorizer"
   ]
  },
  {
   "cell_type": "code",
   "execution_count": 16,
   "id": "79d40069-6ffe-4c2c-9c2b-7ed97bc8b6ba",
   "metadata": {
    "colab": {
     "base_uri": "https://localhost:8080/"
    },
    "id": "79d40069-6ffe-4c2c-9c2b-7ed97bc8b6ba",
    "outputId": "2ee1cf92-9918-4ec1-a855-7a9251326216"
   },
   "outputs": [
    {
     "name": "stdout",
     "output_type": "stream",
     "text": [
      "tf.Tensor(\n",
      "[  3  76 144   8   4   0   0   0   0   0   0   0   0   0   0   0   0   0\n",
      "   0   0   0   0   0   0   0   0   0   0   0   0   0   0   0   0   0   0\n",
      "   0   0   0   0   0   0   0   0   0   0   0   0   0   0   0   0   0   0\n",
      "   0   0   0   0   0   0   0   0   0   0   0   0   0   0   0   0   0   0\n",
      "   0   0   0   0   0   0   0   0   0   0   0   0   0   0   0   0   0   0\n",
      "   0   0   0   0   0   0   0   0   0   0   0   0], shape=(102,), dtype=int64)\n"
     ]
    }
   ],
   "source": [
    "# Later you can unpickle and use \n",
    "# `config` to create object and \n",
    "# `weights` to load the trained weights. \n",
    "\n",
    "from_disk = pickle.load(open(\"./components/vectorizer.pkl\", \"rb\"))\n",
    "vectorizer = TextVectorization.from_config(from_disk['config'])\n",
    "# You have to call `adapt` with some dummy data (BUG in Keras)\n",
    "vectorizer.adapt(tf.data.Dataset.from_tensor_slices([\"xyz\"]))\n",
    "vectorizer.set_weights(from_disk['weights'])\n",
    "\n",
    "# Lets see the Vector for word \"this\"\n",
    "print (vectorizer(\"who am i\"))"
   ]
  },
  {
   "cell_type": "code",
   "execution_count": null,
   "id": "a4f55398-b8e3-4b05-a8fc-4138cc1198e9",
   "metadata": {
    "id": "a4f55398-b8e3-4b05-a8fc-4138cc1198e9"
   },
   "outputs": [],
   "source": [
    "def make_vector(x, y):\n",
    "    x = vectorizer(x)\n",
    "    y = vectorizer(y)\n",
    "\n",
    "    x = x[:-1]\n",
    "    y_in = y[:-1]\n",
    "    y_out = y[1:]\n",
    "    return (x,y_in),y_out"
   ]
  },
  {
   "cell_type": "code",
   "execution_count": null,
   "id": "303fe22b-53dd-4761-89c0-b5b4637cde13",
   "metadata": {
    "id": "303fe22b-53dd-4761-89c0-b5b4637cde13"
   },
   "outputs": [],
   "source": [
    "train_data = train_data.map(make_vector).batch(BATCH_SIZE).prefetch(tf.data.AUTOTUNE)\n",
    "test_data = test_data.map(make_vector).batch(BATCH_SIZE).prefetch(tf.data.AUTOTUNE)"
   ]
  },
  {
   "cell_type": "markdown",
   "id": "153aa1f7-7d78-4b32-8519-99df34ae48f2",
   "metadata": {
    "id": "153aa1f7-7d78-4b32-8519-99df34ae48f2"
   },
   "source": [
    "# Saving the Dataset"
   ]
  },
  {
   "cell_type": "code",
   "execution_count": 17,
   "id": "d81d0646-f3b7-4041-b1ad-f90a49f992e3",
   "metadata": {
    "id": "d81d0646-f3b7-4041-b1ad-f90a49f992e3"
   },
   "outputs": [],
   "source": [
    "# %%timeit\n",
    "\n",
    "save_train_data_path = './dataset/train/'\n",
    "save_test_data_path = './dataset/test/'\n",
    "\n",
    "# # save the train_data and test_data\n",
    "# train_data.save(save_train_data_path, compression='GZIP')\n",
    "# test_data.save(save_test_data_path, compression='GZIP')"
   ]
  },
  {
   "cell_type": "code",
   "execution_count": 18,
   "id": "12d202ea-05ef-433a-b055-b2e8a5854e8c",
   "metadata": {
    "id": "12d202ea-05ef-433a-b055-b2e8a5854e8c"
   },
   "outputs": [],
   "source": [
    "#loading the data\n",
    "train_data = tf.data.Dataset.load(save_train_data_path, compression='GZIP')\n",
    "test_data = tf.data.Dataset.load(save_test_data_path, compression='GZIP')"
   ]
  },
  {
   "cell_type": "code",
   "execution_count": null,
   "id": "23114c2b-ba59-4545-ac98-3dccb4723d0a",
   "metadata": {
    "id": "23114c2b-ba59-4545-ac98-3dccb4723d0a"
   },
   "outputs": [],
   "source": []
  },
  {
   "cell_type": "code",
   "execution_count": 19,
   "id": "d607b24a-3408-4efe-b76f-bbf719214e98",
   "metadata": {
    "colab": {
     "base_uri": "https://localhost:8080/"
    },
    "id": "d607b24a-3408-4efe-b76f-bbf719214e98",
    "outputId": "8323e1e9-b9d4-4a4f-f525-88c35b1c22de"
   },
   "outputs": [
    {
     "name": "stdout",
     "output_type": "stream",
     "text": [
      "encoder input\n",
      "[    3    20 10942   120     5  1994    11  6126    14  9357  5660   154\n",
      "     9  7211     2   443   532   105    61 11786]\n",
      "--------------------------------------------\n",
      "decoder input\n",
      "[   3 1361  174   13 3319 4872   69   39   11 1415  764  922    2    4\n",
      "    0    0    0    0    0    0]\n",
      "--------------------------------------------\n",
      "encoder output\n",
      "[1361  174   13 3319 4872   69   39   11 1415  764  922    2    4    0\n",
      "    0    0    0    0    0    0]\n"
     ]
    }
   ],
   "source": [
    "for (enc_input, dec_input), dec_output  in train_data.take(1):\n",
    "    print('encoder input')\n",
    "    print(enc_input[0, :20].numpy())\n",
    "    print('-'*44)\n",
    "    print('decoder input')\n",
    "    print(dec_input[0, :20].numpy()) \n",
    "    print('-'*44)\n",
    "    print('encoder output')\n",
    "    print(dec_output[0, :20].numpy())\n",
    "    break"
   ]
  }
 ],
 "metadata": {
  "accelerator": "GPU",
  "colab": {
   "provenance": []
  },
  "gpuClass": "standard",
  "kernelspec": {
   "display_name": "Python 3 (ipykernel)",
   "language": "python",
   "name": "python3"
  },
  "language_info": {
   "codemirror_mode": {
    "name": "ipython",
    "version": 3
   },
   "file_extension": ".py",
   "mimetype": "text/x-python",
   "name": "python",
   "nbconvert_exporter": "python",
   "pygments_lexer": "ipython3",
   "version": "3.9.16"
  }
 },
 "nbformat": 4,
 "nbformat_minor": 5
}
