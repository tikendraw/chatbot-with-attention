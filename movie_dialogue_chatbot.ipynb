{
 "cells": [
  {
   "cell_type": "markdown",
   "id": "8280d970-42ed-4e4f-a1be-61514d137d4f",
   "metadata": {},
   "source": [
    "# ChatBot (Data Preparation)"
   ]
  },
  {
   "cell_type": "code",
   "execution_count": 1,
   "id": "l3-Va26WjY0Y",
   "metadata": {
    "colab": {
     "base_uri": "https://localhost:8080/"
    },
    "id": "l3-Va26WjY0Y",
    "outputId": "9a02c65d-1b4f-444b-f808-67aa2c5060b6"
   },
   "outputs": [],
   "source": [
    "import sys\n",
    "import os\n",
    "\n",
    "if 'google.colab' in sys.modules:\n",
    "    \n",
    "    from google.colab import drive\n",
    "    drive.mount('/content/drive')\n",
    "    \n",
    "    ! git clone https://github.com/tikendraw/chatbot-with-attention.git \n",
    "    os.chdir('chatbot-with-attention') \n",
    "    print(os.getcwd())\n",
    "\n",
    "    ! pip install tensorflow==2.11 -q\n",
    "    ! pip install tensorflow-text -q"
   ]
  },
  {
   "cell_type": "code",
   "execution_count": 2,
   "id": "55dd94cd-06fb-4dba-a2c9-3a366e216863",
   "metadata": {
    "colab": {
     "base_uri": "https://localhost:8080/"
    },
    "id": "55dd94cd-06fb-4dba-a2c9-3a366e216863",
    "outputId": "ccecbd83-5983-4e8a-c3b5-e655de65be50"
   },
   "outputs": [
    {
     "name": "stderr",
     "output_type": "stream",
     "text": [
      "2023-03-02 16:17:18.190747: I tensorflow/core/platform/cpu_feature_guard.cc:193] This TensorFlow binary is optimized with oneAPI Deep Neural Network Library (oneDNN) to use the following CPU instructions in performance-critical operations:  AVX2 FMA\n",
      "To enable them in other operations, rebuild TensorFlow with the appropriate compiler flags.\n",
      "2023-03-02 16:17:20.013531: W tensorflow/compiler/xla/stream_executor/platform/default/dso_loader.cc:64] Could not load dynamic library 'libnvinfer.so.7'; dlerror: libnvinfer.so.7: cannot open shared object file: No such file or directory; LD_LIBRARY_PATH: :/home/t/miniconda3/envs/tf_new/lib/\n",
      "2023-03-02 16:17:20.013690: W tensorflow/compiler/xla/stream_executor/platform/default/dso_loader.cc:64] Could not load dynamic library 'libnvinfer_plugin.so.7'; dlerror: libnvinfer_plugin.so.7: cannot open shared object file: No such file or directory; LD_LIBRARY_PATH: :/home/t/miniconda3/envs/tf_new/lib/\n",
      "2023-03-02 16:17:20.013700: W tensorflow/compiler/tf2tensorrt/utils/py_utils.cc:38] TF-TRT Warning: Cannot dlopen some TensorRT libraries. If you would like to use Nvidia GPU with TensorRT, please make sure the missing libraries mentioned above are installed properly.\n"
     ]
    },
    {
     "name": "stdout",
     "output_type": "stream",
     "text": [
      "GPU Avaliable:  1\n"
     ]
    },
    {
     "name": "stderr",
     "output_type": "stream",
     "text": [
      "2023-03-02 16:17:21.725913: I tensorflow/compiler/xla/stream_executor/cuda/cuda_gpu_executor.cc:981] successful NUMA node read from SysFS had negative value (-1), but there must be at least one NUMA node, so returning NUMA node zero\n",
      "2023-03-02 16:17:21.769344: I tensorflow/compiler/xla/stream_executor/cuda/cuda_gpu_executor.cc:981] successful NUMA node read from SysFS had negative value (-1), but there must be at least one NUMA node, so returning NUMA node zero\n",
      "2023-03-02 16:17:21.770235: I tensorflow/compiler/xla/stream_executor/cuda/cuda_gpu_executor.cc:981] successful NUMA node read from SysFS had negative value (-1), but there must be at least one NUMA node, so returning NUMA node zero\n"
     ]
    }
   ],
   "source": [
    "import zipfile\n",
    "import seaborn as sns\n",
    "import random, os\n",
    "import pandas as pd\n",
    "import numpy as np\n",
    "import tensorflow as tf\n",
    "from tensorflow import keras\n",
    "from sklearn.model_selection import train_test_split\n",
    "from tensorflow.keras.layers import TextVectorization, Embedding, LSTM, GRU, Bidirectional, TimeDistributed, Dense, Attention, MultiHeadAttention\n",
    "import tensorflow_text as tf_text\n",
    "import pickle\n",
    "from datetime import datetime\n",
    "import matplotlib.pyplot as plt\n",
    "from tensorflow.keras.callbacks import CSVLogger\n",
    "\n",
    "print('GPU Avaliable: ', gpu:=len(tf.config.list_physical_devices('GPU')))\n",
    "if gpu:\n",
    "    pass\n",
    "\n"
   ]
  },
  {
   "cell_type": "code",
   "execution_count": 3,
   "id": "753818c9-d137-4fa1-a9a2-9d50d577ce66",
   "metadata": {
    "id": "753818c9-d137-4fa1-a9a2-9d50d577ce66"
   },
   "outputs": [],
   "source": [
    "data = pd.read_csv('./dataset.csv',sep = '\\t',encoding='latin1', names = ['col1','col2'])\n",
    "data1 = pd.read_csv('./human_chat_dataset/human_dataset.csv',encoding='latin1')"
   ]
  },
  {
   "cell_type": "code",
   "execution_count": 4,
   "id": "480362ff-ec17-472e-b205-95896f3f561d",
   "metadata": {
    "colab": {
     "base_uri": "https://localhost:8080/",
     "height": 206
    },
    "id": "480362ff-ec17-472e-b205-95896f3f561d",
    "outputId": "418e1dc4-35c1-4019-f81e-5961d1818c6b"
   },
   "outputs": [
    {
     "data": {
      "text/html": [
       "<div>\n",
       "<style scoped>\n",
       "    .dataframe tbody tr th:only-of-type {\n",
       "        vertical-align: middle;\n",
       "    }\n",
       "\n",
       "    .dataframe tbody tr th {\n",
       "        vertical-align: top;\n",
       "    }\n",
       "\n",
       "    .dataframe thead th {\n",
       "        text-align: right;\n",
       "    }\n",
       "</style>\n",
       "<table border=\"1\" class=\"dataframe\">\n",
       "  <thead>\n",
       "    <tr style=\"text-align: right;\">\n",
       "      <th></th>\n",
       "      <th>col1</th>\n",
       "      <th>col2</th>\n",
       "    </tr>\n",
       "  </thead>\n",
       "  <tbody>\n",
       "    <tr>\n",
       "      <th>0</th>\n",
       "      <td>Can we make this quick?  Roxanne Korrine and A...</td>\n",
       "      <td>Well, I thought we'd start with pronunciation,...</td>\n",
       "    </tr>\n",
       "    <tr>\n",
       "      <th>1</th>\n",
       "      <td>Well, I thought we'd start with pronunciation,...</td>\n",
       "      <td>Not the hacking and gagging and spitting part....</td>\n",
       "    </tr>\n",
       "    <tr>\n",
       "      <th>2</th>\n",
       "      <td>Not the hacking and gagging and spitting part....</td>\n",
       "      <td>Okay... then how 'bout we try out some French ...</td>\n",
       "    </tr>\n",
       "    <tr>\n",
       "      <th>3</th>\n",
       "      <td>You're asking me out.  That's so cute. What's ...</td>\n",
       "      <td>Forget it.</td>\n",
       "    </tr>\n",
       "    <tr>\n",
       "      <th>4</th>\n",
       "      <td>No, no, it's my fault -- we didn't have a prop...</td>\n",
       "      <td>Cameron.</td>\n",
       "    </tr>\n",
       "  </tbody>\n",
       "</table>\n",
       "</div>"
      ],
      "text/plain": [
       "                                                col1  \\\n",
       "0  Can we make this quick?  Roxanne Korrine and A...   \n",
       "1  Well, I thought we'd start with pronunciation,...   \n",
       "2  Not the hacking and gagging and spitting part....   \n",
       "3  You're asking me out.  That's so cute. What's ...   \n",
       "4  No, no, it's my fault -- we didn't have a prop...   \n",
       "\n",
       "                                                col2  \n",
       "0  Well, I thought we'd start with pronunciation,...  \n",
       "1  Not the hacking and gagging and spitting part....  \n",
       "2  Okay... then how 'bout we try out some French ...  \n",
       "3                                         Forget it.  \n",
       "4                                           Cameron.  "
      ]
     },
     "execution_count": 4,
     "metadata": {},
     "output_type": "execute_result"
    }
   ],
   "source": [
    "# show the data\n",
    "data.head()"
   ]
  },
  {
   "cell_type": "code",
   "execution_count": 5,
   "id": "cb907113-7e96-4189-95f9-35661d37ba75",
   "metadata": {},
   "outputs": [
    {
     "data": {
      "text/plain": [
       "Index(['Unnamed: 0', 'col1', 'col2'], dtype='object')"
      ]
     },
     "execution_count": 5,
     "metadata": {},
     "output_type": "execute_result"
    }
   ],
   "source": [
    "data1.columns"
   ]
  },
  {
   "cell_type": "code",
   "execution_count": 6,
   "id": "58a77315-c68b-4c92-90e2-74bd731ecbeb",
   "metadata": {},
   "outputs": [
    {
     "data": {
      "text/html": [
       "<div>\n",
       "<style scoped>\n",
       "    .dataframe tbody tr th:only-of-type {\n",
       "        vertical-align: middle;\n",
       "    }\n",
       "\n",
       "    .dataframe tbody tr th {\n",
       "        vertical-align: top;\n",
       "    }\n",
       "\n",
       "    .dataframe thead th {\n",
       "        text-align: right;\n",
       "    }\n",
       "</style>\n",
       "<table border=\"1\" class=\"dataframe\">\n",
       "  <thead>\n",
       "    <tr style=\"text-align: right;\">\n",
       "      <th></th>\n",
       "      <th>col1</th>\n",
       "      <th>col2</th>\n",
       "    </tr>\n",
       "  </thead>\n",
       "  <tbody>\n",
       "    <tr>\n",
       "      <th>0</th>\n",
       "      <td>Hi!</td>\n",
       "      <td>What is your favorite holiday?</td>\n",
       "    </tr>\n",
       "    <tr>\n",
       "      <th>1</th>\n",
       "      <td>one where I get to meet lots of different peo...</td>\n",
       "      <td>What was the most number of people you have e...</td>\n",
       "    </tr>\n",
       "    <tr>\n",
       "      <th>2</th>\n",
       "      <td>Hard to keep a count. Maybe 25.</td>\n",
       "      <td>Which holiday was that?</td>\n",
       "    </tr>\n",
       "    <tr>\n",
       "      <th>3</th>\n",
       "      <td>I think it was Australia</td>\n",
       "      <td>Do you still talk to the people you met?</td>\n",
       "    </tr>\n",
       "    <tr>\n",
       "      <th>4</th>\n",
       "      <td>Not really. The interactions are usually shor...</td>\n",
       "      <td>Yea, me too. I feel like God often puts stran...</td>\n",
       "    </tr>\n",
       "  </tbody>\n",
       "</table>\n",
       "</div>"
      ],
      "text/plain": [
       "                                                col1  \\\n",
       "0                                                Hi!   \n",
       "1   one where I get to meet lots of different peo...   \n",
       "2                    Hard to keep a count. Maybe 25.   \n",
       "3                           I think it was Australia   \n",
       "4   Not really. The interactions are usually shor...   \n",
       "\n",
       "                                                col2  \n",
       "0                     What is your favorite holiday?  \n",
       "1   What was the most number of people you have e...  \n",
       "2                            Which holiday was that?  \n",
       "3           Do you still talk to the people you met?  \n",
       "4   Yea, me too. I feel like God often puts stran...  "
      ]
     },
     "execution_count": 6,
     "metadata": {},
     "output_type": "execute_result"
    }
   ],
   "source": [
    "data1.drop('Unnamed: 0', axis = 1, inplace  =True)\n",
    "data1.head()"
   ]
  },
  {
   "cell_type": "code",
   "execution_count": 7,
   "id": "0f98dbc5-6b87-4c63-b27a-49ec3ad8cb17",
   "metadata": {},
   "outputs": [
    {
     "data": {
      "text/plain": [
       "col1    0\n",
       "col2    0\n",
       "dtype: int64"
      ]
     },
     "execution_count": 7,
     "metadata": {},
     "output_type": "execute_result"
    }
   ],
   "source": [
    "data1.isnull().sum()"
   ]
  },
  {
   "cell_type": "code",
   "execution_count": 8,
   "id": "74eb0854-494c-4599-92af-99ec3e6ef160",
   "metadata": {
    "colab": {
     "base_uri": "https://localhost:8080/"
    },
    "id": "74eb0854-494c-4599-92af-99ec3e6ef160",
    "outputId": "0080516b-f98f-4eae-8624-1488da3b0afb"
   },
   "outputs": [
    {
     "data": {
      "text/plain": [
       "col1    0\n",
       "col2    0\n",
       "dtype: int64"
      ]
     },
     "execution_count": 8,
     "metadata": {},
     "output_type": "execute_result"
    }
   ],
   "source": [
    "# check for null values\n",
    "data.isnull().sum()"
   ]
  },
  {
   "cell_type": "code",
   "execution_count": 9,
   "id": "33deca4e-03f2-4d70-a069-e95f8fe467d4",
   "metadata": {},
   "outputs": [
    {
     "data": {
      "text/plain": [
       "(222012, 2)"
      ]
     },
     "execution_count": 9,
     "metadata": {},
     "output_type": "execute_result"
    }
   ],
   "source": [
    "data = pd.concat([data1,data], axis = 0)\n",
    "data.shape"
   ]
  },
  {
   "cell_type": "code",
   "execution_count": 10,
   "id": "a34cf9fc-4a8b-43b3-bd88-03c851f09603",
   "metadata": {
    "id": "a34cf9fc-4a8b-43b3-bd88-03c851f09603"
   },
   "outputs": [],
   "source": [
    "# senetence lenght of conversations\n",
    "data['col1_length'] = data.col1.apply(lambda x: len(str(x).split()))\n",
    "data['col2_length'] = data.col2.apply(lambda x: len(str(x).split()))"
   ]
  },
  {
   "cell_type": "code",
   "execution_count": 25,
   "id": "b510cba2-061e-4bca-9b28-c0f50482100c",
   "metadata": {
    "colab": {
     "base_uri": "https://localhost:8080/",
     "height": 206
    },
    "id": "b510cba2-061e-4bca-9b28-c0f50482100c",
    "outputId": "13412341-4e74-4f95-b914-9849791169b0"
   },
   "outputs": [
    {
     "data": {
      "text/html": [
       "<div>\n",
       "<style scoped>\n",
       "    .dataframe tbody tr th:only-of-type {\n",
       "        vertical-align: middle;\n",
       "    }\n",
       "\n",
       "    .dataframe tbody tr th {\n",
       "        vertical-align: top;\n",
       "    }\n",
       "\n",
       "    .dataframe thead th {\n",
       "        text-align: right;\n",
       "    }\n",
       "</style>\n",
       "<table border=\"1\" class=\"dataframe\">\n",
       "  <thead>\n",
       "    <tr style=\"text-align: right;\">\n",
       "      <th></th>\n",
       "      <th>col1</th>\n",
       "      <th>col2</th>\n",
       "      <th>col1_length</th>\n",
       "      <th>col2_length</th>\n",
       "    </tr>\n",
       "  </thead>\n",
       "  <tbody>\n",
       "    <tr>\n",
       "      <th>0</th>\n",
       "      <td>Hi!</td>\n",
       "      <td>What is your favorite holiday?</td>\n",
       "      <td>1</td>\n",
       "      <td>5</td>\n",
       "    </tr>\n",
       "    <tr>\n",
       "      <th>1</th>\n",
       "      <td>one where I get to meet lots of different peo...</td>\n",
       "      <td>What was the most number of people you have e...</td>\n",
       "      <td>10</td>\n",
       "      <td>14</td>\n",
       "    </tr>\n",
       "    <tr>\n",
       "      <th>2</th>\n",
       "      <td>Hard to keep a count. Maybe 25.</td>\n",
       "      <td>Which holiday was that?</td>\n",
       "      <td>7</td>\n",
       "      <td>4</td>\n",
       "    </tr>\n",
       "    <tr>\n",
       "      <th>3</th>\n",
       "      <td>I think it was Australia</td>\n",
       "      <td>Do you still talk to the people you met?</td>\n",
       "      <td>5</td>\n",
       "      <td>9</td>\n",
       "    </tr>\n",
       "    <tr>\n",
       "      <th>4</th>\n",
       "      <td>Not really. The interactions are usually shor...</td>\n",
       "      <td>Yea, me too. I feel like God often puts stran...</td>\n",
       "      <td>22</td>\n",
       "      <td>44</td>\n",
       "    </tr>\n",
       "  </tbody>\n",
       "</table>\n",
       "</div>"
      ],
      "text/plain": [
       "                                                col1  \\\n",
       "0                                                Hi!   \n",
       "1   one where I get to meet lots of different peo...   \n",
       "2                    Hard to keep a count. Maybe 25.   \n",
       "3                           I think it was Australia   \n",
       "4   Not really. The interactions are usually shor...   \n",
       "\n",
       "                                                col2  col1_length  col2_length  \n",
       "0                     What is your favorite holiday?            1            5  \n",
       "1   What was the most number of people you have e...           10           14  \n",
       "2                            Which holiday was that?            7            4  \n",
       "3           Do you still talk to the people you met?            5            9  \n",
       "4   Yea, me too. I feel like God often puts stran...           22           44  "
      ]
     },
     "execution_count": 25,
     "metadata": {},
     "output_type": "execute_result"
    }
   ],
   "source": [
    "data.head()"
   ]
  },
  {
   "cell_type": "code",
   "execution_count": null,
   "id": "b4bd8d9f-0746-4f02-ac46-4d60f127ea9b",
   "metadata": {},
   "outputs": [],
   "source": []
  },
  {
   "cell_type": "code",
   "execution_count": 26,
   "id": "e994e6b0-6421-4b53-997a-2534d0b34ab9",
   "metadata": {
    "id": "e994e6b0-6421-4b53-997a-2534d0b34ab9"
   },
   "outputs": [],
   "source": [
    "\n",
    "def distplot_axis(x:np.array, axis:list=list(range(95,100)), percent:int = 99,where_text:int = 5000,xlim:list=None, ylim:list=None, **kwargs):\n",
    "    # plt.figure(figsize = (15,7))\n",
    "    plt.grid()\n",
    "\n",
    "    plt.hist(x , bins = 50, **kwargs)\n",
    "    # Title Word Count distribution\n",
    "    try:\n",
    "        plt.xlim(xlim[0], xlim[1])\n",
    "        plt.ylim(ylim[0], ylim[1])\n",
    "    except:\n",
    "        pass\n",
    "\n",
    "    plt.xlabel('word length')\n",
    "    plt.ylabel('Count')\n",
    "    for i in axis:\n",
    "        plt.axvline(x = np.percentile(x, i), color = 'b', label = 'axvline - full height')\n",
    "        # random_pixel = \n",
    "        try:\n",
    "            plt.text(np.percentile(x, i),where_text,f'{i} percent',rotation=90)\n",
    "        except:\n",
    "            pass\n",
    "\n",
    "    plt.title(f'Text Word Count distribution: {np.percentile(x, percent)} words cover {percent}% of text data')\n",
    "\n"
   ]
  },
  {
   "cell_type": "code",
   "execution_count": 27,
   "id": "9f742027-9ec2-4fe8-83b7-fee1b48c6629",
   "metadata": {
    "colab": {
     "base_uri": "https://localhost:8080/",
     "height": 532
    },
    "id": "9f742027-9ec2-4fe8-83b7-fee1b48c6629",
    "outputId": "f51ae7b7-c976-4648-afd3-4d2917db659e"
   },
   "outputs": [
    {
     "data": {
      "image/png": "[encoded data removed]",
      "text/plain": [
       "<Figure size 3000x1000 with 2 Axes>"
      ]
     },
     "metadata": {},
     "output_type": "display_data"
    }
   ],
   "source": [
    "plt.figure(figsize = (30,10))\n",
    "\n",
    "plt.subplot(1,2,1)\n",
    "distplot_axis(data.col1_length,where_text = 50000, xlim=[0,100])\n",
    "\n",
    "\n",
    "plt.subplot(1,2,2)\n",
    "distplot_axis(data.col2_length,where_text = 50000, xlim=[0,100])"
   ]
  },
  {
   "cell_type": "code",
   "execution_count": 28,
   "id": "9cb37f91-980c-49b6-973c-df00e36e3dc8",
   "metadata": {
    "id": "9cb37f91-980c-49b6-973c-df00e36e3dc8"
   },
   "outputs": [],
   "source": [
    "MAX_OUTPUT_LENGTH = 200\n",
    "BATCH_SIZE = 32\n",
    "UNITS = 64\n",
    "EMBEDDING_DIMS = 50"
   ]
  },
  {
   "cell_type": "markdown",
   "id": "cb2ae3aa-d41e-40ab-b5fd-ab55213a058b",
   "metadata": {
    "id": "cb2ae3aa-d41e-40ab-b5fd-ab55213a058b"
   },
   "source": [
    "# Splitting Data"
   ]
  },
  {
   "cell_type": "code",
   "execution_count": 29,
   "id": "47356f14-b4ad-4609-b5fe-8cbcf61a801a",
   "metadata": {},
   "outputs": [],
   "source": [
    "# Here we be using whole data as training data, we want out model to know every word that exist. and test it with a fraction of it. This is not a regresssion or classification.\n",
    "# we will ultimately test with our words\n",
    "\n",
    "# We are trying to give it as much of the data we can"
   ]
  },
  {
   "cell_type": "code",
   "execution_count": 21,
   "id": "078151d9",
   "metadata": {},
   "outputs": [],
   "source": [
    "ss1 = data.iloc[:,[1]]\n",
    "ss0 = data.iloc[:,[0]]\n",
    "\n"
   ]
  },
  {
   "cell_type": "code",
   "execution_count": 22,
   "id": "9fcd716c-a264-40aa-82df-74b04e8078e4",
   "metadata": {
    "id": "9fcd716c-a264-40aa-82df-74b04e8078e4"
   },
   "outputs": [],
   "source": [
    "xtrain, xtest, ytrain, ytest = train_test_split(ss0,ss1, train_size=.05 , test_size=.005, random_state= 44)"
   ]
  },
  {
   "cell_type": "code",
   "execution_count": 23,
   "id": "3b87a01a-21d9-470d-8590-3e6595db5c7f",
   "metadata": {
    "colab": {
     "base_uri": "https://localhost:8080/"
    },
    "id": "3b87a01a-21d9-470d-8590-3e6595db5c7f",
    "outputId": "7d1f76b5-e355-408c-bcba-4c7123cc230a"
   },
   "outputs": [
    {
     "name": "stdout",
     "output_type": "stream",
     "text": [
      "xtrain.shape=(11100, 1)\n",
      "ytrain.shape=(11100, 1)\n",
      "xtest.shape=(1111, 1)\n",
      "ytest.shape=(1111, 1)\n"
     ]
    }
   ],
   "source": [
    "print(f'{xtrain.shape=}')\n",
    "print(f'{ytrain.shape=}')\n",
    "print(f'{xtest.shape=}')\n",
    "print(f'{ytest.shape=}')"
   ]
  },
  {
   "cell_type": "code",
   "execution_count": 25,
   "id": "8aecfc2a-f938-4544-8978-0f067bf14d60",
   "metadata": {
    "id": "8aecfc2a-f938-4544-8978-0f067bf14d60"
   },
   "outputs": [],
   "source": [
    "train_data = tf.data.Dataset.from_tensor_slices((ss0,ss1))\n",
    "test_data = tf.data.Dataset.from_tensor_slices((xtest, ytest))"
   ]
  },
  {
   "cell_type": "markdown",
   "id": "949a7dd1-b4b0-41e4-bb05-4c73a27dc032",
   "metadata": {
    "id": "949a7dd1-b4b0-41e4-bb05-4c73a27dc032"
   },
   "source": [
    "# Text Vectorization"
   ]
  },
  {
   "cell_type": "code",
   "execution_count": null,
   "id": "e576575e-580a-4ace-9322-bb96fe9abbe3",
   "metadata": {
    "id": "e576575e-580a-4ace-9322-bb96fe9abbe3"
   },
   "outputs": [],
   "source": []
  },
  {
   "cell_type": "code",
   "execution_count": 33,
   "id": "b598214d-bb37-4831-a2b0-176659c303bf",
   "metadata": {
    "id": "b598214d-bb37-4831-a2b0-176659c303bf"
   },
   "outputs": [],
   "source": [
    "# preprocessing text\n",
    "def tf_lower_and_split_punct_en(text):\n",
    "    # Split accented characters.\n",
    "    text = tf_text.normalize_utf8(text, 'NFKD')\n",
    "    text = tf.strings.lower(text)\n",
    "    # Keep space, a to z, and select punctuation.\n",
    "    text = tf.strings.regex_replace(text, '[^ a-z.?!,¿]', '')\n",
    "    # Add spaces around punctuation.\n",
    "    text = tf.strings.regex_replace(text, '[.?!,¿|]', r' \\0 ')\n",
    "    # Strip whitespace.\n",
    "    text = tf.strings.strip(text)\n",
    "    text = tf.strings.join(['[START]', text, '[END]'], separator=' ')\n",
    "    return text\n",
    "\n"
   ]
  },
  {
   "cell_type": "code",
   "execution_count": null,
   "id": "42461adb-af1c-4568-b26f-c20e3dcda345",
   "metadata": {
    "id": "42461adb-af1c-4568-b26f-c20e3dcda345"
   },
   "outputs": [],
   "source": []
  },
  {
   "cell_type": "code",
   "execution_count": 34,
   "id": "0649c8ec-776f-4084-af5e-e0fb0efa3dd7",
   "metadata": {
    "id": "0649c8ec-776f-4084-af5e-e0fb0efa3dd7"
   },
   "outputs": [],
   "source": [
    "# vectorization\n",
    "vectorizer = TextVectorization(output_sequence_length=MAX_OUTPUT_LENGTH, standardize=tf_lower_and_split_punct_en)"
   ]
  },
  {
   "cell_type": "code",
   "execution_count": 35,
   "id": "52f38aa9-86ff-4658-baa5-9e3a7dbde7a5",
   "metadata": {
    "id": "52f38aa9-86ff-4658-baa5-9e3a7dbde7a5",
    "outputId": "3859a0c7-77ba-4a80-c55f-ae9c1022aafb"
   },
   "outputs": [
    {
     "name": "stdout",
     "output_type": "stream",
     "text": [
      "tf.Tensor(b' Hi!', shape=(), dtype=string)\n",
      "tf.Tensor(b' What is your favorite holiday?', shape=(), dtype=string)\n"
     ]
    }
   ],
   "source": [
    "for i,j in train_data.take(1):\n",
    "    print(i)\n",
    "    print(j)"
   ]
  },
  {
   "cell_type": "code",
   "execution_count": 36,
   "id": "891e9635-ed35-4ebd-a61b-d9c3cb65a2b7",
   "metadata": {},
   "outputs": [
    {
     "data": {
      "text/plain": [
       "0                                                       Hi!\n",
       "1          one where I get to meet lots of different peo...\n",
       "2                           Hard to keep a count. Maybe 25.\n",
       "3                                  I think it was Australia\n",
       "4          Not really. The interactions are usually shor...\n",
       "                                ...                        \n",
       "221277    I'm to take the Sikali with the main column to...\n",
       "221278    Lord Chelmsford seems to want me to stay back ...\n",
       "221279    I think Chelmsford wants a good man on the bor...\n",
       "221280    And I assure you, you do not In fact I'd be ob...\n",
       "221281    So far only their scouts. But we have had repo...\n",
       "Length: 444024, dtype: object"
      ]
     },
     "execution_count": 36,
     "metadata": {},
     "output_type": "execute_result"
    }
   ],
   "source": [
    "all_words_here = pd.concat([data['col1'],data['col2']], axis = 0)\n",
    "all_words_here"
   ]
  },
  {
   "cell_type": "code",
   "execution_count": 37,
   "id": "7393b24f-777d-45cb-aa11-8cd0b9d8fb6d",
   "metadata": {
    "id": "7393b24f-777d-45cb-aa11-8cd0b9d8fb6d"
   },
   "outputs": [],
   "source": [
    "# %%timeit\n",
    "# 20.2 s ± 606 ms per loop (mean ± std. dev. of 7 runs, 1 loop each)\n",
    "# 21* 7 == 2 MIN 27 sec\n",
    "vectorizer.adapt(all_words_here)"
   ]
  },
  {
   "cell_type": "code",
   "execution_count": 38,
   "id": "3f35c080-570d-4599-8bdf-0b287365d9c2",
   "metadata": {},
   "outputs": [
    {
     "name": "stdout",
     "output_type": "stream",
     "text": [
      "vocab size 60156\n"
     ]
    }
   ],
   "source": [
    "print('vocab size', vectorizer.vocabulary_size())\n"
   ]
  },
  {
   "cell_type": "code",
   "execution_count": 39,
   "id": "3b8a4b59-ca58-4c0e-a663-674659ea9c03",
   "metadata": {},
   "outputs": [
    {
     "name": "stdout",
     "output_type": "stream",
     "text": [
      "20 common words: ['', '[UNK]', '.', '[START]', '[END]', ',', 'you', '?', 'i', 'the', 'to', 'a', 'it', 'and', 'of', 'that', '!', 'in', 'what', 'me']\n"
     ]
    }
   ],
   "source": [
    "print('20 common words:',vectorizer.get_vocabulary()[:20])"
   ]
  },
  {
   "cell_type": "markdown",
   "id": "b717ebd2-e925-4ac2-afc3-cfa428f79831",
   "metadata": {},
   "source": [
    "## Reading Glove"
   ]
  },
  {
   "cell_type": "code",
   "execution_count": 40,
   "id": "f11377cb-71ad-473d-8419-942f6cf5b435",
   "metadata": {},
   "outputs": [],
   "source": [
    "\n",
    "zi = zipfile.ZipFile('./embedding/glove.6B.50d.zip')\n",
    "zi.extractall('./embedding/')\n",
    "zi.close()"
   ]
  },
  {
   "cell_type": "code",
   "execution_count": 41,
   "id": "4b0ac158-683d-4543-83db-cc72882f5b53",
   "metadata": {},
   "outputs": [
    {
     "name": "stdout",
     "output_type": "stream",
     "text": [
      "Glove Loded!\n"
     ]
    }
   ],
   "source": [
    "embeddings_index = {}\n",
    "with open('./embedding/glove.6B.50d.txt', encoding='utf-8') as f:\n",
    "    for line in f:\n",
    "        values = line.split()\n",
    "        word = values[0]\n",
    "        coefs = np.asarray(values[1:], dtype='float32')\n",
    "        embeddings_index[word] = coefs\n",
    "    f.close()\n",
    "\n",
    "print(\"Glove Loded!\")\n"
   ]
  },
  {
   "cell_type": "code",
   "execution_count": 42,
   "id": "15d92eaf-d654-4247-9866-3a293f3e713c",
   "metadata": {},
   "outputs": [
    {
     "data": {
      "text/plain": [
       "400000"
      ]
     },
     "execution_count": 42,
     "metadata": {},
     "output_type": "execute_result"
    }
   ],
   "source": [
    "len(embeddings_index)"
   ]
  },
  {
   "cell_type": "code",
   "execution_count": 43,
   "id": "99b2561d-177c-408b-b86b-4a9bd394cf42",
   "metadata": {},
   "outputs": [],
   "source": [
    "word_dict = {word:i for i, word in enumerate(vectorizer.get_vocabulary())}"
   ]
  },
  {
   "cell_type": "code",
   "execution_count": 44,
   "id": "9766d896-100c-468f-8deb-c37d3b030742",
   "metadata": {},
   "outputs": [
    {
     "data": {
      "text/plain": [
       "60156"
      ]
     },
     "execution_count": 44,
     "metadata": {},
     "output_type": "execute_result"
    }
   ],
   "source": [
    "len(word_dict)"
   ]
  },
  {
   "cell_type": "code",
   "execution_count": 45,
   "id": "db5cc131-c4e4-49f2-b303-9194ce7356e4",
   "metadata": {},
   "outputs": [],
   "source": [
    "\n",
    "\n",
    "\n",
    "# \"\"\"\"\"\"\n",
    "# # Create matrix that holds words that occour together\n",
    "# \"\"\"\"\"\"\n",
    "\n",
    "embedding_dimention = 50\n",
    "def embedding_matrix_creater(embedding_dimention, word_index):\n",
    "    embedding_matrix = np.zeros((len(word_index), embedding_dimention))\n",
    "    for word, i in word_index.items():\n",
    "        embedding_vector = embeddings_index.get(word)\n",
    "        if embedding_vector is not None:\n",
    "          # words not found in embedding index will be all-zeros.\n",
    "            embedding_matrix[i] = embedding_vector\n",
    "    return embedding_matrix\n",
    "\n",
    "\n",
    "embedding_matrix = embedding_matrix_creater(50, word_index=word_dict)    \n",
    "\n",
    "VOCAB_SIZE = vectorizer.vocabulary_size()\n",
    "\n",
    "embedding = Embedding(VOCAB_SIZE, \n",
    "                  50, \n",
    "                  \n",
    "                  input_length=13,\n",
    "                  trainable=True)\n",
    "\n",
    "embedding.build((None,))\n",
    "embedding.set_weights([embedding_matrix])\n",
    "\n"
   ]
  },
  {
   "cell_type": "code",
   "execution_count": 46,
   "id": "10c36c88-7d2e-4b42-b8c3-3dcba2609791",
   "metadata": {},
   "outputs": [
    {
     "data": {
      "text/plain": [
       "(60156, 50)"
      ]
     },
     "execution_count": 46,
     "metadata": {},
     "output_type": "execute_result"
    }
   ],
   "source": [
    "embedding_matrix.shape"
   ]
  },
  {
   "cell_type": "code",
   "execution_count": 47,
   "id": "2de93690-15d5-4e33-8ee7-2205cac58c46",
   "metadata": {},
   "outputs": [
    {
     "data": {
      "text/plain": [
       "numpy.ndarray"
      ]
     },
     "execution_count": 47,
     "metadata": {},
     "output_type": "execute_result"
    }
   ],
   "source": [
    "type(embedding_matrix)"
   ]
  },
  {
   "cell_type": "code",
   "execution_count": 48,
   "id": "d61e3869-88c0-4333-86cc-06e41eb31237",
   "metadata": {},
   "outputs": [],
   "source": [
    "# saving embedding_matrix for further use\n",
    "np.save('./embedding/embedding_matrix.npy',embedding_matrix, allow_pickle=True)"
   ]
  },
  {
   "cell_type": "code",
   "execution_count": 49,
   "id": "300a2e38-0165-41d6-b7f5-179a0031e681",
   "metadata": {},
   "outputs": [
    {
     "data": {
      "text/plain": [
       "60156"
      ]
     },
     "execution_count": 49,
     "metadata": {},
     "output_type": "execute_result"
    }
   ],
   "source": [
    "vectorizer.vocabulary_size()"
   ]
  },
  {
   "cell_type": "code",
   "execution_count": 50,
   "id": "a2532a2d-c4f8-48fe-a519-e830944939ad",
   "metadata": {},
   "outputs": [
    {
     "data": {
      "text/plain": [
       "60156"
      ]
     },
     "execution_count": 50,
     "metadata": {},
     "output_type": "execute_result"
    }
   ],
   "source": [
    "len(word_dict)"
   ]
  },
  {
   "cell_type": "code",
   "execution_count": 51,
   "id": "e967a134-418f-436a-a67c-b24387116476",
   "metadata": {},
   "outputs": [
    {
     "data": {
      "text/plain": [
       "(60156, 50)"
      ]
     },
     "execution_count": 51,
     "metadata": {},
     "output_type": "execute_result"
    }
   ],
   "source": [
    "embedding_matrix.shape"
   ]
  },
  {
   "cell_type": "markdown",
   "id": "2567fa46-ee23-44f1-8977-571372b61363",
   "metadata": {
    "id": "2567fa46-ee23-44f1-8977-571372b61363"
   },
   "source": [
    "### saving vectorizer\n",
    "https://stackoverflow.com/questions/65103526/how-to-save-textvectorization-to-disk-in-tensorflow\n"
   ]
  },
  {
   "cell_type": "code",
   "execution_count": 52,
   "id": "db9d82af-e17f-418a-8260-3b2aca817913",
   "metadata": {
    "id": "db9d82af-e17f-418a-8260-3b2aca817913"
   },
   "outputs": [],
   "source": [
    "# Pickle the config and weights\n",
    "\n",
    "os.makedirs('components', exist_ok=True)\n",
    "pickle.dump({'config': vectorizer.get_config(),\n",
    "             'weights': vectorizer.get_weights()}\n",
    "            , open(\"./components/vectorizer.pkl\", \"wb\"))\n"
   ]
  },
  {
   "cell_type": "markdown",
   "id": "e60f71e7-7a9c-40d5-aac8-051e1e6ed656",
   "metadata": {
    "id": "e60f71e7-7a9c-40d5-aac8-051e1e6ed656"
   },
   "source": [
    "### Loading saved vectorizer"
   ]
  },
  {
   "cell_type": "code",
   "execution_count": 53,
   "id": "79d40069-6ffe-4c2c-9c2b-7ed97bc8b6ba",
   "metadata": {
    "colab": {
     "base_uri": "https://localhost:8080/"
    },
    "id": "79d40069-6ffe-4c2c-9c2b-7ed97bc8b6ba",
    "outputId": "2ee1cf92-9918-4ec1-a855-7a9251326216"
   },
   "outputs": [
    {
     "name": "stdout",
     "output_type": "stream",
     "text": [
      "tf.Tensor(\n",
      "[  3  79 141   8   4   0   0   0   0   0   0   0   0   0   0   0   0   0\n",
      "   0   0   0   0   0   0   0   0   0   0   0   0   0   0   0   0   0   0\n",
      "   0   0   0   0   0   0   0   0   0   0   0   0   0   0   0   0   0   0\n",
      "   0   0   0   0   0   0   0   0   0   0   0   0   0   0   0   0   0   0\n",
      "   0   0   0   0   0   0   0   0   0   0   0   0   0   0   0   0   0   0\n",
      "   0   0   0   0   0   0   0   0   0   0   0   0   0   0   0   0   0   0\n",
      "   0   0   0   0   0   0   0   0   0   0   0   0   0   0   0   0   0   0\n",
      "   0   0   0   0   0   0   0   0   0   0   0   0   0   0   0   0   0   0\n",
      "   0   0   0   0   0   0   0   0   0   0   0   0   0   0   0   0   0   0\n",
      "   0   0   0   0   0   0   0   0   0   0   0   0   0   0   0   0   0   0\n",
      "   0   0   0   0   0   0   0   0   0   0   0   0   0   0   0   0   0   0\n",
      "   0   0], shape=(200,), dtype=int64)\n"
     ]
    }
   ],
   "source": [
    "# Later you can unpickle and use \n",
    "# `config` to create object and \n",
    "# `weights` to load the trained weights. \n",
    "\n",
    "from_disk = pickle.load(open(\"./components/vectorizer.pkl\", \"rb\"))\n",
    "vectorizer = TextVectorization.from_config(from_disk['config'])\n",
    "# You have to call `adapt` with some dummy data (BUG in Keras)\n",
    "vectorizer.adapt(tf.data.Dataset.from_tensor_slices([\"xyz\"]))\n",
    "vectorizer.set_weights(from_disk['weights'])\n",
    "\n",
    "# Lets see the Vector for word \"this\"\n",
    "print (vectorizer(\"who am i\"))"
   ]
  },
  {
   "cell_type": "code",
   "execution_count": 54,
   "id": "a4f55398-b8e3-4b05-a8fc-4138cc1198e9",
   "metadata": {
    "id": "a4f55398-b8e3-4b05-a8fc-4138cc1198e9"
   },
   "outputs": [],
   "source": [
    "def make_vector(x, y):\n",
    "    x = vectorizer(x)\n",
    "    y = vectorizer(y)\n",
    "\n",
    "    x = x[:-1]\n",
    "    y_in = y[:-1]\n",
    "    y_out = y[1:]\n",
    "    return (x,y_in),y_out"
   ]
  },
  {
   "cell_type": "code",
   "execution_count": 55,
   "id": "303fe22b-53dd-4761-89c0-b5b4637cde13",
   "metadata": {
    "id": "303fe22b-53dd-4761-89c0-b5b4637cde13"
   },
   "outputs": [],
   "source": [
    "train_data = train_data.map(make_vector).batch(BATCH_SIZE).prefetch(tf.data.AUTOTUNE)\n",
    "test_data = test_data.map(make_vector).batch(BATCH_SIZE).prefetch(tf.data.AUTOTUNE)"
   ]
  },
  {
   "cell_type": "markdown",
   "id": "153aa1f7-7d78-4b32-8519-99df34ae48f2",
   "metadata": {
    "id": "153aa1f7-7d78-4b32-8519-99df34ae48f2"
   },
   "source": [
    "# Saving the Dataset"
   ]
  },
  {
   "cell_type": "code",
   "execution_count": 56,
   "id": "d81d0646-f3b7-4041-b1ad-f90a49f992e3",
   "metadata": {
    "id": "d81d0646-f3b7-4041-b1ad-f90a49f992e3"
   },
   "outputs": [],
   "source": [
    "# %%timeit\n",
    "\n",
    "save_train_data_path = './dataset/train/'\n",
    "save_test_data_path = './dataset/test/'\n",
    "\n",
    "# # save the train_data and test_data\n",
    "train_data.save(save_train_data_path, compression='GZIP')\n",
    "test_data.save(save_test_data_path, compression='GZIP')"
   ]
  },
  {
   "cell_type": "code",
   "execution_count": 57,
   "id": "23588690-bc8e-4bd0-8519-e3fdff44d421",
   "metadata": {},
   "outputs": [
    {
     "name": "stdout",
     "output_type": "stream",
     "text": [
      "done\n"
     ]
    }
   ],
   "source": [
    "print('done')"
   ]
  },
  {
   "cell_type": "code",
   "execution_count": 58,
   "id": "12d202ea-05ef-433a-b055-b2e8a5854e8c",
   "metadata": {
    "id": "12d202ea-05ef-433a-b055-b2e8a5854e8c"
   },
   "outputs": [],
   "source": [
    "#loading the data\n",
    "train_data = tf.data.Dataset.load(save_train_data_path, compression='GZIP')\n",
    "test_data = tf.data.Dataset.load(save_test_data_path, compression='GZIP')"
   ]
  },
  {
   "cell_type": "code",
   "execution_count": null,
   "id": "23114c2b-ba59-4545-ac98-3dccb4723d0a",
   "metadata": {
    "id": "23114c2b-ba59-4545-ac98-3dccb4723d0a"
   },
   "outputs": [],
   "source": []
  },
  {
   "cell_type": "code",
   "execution_count": 59,
   "id": "d607b24a-3408-4efe-b76f-bbf719214e98",
   "metadata": {
    "colab": {
     "base_uri": "https://localhost:8080/"
    },
    "id": "d607b24a-3408-4efe-b76f-bbf719214e98",
    "outputId": "8323e1e9-b9d4-4a4f-f525-88c35b1c22de"
   },
   "outputs": [
    {
     "name": "stdout",
     "output_type": "stream",
     "text": [
      "encoder input\n",
      "[  3 384  16   4   0   0   0   0   0   0   0   0   0   0   0   0   0   0\n",
      "   0   0   0   0   0   0   0   0   0   0   0   0   0   0   0   0   0   0\n",
      "   0   0   0   0   0   0   0   0   0   0   0   0   0   0   0   0   0   0\n",
      "   0   0   0   0   0   0   0   0   0   0   0   0   0   0   0   0   0   0\n",
      "   0   0   0   0   0   0   0   0   0   0   0   0   0   0   0   0   0   0\n",
      "   0   0   0   0   0   0   0   0   0   0]\n",
      "--------------------------------------------\n",
      "decoder input\n",
      "[   3   18   20   28 1187 2695    7    4    0    0    0    0    0    0\n",
      "    0    0    0    0    0    0    0    0    0    0    0    0    0    0\n",
      "    0    0    0    0    0    0    0    0    0    0    0    0    0    0\n",
      "    0    0    0    0    0    0    0    0    0    0    0    0    0    0\n",
      "    0    0    0    0    0    0    0    0    0    0    0    0    0    0\n",
      "    0    0    0    0    0    0    0    0    0    0    0    0    0    0\n",
      "    0    0    0    0    0    0    0    0    0    0    0    0    0    0\n",
      "    0    0]\n",
      "--------------------------------------------\n",
      "encoder output\n",
      "[  18   20   28 1187 2695    7    4    0    0    0    0    0    0    0\n",
      "    0    0    0    0    0    0    0    0    0    0    0    0    0    0\n",
      "    0    0    0    0    0    0    0    0    0    0    0    0    0    0\n",
      "    0    0    0    0    0    0    0    0    0    0    0    0    0    0\n",
      "    0    0    0    0    0    0    0    0    0    0    0    0    0    0\n",
      "    0    0    0    0    0    0    0    0    0    0    0    0    0    0\n",
      "    0    0    0    0    0    0    0    0    0    0    0    0    0    0\n",
      "    0    0]\n"
     ]
    }
   ],
   "source": [
    "for (enc_input, dec_input), dec_output  in train_data.take(1):\n",
    "    print('encoder input')\n",
    "    print(enc_input[0, :100].numpy())\n",
    "    print('-'*44)\n",
    "    print('decoder input')\n",
    "    print(dec_input[0, :100].numpy()) \n",
    "    print('-'*44)\n",
    "    print('encoder output')\n",
    "    print(dec_output[0, :100].numpy())\n",
    "    break"
   ]
  },
  {
   "cell_type": "code",
   "execution_count": null,
   "id": "7e09560e-65be-4d7e-b0a6-a0cf87921131",
   "metadata": {},
   "outputs": [],
   "source": []
  }
 ],
 "metadata": {
  "accelerator": "GPU",
  "colab": {
   "provenance": []
  },
  "gpuClass": "standard",
  "kernelspec": {
   "display_name": "Python 3",
   "language": "python",
   "name": "python3"
  },
  "language_info": {
   "codemirror_mode": {
    "name": "ipython",
    "version": 3
   },
   "file_extension": ".py",
   "mimetype": "text/x-python",
   "name": "python",
   "nbconvert_exporter": "python",
   "pygments_lexer": "ipython3",
   "version": "3.9.16"
  },
  "vscode": {
   "interpreter": {
    "hash": "dfedff957ea7ac7ca4066cb4591428111f6e0362a36cd08e1a6ce5802ca9d684"
   }
  }
 },
 "nbformat": 4,
 "nbformat_minor": 5
}
