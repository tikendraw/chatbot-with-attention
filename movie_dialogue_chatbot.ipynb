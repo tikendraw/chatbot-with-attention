{
  "cells": [
    {
      "cell_type": "code",
      "source": [
        "from google.colab import drive\n",
        "drive.mount('/content/drive')"
      ],
      "metadata": {
        "colab": {
          "base_uri": "https://localhost:8080/"
        },
        "id": "kIv3rgEIvri5",
        "outputId": "764c6074-3733-4bca-bb5b-d22d86c6325f"
      },
      "id": "kIv3rgEIvri5",
      "execution_count": 2,
      "outputs": [
        {
          "output_type": "stream",
          "name": "stdout",
          "text": [
            "Mounted at /content/drive\n"
          ]
        }
      ]
    },
    {
      "cell_type": "code",
      "source": [
        "import sys\n",
        "import os\n",
        "\n",
        "if 'google.colab' in sys.modules:\n",
        "    \n",
        "    ! git clone https://github.com/tikendraw/chatbot-with-attention.git \n",
        "    os.chdir('chatbot-with-attention') \n",
        "    print(os.getcwd())\n",
        "\n",
        "    ! pip install tensorflow==2.11 -q\n",
        "    ! pip install tensorflow-text -q"
      ],
      "metadata": {
        "id": "l3-Va26WjY0Y"
      },
      "id": "l3-Va26WjY0Y",
      "execution_count": null,
      "outputs": []
    },
    {
      "cell_type": "code",
      "execution_count": null,
      "id": "55dd94cd-06fb-4dba-a2c9-3a366e216863",
      "metadata": {
        "id": "55dd94cd-06fb-4dba-a2c9-3a366e216863"
      },
      "outputs": [],
      "source": [
        "\n",
        "import seaborn as sns\n",
        "import random, os\n",
        "import pandas as pd\n",
        "import numpy as np\n",
        "import tensorflow as tf\n",
        "from tensorflow import keras\n",
        "from sklearn.model_selection import train_test_split\n",
        "from tensorflow.keras.layers import TextVectorization, Embedding, LSTM, GRU, Bidirectional, TimeDistributed, Dense, Attention, MultiHeadAttention\n",
        "import tensorflow_text as tf_text\n",
        "import pickle\n",
        "from datetime import datetime\n",
        "import matplotlib.pyplot as plt\n",
        "from tensorflow.keras.callbacks import CSVLogger\n",
        "\n",
        "print('GPU Avaliable: ', gpu:=len(tf.config.list_physical_devices('GPU')))\n",
        "if gpu:\n",
        "    pass\n",
        "\n"
      ]
    },
    {
      "cell_type": "code",
      "execution_count": 6,
      "id": "97a4f457-d0a0-4323-9cc9-2a2b247029f1",
      "metadata": {
        "id": "97a4f457-d0a0-4323-9cc9-2a2b247029f1"
      },
      "outputs": [],
      "source": [
        "DEBUG = False\n",
        "\n",
        "if DEBUG:\n",
        "    pass\n",
        "else:\n",
        "    pass"
      ]
    },
    {
      "cell_type": "code",
      "execution_count": 7,
      "id": "753818c9-d137-4fa1-a9a2-9d50d577ce66",
      "metadata": {
        "id": "753818c9-d137-4fa1-a9a2-9d50d577ce66"
      },
      "outputs": [],
      "source": [
        "data = pd.read_csv('./dataset.csv',sep = '\\t',encoding='latin1', names = ['col1','col2'])"
      ]
    },
    {
      "cell_type": "code",
      "execution_count": 8,
      "id": "480362ff-ec17-472e-b205-95896f3f561d",
      "metadata": {
        "colab": {
          "base_uri": "https://localhost:8080/",
          "height": 206
        },
        "id": "480362ff-ec17-472e-b205-95896f3f561d",
        "outputId": "2c8d3f2e-307c-4fa8-dd13-bcb90dbbdb2b"
      },
      "outputs": [
        {
          "output_type": "execute_result",
          "data": {
            "text/plain": [
              "                                                col1  \\\n",
              "0  Can we make this quick?  Roxanne Korrine and A...   \n",
              "1  Well, I thought we'd start with pronunciation,...   \n",
              "2  Not the hacking and gagging and spitting part....   \n",
              "3  You're asking me out.  That's so cute. What's ...   \n",
              "4  No, no, it's my fault -- we didn't have a prop...   \n",
              "\n",
              "                                                col2  \n",
              "0  Well, I thought we'd start with pronunciation,...  \n",
              "1  Not the hacking and gagging and spitting part....  \n",
              "2  Okay... then how 'bout we try out some French ...  \n",
              "3                                         Forget it.  \n",
              "4                                           Cameron.  "
            ],
            "text/html": [
              "\n",
              "  <div id=\"df-2289ad0a-1191-47fe-9a01-be0ebf8fbf06\">\n",
              "    <div class=\"colab-df-container\">\n",
              "      <div>\n",
              "<style scoped>\n",
              "    .dataframe tbody tr th:only-of-type {\n",
              "        vertical-align: middle;\n",
              "    }\n",
              "\n",
              "    .dataframe tbody tr th {\n",
              "        vertical-align: top;\n",
              "    }\n",
              "\n",
              "    .dataframe thead th {\n",
              "        text-align: right;\n",
              "    }\n",
              "</style>\n",
              "<table border=\"1\" class=\"dataframe\">\n",
              "  <thead>\n",
              "    <tr style=\"text-align: right;\">\n",
              "      <th></th>\n",
              "      <th>col1</th>\n",
              "      <th>col2</th>\n",
              "    </tr>\n",
              "  </thead>\n",
              "  <tbody>\n",
              "    <tr>\n",
              "      <th>0</th>\n",
              "      <td>Can we make this quick?  Roxanne Korrine and A...</td>\n",
              "      <td>Well, I thought we'd start with pronunciation,...</td>\n",
              "    </tr>\n",
              "    <tr>\n",
              "      <th>1</th>\n",
              "      <td>Well, I thought we'd start with pronunciation,...</td>\n",
              "      <td>Not the hacking and gagging and spitting part....</td>\n",
              "    </tr>\n",
              "    <tr>\n",
              "      <th>2</th>\n",
              "      <td>Not the hacking and gagging and spitting part....</td>\n",
              "      <td>Okay... then how 'bout we try out some French ...</td>\n",
              "    </tr>\n",
              "    <tr>\n",
              "      <th>3</th>\n",
              "      <td>You're asking me out.  That's so cute. What's ...</td>\n",
              "      <td>Forget it.</td>\n",
              "    </tr>\n",
              "    <tr>\n",
              "      <th>4</th>\n",
              "      <td>No, no, it's my fault -- we didn't have a prop...</td>\n",
              "      <td>Cameron.</td>\n",
              "    </tr>\n",
              "  </tbody>\n",
              "</table>\n",
              "</div>\n",
              "      <button class=\"colab-df-convert\" onclick=\"convertToInteractive('df-2289ad0a-1191-47fe-9a01-be0ebf8fbf06')\"\n",
              "              title=\"Convert this dataframe to an interactive table.\"\n",
              "              style=\"display:none;\">\n",
              "        \n",
              "  <svg xmlns=\"http://www.w3.org/2000/svg\" height=\"24px\"viewBox=\"0 0 24 24\"\n",
              "       width=\"24px\">\n",
              "    <path d=\"M0 0h24v24H0V0z\" fill=\"none\"/>\n",
              "    <path d=\"M18.56 5.44l.94 2.06.94-2.06 2.06-.94-2.06-.94-.94-2.06-.94 2.06-2.06.94zm-11 1L8.5 8.5l.94-2.06 2.06-.94-2.06-.94L8.5 2.5l-.94 2.06-2.06.94zm10 10l.94 2.06.94-2.06 2.06-.94-2.06-.94-.94-2.06-.94 2.06-2.06.94z\"/><path d=\"M17.41 7.96l-1.37-1.37c-.4-.4-.92-.59-1.43-.59-.52 0-1.04.2-1.43.59L10.3 9.45l-7.72 7.72c-.78.78-.78 2.05 0 2.83L4 21.41c.39.39.9.59 1.41.59.51 0 1.02-.2 1.41-.59l7.78-7.78 2.81-2.81c.8-.78.8-2.07 0-2.86zM5.41 20L4 18.59l7.72-7.72 1.47 1.35L5.41 20z\"/>\n",
              "  </svg>\n",
              "      </button>\n",
              "      \n",
              "  <style>\n",
              "    .colab-df-container {\n",
              "      display:flex;\n",
              "      flex-wrap:wrap;\n",
              "      gap: 12px;\n",
              "    }\n",
              "\n",
              "    .colab-df-convert {\n",
              "      background-color: #E8F0FE;\n",
              "      border: none;\n",
              "      border-radius: 50%;\n",
              "      cursor: pointer;\n",
              "      display: none;\n",
              "      fill: #1967D2;\n",
              "      height: 32px;\n",
              "      padding: 0 0 0 0;\n",
              "      width: 32px;\n",
              "    }\n",
              "\n",
              "    .colab-df-convert:hover {\n",
              "      background-color: #E2EBFA;\n",
              "      box-shadow: 0px 1px 2px rgba(60, 64, 67, 0.3), 0px 1px 3px 1px rgba(60, 64, 67, 0.15);\n",
              "      fill: #174EA6;\n",
              "    }\n",
              "\n",
              "    [theme=dark] .colab-df-convert {\n",
              "      background-color: #3B4455;\n",
              "      fill: #D2E3FC;\n",
              "    }\n",
              "\n",
              "    [theme=dark] .colab-df-convert:hover {\n",
              "      background-color: #434B5C;\n",
              "      box-shadow: 0px 1px 3px 1px rgba(0, 0, 0, 0.15);\n",
              "      filter: drop-shadow(0px 1px 2px rgba(0, 0, 0, 0.3));\n",
              "      fill: #FFFFFF;\n",
              "    }\n",
              "  </style>\n",
              "\n",
              "      <script>\n",
              "        const buttonEl =\n",
              "          document.querySelector('#df-2289ad0a-1191-47fe-9a01-be0ebf8fbf06 button.colab-df-convert');\n",
              "        buttonEl.style.display =\n",
              "          google.colab.kernel.accessAllowed ? 'block' : 'none';\n",
              "\n",
              "        async function convertToInteractive(key) {\n",
              "          const element = document.querySelector('#df-2289ad0a-1191-47fe-9a01-be0ebf8fbf06');\n",
              "          const dataTable =\n",
              "            await google.colab.kernel.invokeFunction('convertToInteractive',\n",
              "                                                     [key], {});\n",
              "          if (!dataTable) return;\n",
              "\n",
              "          const docLinkHtml = 'Like what you see? Visit the ' +\n",
              "            '<a target=\"_blank\" href=https://colab.research.google.com/notebooks/data_table.ipynb>data table notebook</a>'\n",
              "            + ' to learn more about interactive tables.';\n",
              "          element.innerHTML = '';\n",
              "          dataTable['output_type'] = 'display_data';\n",
              "          await google.colab.output.renderOutput(dataTable, element);\n",
              "          const docLink = document.createElement('div');\n",
              "          docLink.innerHTML = docLinkHtml;\n",
              "          element.appendChild(docLink);\n",
              "        }\n",
              "      </script>\n",
              "    </div>\n",
              "  </div>\n",
              "  "
            ]
          },
          "metadata": {},
          "execution_count": 8
        }
      ],
      "source": [
        "# show the data\n",
        "data.head()"
      ]
    },
    {
      "cell_type": "code",
      "execution_count": 9,
      "id": "74eb0854-494c-4599-92af-99ec3e6ef160",
      "metadata": {
        "colab": {
          "base_uri": "https://localhost:8080/"
        },
        "id": "74eb0854-494c-4599-92af-99ec3e6ef160",
        "outputId": "a252a997-b09e-46a6-d93d-a78029c1cea4"
      },
      "outputs": [
        {
          "output_type": "execute_result",
          "data": {
            "text/plain": [
              "col1    0\n",
              "col2    0\n",
              "dtype: int64"
            ]
          },
          "metadata": {},
          "execution_count": 9
        }
      ],
      "source": [
        "# check for null values\n",
        "data.isnull().sum()"
      ]
    },
    {
      "cell_type": "code",
      "execution_count": 10,
      "id": "a34cf9fc-4a8b-43b3-bd88-03c851f09603",
      "metadata": {
        "id": "a34cf9fc-4a8b-43b3-bd88-03c851f09603"
      },
      "outputs": [],
      "source": [
        "# senetence lenght of conversations\n",
        "data['col1_length'] = data.col1.apply(lambda x: len(str(x).split()))\n",
        "data['col2_length'] = data.col2.apply(lambda x: len(str(x).split()))"
      ]
    },
    {
      "cell_type": "code",
      "execution_count": 11,
      "id": "b510cba2-061e-4bca-9b28-c0f50482100c",
      "metadata": {
        "colab": {
          "base_uri": "https://localhost:8080/",
          "height": 206
        },
        "id": "b510cba2-061e-4bca-9b28-c0f50482100c",
        "outputId": "999678cf-7c76-41ca-b32a-0a17b3d0c8a9"
      },
      "outputs": [
        {
          "output_type": "execute_result",
          "data": {
            "text/plain": [
              "                                                col1  \\\n",
              "0  Can we make this quick?  Roxanne Korrine and A...   \n",
              "1  Well, I thought we'd start with pronunciation,...   \n",
              "2  Not the hacking and gagging and spitting part....   \n",
              "3  You're asking me out.  That's so cute. What's ...   \n",
              "4  No, no, it's my fault -- we didn't have a prop...   \n",
              "\n",
              "                                                col2  col1_length  col2_length  \n",
              "0  Well, I thought we'd start with pronunciation,...           22           12  \n",
              "1  Not the hacking and gagging and spitting part....           12            9  \n",
              "2  Okay... then how 'bout we try out some French ...            9           12  \n",
              "3                                         Forget it.           11            2  \n",
              "4                                           Cameron.           13            1  "
            ],
            "text/html": [
              "\n",
              "  <div id=\"df-46ac95f8-96c6-4f5f-a369-8f4d719ea130\">\n",
              "    <div class=\"colab-df-container\">\n",
              "      <div>\n",
              "<style scoped>\n",
              "    .dataframe tbody tr th:only-of-type {\n",
              "        vertical-align: middle;\n",
              "    }\n",
              "\n",
              "    .dataframe tbody tr th {\n",
              "        vertical-align: top;\n",
              "    }\n",
              "\n",
              "    .dataframe thead th {\n",
              "        text-align: right;\n",
              "    }\n",
              "</style>\n",
              "<table border=\"1\" class=\"dataframe\">\n",
              "  <thead>\n",
              "    <tr style=\"text-align: right;\">\n",
              "      <th></th>\n",
              "      <th>col1</th>\n",
              "      <th>col2</th>\n",
              "      <th>col1_length</th>\n",
              "      <th>col2_length</th>\n",
              "    </tr>\n",
              "  </thead>\n",
              "  <tbody>\n",
              "    <tr>\n",
              "      <th>0</th>\n",
              "      <td>Can we make this quick?  Roxanne Korrine and A...</td>\n",
              "      <td>Well, I thought we'd start with pronunciation,...</td>\n",
              "      <td>22</td>\n",
              "      <td>12</td>\n",
              "    </tr>\n",
              "    <tr>\n",
              "      <th>1</th>\n",
              "      <td>Well, I thought we'd start with pronunciation,...</td>\n",
              "      <td>Not the hacking and gagging and spitting part....</td>\n",
              "      <td>12</td>\n",
              "      <td>9</td>\n",
              "    </tr>\n",
              "    <tr>\n",
              "      <th>2</th>\n",
              "      <td>Not the hacking and gagging and spitting part....</td>\n",
              "      <td>Okay... then how 'bout we try out some French ...</td>\n",
              "      <td>9</td>\n",
              "      <td>12</td>\n",
              "    </tr>\n",
              "    <tr>\n",
              "      <th>3</th>\n",
              "      <td>You're asking me out.  That's so cute. What's ...</td>\n",
              "      <td>Forget it.</td>\n",
              "      <td>11</td>\n",
              "      <td>2</td>\n",
              "    </tr>\n",
              "    <tr>\n",
              "      <th>4</th>\n",
              "      <td>No, no, it's my fault -- we didn't have a prop...</td>\n",
              "      <td>Cameron.</td>\n",
              "      <td>13</td>\n",
              "      <td>1</td>\n",
              "    </tr>\n",
              "  </tbody>\n",
              "</table>\n",
              "</div>\n",
              "      <button class=\"colab-df-convert\" onclick=\"convertToInteractive('df-46ac95f8-96c6-4f5f-a369-8f4d719ea130')\"\n",
              "              title=\"Convert this dataframe to an interactive table.\"\n",
              "              style=\"display:none;\">\n",
              "        \n",
              "  <svg xmlns=\"http://www.w3.org/2000/svg\" height=\"24px\"viewBox=\"0 0 24 24\"\n",
              "       width=\"24px\">\n",
              "    <path d=\"M0 0h24v24H0V0z\" fill=\"none\"/>\n",
              "    <path d=\"M18.56 5.44l.94 2.06.94-2.06 2.06-.94-2.06-.94-.94-2.06-.94 2.06-2.06.94zm-11 1L8.5 8.5l.94-2.06 2.06-.94-2.06-.94L8.5 2.5l-.94 2.06-2.06.94zm10 10l.94 2.06.94-2.06 2.06-.94-2.06-.94-.94-2.06-.94 2.06-2.06.94z\"/><path d=\"M17.41 7.96l-1.37-1.37c-.4-.4-.92-.59-1.43-.59-.52 0-1.04.2-1.43.59L10.3 9.45l-7.72 7.72c-.78.78-.78 2.05 0 2.83L4 21.41c.39.39.9.59 1.41.59.51 0 1.02-.2 1.41-.59l7.78-7.78 2.81-2.81c.8-.78.8-2.07 0-2.86zM5.41 20L4 18.59l7.72-7.72 1.47 1.35L5.41 20z\"/>\n",
              "  </svg>\n",
              "      </button>\n",
              "      \n",
              "  <style>\n",
              "    .colab-df-container {\n",
              "      display:flex;\n",
              "      flex-wrap:wrap;\n",
              "      gap: 12px;\n",
              "    }\n",
              "\n",
              "    .colab-df-convert {\n",
              "      background-color: #E8F0FE;\n",
              "      border: none;\n",
              "      border-radius: 50%;\n",
              "      cursor: pointer;\n",
              "      display: none;\n",
              "      fill: #1967D2;\n",
              "      height: 32px;\n",
              "      padding: 0 0 0 0;\n",
              "      width: 32px;\n",
              "    }\n",
              "\n",
              "    .colab-df-convert:hover {\n",
              "      background-color: #E2EBFA;\n",
              "      box-shadow: 0px 1px 2px rgba(60, 64, 67, 0.3), 0px 1px 3px 1px rgba(60, 64, 67, 0.15);\n",
              "      fill: #174EA6;\n",
              "    }\n",
              "\n",
              "    [theme=dark] .colab-df-convert {\n",
              "      background-color: #3B4455;\n",
              "      fill: #D2E3FC;\n",
              "    }\n",
              "\n",
              "    [theme=dark] .colab-df-convert:hover {\n",
              "      background-color: #434B5C;\n",
              "      box-shadow: 0px 1px 3px 1px rgba(0, 0, 0, 0.15);\n",
              "      filter: drop-shadow(0px 1px 2px rgba(0, 0, 0, 0.3));\n",
              "      fill: #FFFFFF;\n",
              "    }\n",
              "  </style>\n",
              "\n",
              "      <script>\n",
              "        const buttonEl =\n",
              "          document.querySelector('#df-46ac95f8-96c6-4f5f-a369-8f4d719ea130 button.colab-df-convert');\n",
              "        buttonEl.style.display =\n",
              "          google.colab.kernel.accessAllowed ? 'block' : 'none';\n",
              "\n",
              "        async function convertToInteractive(key) {\n",
              "          const element = document.querySelector('#df-46ac95f8-96c6-4f5f-a369-8f4d719ea130');\n",
              "          const dataTable =\n",
              "            await google.colab.kernel.invokeFunction('convertToInteractive',\n",
              "                                                     [key], {});\n",
              "          if (!dataTable) return;\n",
              "\n",
              "          const docLinkHtml = 'Like what you see? Visit the ' +\n",
              "            '<a target=\"_blank\" href=https://colab.research.google.com/notebooks/data_table.ipynb>data table notebook</a>'\n",
              "            + ' to learn more about interactive tables.';\n",
              "          element.innerHTML = '';\n",
              "          dataTable['output_type'] = 'display_data';\n",
              "          await google.colab.output.renderOutput(dataTable, element);\n",
              "          const docLink = document.createElement('div');\n",
              "          docLink.innerHTML = docLinkHtml;\n",
              "          element.appendChild(docLink);\n",
              "        }\n",
              "      </script>\n",
              "    </div>\n",
              "  </div>\n",
              "  "
            ]
          },
          "metadata": {},
          "execution_count": 11
        }
      ],
      "source": [
        "data.head()"
      ]
    },
    {
      "cell_type": "code",
      "execution_count": 47,
      "id": "e994e6b0-6421-4b53-997a-2534d0b34ab9",
      "metadata": {
        "id": "e994e6b0-6421-4b53-997a-2534d0b34ab9"
      },
      "outputs": [],
      "source": [
        "\n",
        "def distplot_axis(x:np.array, axis:list=list(range(95,100)), percent:int = 99,where_text:int = 5000,xlim:list=None, ylim:list=None, **kwargs):\n",
        "    # plt.figure(figsize = (15,7))\n",
        "    plt.grid()\n",
        "\n",
        "    plt.hist(x , bins = 50, **kwargs)\n",
        "    # Title Word Count distribution\n",
        "    try:\n",
        "        plt.xlim(xlim[0], xlim[1])\n",
        "        plt.ylim(ylim[0], ylim[1])\n",
        "    except:\n",
        "        pass\n",
        "\n",
        "    plt.xlabel('word length')\n",
        "    plt.ylabel('Count')\n",
        "    for i in axis:\n",
        "        plt.axvline(x = np.percentile(x, i), color = 'b', label = 'axvline - full height')\n",
        "        # random_pixel = \n",
        "        try:\n",
        "            plt.text(np.percentile(x, i),where_text,f'{i} percent',rotation=90)\n",
        "        except:\n",
        "            pass\n",
        "\n",
        "    plt.title(f'Text Word Count distribution: {np.percentile(x, percent)} words cover {percent}% of text data')\n",
        "\n"
      ]
    },
    {
      "cell_type": "code",
      "execution_count": 49,
      "id": "9f742027-9ec2-4fe8-83b7-fee1b48c6629",
      "metadata": {
        "colab": {
          "base_uri": "https://localhost:8080/",
          "height": 532
        },
        "id": "9f742027-9ec2-4fe8-83b7-fee1b48c6629",
        "outputId": "e7689b91-1164-4875-ca7f-3abf095fa6ca"
      },
      "outputs": [
        {
          "output_type": "display_data",
          "data": {
            "text/plain": [
              "<Figure size 2160x720 with 2 Axes>"
            ],
            "image/png": "[encoded data removed]"
          },
          "metadata": {
            "needs_background": "light"
          }
        }
      ],
      "source": [
        "plt.figure(figsize = (30,10))\n",
        "\n",
        "plt.subplot(1,2,1)\n",
        "distplot_axis(data.col1_length,where_text = 50000, xlim=[0,100])\n",
        "\n",
        "\n",
        "plt.subplot(1,2,2)\n",
        "distplot_axis(data.col2_length,where_text = 50000, xlim=[0,100])"
      ]
    },
    {
      "cell_type": "code",
      "execution_count": 12,
      "id": "9cb37f91-980c-49b6-973c-df00e36e3dc8",
      "metadata": {
        "id": "9cb37f91-980c-49b6-973c-df00e36e3dc8"
      },
      "outputs": [],
      "source": [
        "MAX_OUTPUT_LENGTH = 102\n",
        "BATCH_SIZE = 32\n",
        "UNITS = 64\n",
        "EMBEDDING_DIMS = 128"
      ]
    },
    {
      "cell_type": "markdown",
      "id": "cb2ae3aa-d41e-40ab-b5fd-ab55213a058b",
      "metadata": {
        "id": "cb2ae3aa-d41e-40ab-b5fd-ab55213a058b"
      },
      "source": [
        "# Splitting Data"
      ]
    },
    {
      "cell_type": "code",
      "execution_count": 49,
      "id": "9fcd716c-a264-40aa-82df-74b04e8078e4",
      "metadata": {
        "id": "9fcd716c-a264-40aa-82df-74b04e8078e4"
      },
      "outputs": [],
      "source": [
        "if DEBUG:\n",
        "    xtrain, xtest, ytrain, ytest = train_test_split(data['col1'],data['col2'], train_size=.05 , test_size=.005, random_state= 44)\n",
        "else:\n",
        "    xtrain, xtest, ytrain, ytest = train_test_split(data['col1'],data['col2'], test_size=.05, random_state= 44)"
      ]
    },
    {
      "cell_type": "code",
      "execution_count": null,
      "id": "3b87a01a-21d9-470d-8590-3e6595db5c7f",
      "metadata": {
        "id": "3b87a01a-21d9-470d-8590-3e6595db5c7f",
        "outputId": "25addbe2-0655-4f20-fced-8288cf8a62af"
      },
      "outputs": [
        {
          "name": "stdout",
          "output_type": "stream",
          "text": [
            "xtrain.shape=(210217,)\n",
            "ytrain.shape=(210217,)\n",
            "xtest.shape=(11065,)\n",
            "ytest.shape=(11065,)\n"
          ]
        }
      ],
      "source": [
        "print(f'{xtrain.shape=}')\n",
        "print(f'{ytrain.shape=}')\n",
        "print(f'{xtest.shape=}')\n",
        "print(f'{ytest.shape=}')"
      ]
    },
    {
      "cell_type": "code",
      "execution_count": null,
      "id": "8aecfc2a-f938-4544-8978-0f067bf14d60",
      "metadata": {
        "id": "8aecfc2a-f938-4544-8978-0f067bf14d60"
      },
      "outputs": [],
      "source": [
        "train_data = tf.data.Dataset.from_tensor_slices((xtrain.to_list(), ytrain.to_list()))\n",
        "test_data = tf.data.Dataset.from_tensor_slices((xtest.to_list(), ytest.to_list()))"
      ]
    },
    {
      "cell_type": "markdown",
      "id": "949a7dd1-b4b0-41e4-bb05-4c73a27dc032",
      "metadata": {
        "id": "949a7dd1-b4b0-41e4-bb05-4c73a27dc032"
      },
      "source": [
        "# Text Vectorization"
      ]
    },
    {
      "cell_type": "code",
      "execution_count": null,
      "id": "e576575e-580a-4ace-9322-bb96fe9abbe3",
      "metadata": {
        "id": "e576575e-580a-4ace-9322-bb96fe9abbe3"
      },
      "outputs": [],
      "source": []
    },
    {
      "cell_type": "code",
      "execution_count": 13,
      "id": "b598214d-bb37-4831-a2b0-176659c303bf",
      "metadata": {
        "id": "b598214d-bb37-4831-a2b0-176659c303bf"
      },
      "outputs": [],
      "source": [
        "# preprocessing text\n",
        "def tf_lower_and_split_punct_en(text):\n",
        "    # Split accented characters.\n",
        "    text = tf_text.normalize_utf8(text, 'NFKD')\n",
        "    text = tf.strings.lower(text)\n",
        "    # Keep space, a to z, and select punctuation.\n",
        "    text = tf.strings.regex_replace(text, '[^ a-z.?!,¿]', '')\n",
        "    # Add spaces around punctuation.\n",
        "    text = tf.strings.regex_replace(text, '[.?!,¿|]', r' \\0 ')\n",
        "    # Strip whitespace.\n",
        "    text = tf.strings.strip(text)\n",
        "    text = tf.strings.join(['[START]', text, '[END]'], separator=' ')\n",
        "    return text\n",
        "\n"
      ]
    },
    {
      "cell_type": "code",
      "execution_count": null,
      "id": "42461adb-af1c-4568-b26f-c20e3dcda345",
      "metadata": {
        "id": "42461adb-af1c-4568-b26f-c20e3dcda345"
      },
      "outputs": [],
      "source": []
    },
    {
      "cell_type": "code",
      "execution_count": null,
      "id": "0649c8ec-776f-4084-af5e-e0fb0efa3dd7",
      "metadata": {
        "id": "0649c8ec-776f-4084-af5e-e0fb0efa3dd7"
      },
      "outputs": [],
      "source": [
        "# vectorization\n",
        "vectorizer = TextVectorization(output_sequence_length=MAX_OUTPUT_LENGTH, standardize=tf_lower_and_split_punct_en)"
      ]
    },
    {
      "cell_type": "code",
      "execution_count": null,
      "id": "52f38aa9-86ff-4658-baa5-9e3a7dbde7a5",
      "metadata": {
        "id": "52f38aa9-86ff-4658-baa5-9e3a7dbde7a5",
        "outputId": "3859a0c7-77ba-4a80-c55f-ae9c1022aafb"
      },
      "outputs": [
        {
          "name": "stdout",
          "output_type": "stream",
          "text": [
            "tf.Tensor(b'is bending down, pulling a tray of sausage rolls into the oven. Both girls look at HONORA silently.', shape=(), dtype=string)\n",
            "tf.Tensor(b'turns around and Juliet presents her with a brown paper bag.', shape=(), dtype=string)\n"
          ]
        }
      ],
      "source": [
        "for i,j in train_data.take(1):\n",
        "    print(i)\n",
        "    print(j)"
      ]
    },
    {
      "cell_type": "code",
      "execution_count": null,
      "id": "7393b24f-777d-45cb-aa11-8cd0b9d8fb6d",
      "metadata": {
        "id": "7393b24f-777d-45cb-aa11-8cd0b9d8fb6d"
      },
      "outputs": [],
      "source": [
        "\n",
        "# 20.2 s ± 606 ms per loop (mean ± std. dev. of 7 runs, 1 loop each)\n",
        "# 21* 7 == 2 MIN 27 sec\n",
        "vectorizer.adapt(xtrain)"
      ]
    },
    {
      "cell_type": "markdown",
      "id": "2567fa46-ee23-44f1-8977-571372b61363",
      "metadata": {
        "id": "2567fa46-ee23-44f1-8977-571372b61363"
      },
      "source": [
        "### saving vectorizer\n",
        "https://stackoverflow.com/questions/65103526/how-to-save-textvectorization-to-disk-in-tensorflow\n"
      ]
    },
    {
      "cell_type": "code",
      "execution_count": null,
      "id": "db9d82af-e17f-418a-8260-3b2aca817913",
      "metadata": {
        "id": "db9d82af-e17f-418a-8260-3b2aca817913"
      },
      "outputs": [],
      "source": [
        "# Pickle the config and weights\n",
        "\n",
        "# os.makedirs('components', exist_ok=True)\n",
        "# pickle.dump({'config': vectorizer.get_config(),\n",
        "#              'weights': vectorizer.get_weights()}\n",
        "#             , open(\"./components/vectorizer.pkl\", \"wb\"))\n"
      ]
    },
    {
      "cell_type": "markdown",
      "id": "e60f71e7-7a9c-40d5-aac8-051e1e6ed656",
      "metadata": {
        "id": "e60f71e7-7a9c-40d5-aac8-051e1e6ed656"
      },
      "source": [
        "### Loading saved vectorizer"
      ]
    },
    {
      "cell_type": "code",
      "execution_count": 14,
      "id": "79d40069-6ffe-4c2c-9c2b-7ed97bc8b6ba",
      "metadata": {
        "colab": {
          "base_uri": "https://localhost:8080/"
        },
        "id": "79d40069-6ffe-4c2c-9c2b-7ed97bc8b6ba",
        "outputId": "66c121ce-901a-422a-991c-fe33c98c50c9"
      },
      "outputs": [
        {
          "output_type": "stream",
          "name": "stdout",
          "text": [
            "tf.Tensor(\n",
            "[  3  76 144   8   4   0   0   0   0   0   0   0   0   0   0   0   0   0\n",
            "   0   0   0   0   0   0   0   0   0   0   0   0   0   0   0   0   0   0\n",
            "   0   0   0   0   0   0   0   0   0   0   0   0   0   0   0   0   0   0\n",
            "   0   0   0   0   0   0   0   0   0   0   0   0   0   0   0   0   0   0\n",
            "   0   0   0   0   0   0   0   0   0   0   0   0   0   0   0   0   0   0\n",
            "   0   0   0   0   0   0   0   0   0   0   0   0], shape=(102,), dtype=int64)\n"
          ]
        }
      ],
      "source": [
        "# Later you can unpickle and use \n",
        "# `config` to create object and \n",
        "# `weights` to load the trained weights. \n",
        "\n",
        "from_disk = pickle.load(open(\"./components/vectorizer.pkl\", \"rb\"))\n",
        "vectorizer = TextVectorization.from_config(from_disk['config'])\n",
        "# You have to call `adapt` with some dummy data (BUG in Keras)\n",
        "vectorizer.adapt(tf.data.Dataset.from_tensor_slices([\"xyz\"]))\n",
        "vectorizer.set_weights(from_disk['weights'])\n",
        "\n",
        "# Lets see the Vector for word \"this\"\n",
        "print (vectorizer(\"who am i\"))"
      ]
    },
    {
      "cell_type": "code",
      "execution_count": null,
      "id": "a4f55398-b8e3-4b05-a8fc-4138cc1198e9",
      "metadata": {
        "id": "a4f55398-b8e3-4b05-a8fc-4138cc1198e9"
      },
      "outputs": [],
      "source": [
        "def make_vector(x, y):\n",
        "    x = vectorizer(x)\n",
        "    y = vectorizer(y)\n",
        "\n",
        "    x = x[:-1]\n",
        "    y_in = y[:-1]\n",
        "    y_out = y[1:]\n",
        "    return (x,y_in),y_out"
      ]
    },
    {
      "cell_type": "code",
      "execution_count": null,
      "id": "303fe22b-53dd-4761-89c0-b5b4637cde13",
      "metadata": {
        "id": "303fe22b-53dd-4761-89c0-b5b4637cde13"
      },
      "outputs": [],
      "source": [
        "train_data = train_data.map(make_vector).batch(BATCH_SIZE).prefetch(tf.data.AUTOTUNE)\n",
        "test_data = test_data.map(make_vector).batch(BATCH_SIZE).prefetch(tf.data.AUTOTUNE)"
      ]
    },
    {
      "cell_type": "markdown",
      "id": "153aa1f7-7d78-4b32-8519-99df34ae48f2",
      "metadata": {
        "id": "153aa1f7-7d78-4b32-8519-99df34ae48f2"
      },
      "source": [
        "# Saving the Dataset"
      ]
    },
    {
      "cell_type": "code",
      "execution_count": 16,
      "id": "d81d0646-f3b7-4041-b1ad-f90a49f992e3",
      "metadata": {
        "id": "d81d0646-f3b7-4041-b1ad-f90a49f992e3"
      },
      "outputs": [],
      "source": [
        "# %%timeit\n",
        "\n",
        "save_train_data_path = './dataset/train/'\n",
        "save_test_data_path = './dataset/test/'\n",
        "\n",
        "# # save the train_data and test_data\n",
        "# train_data.save(save_train_data_path, compression='GZIP')\n",
        "# test_data.save(save_test_data_path, compression='GZIP')"
      ]
    },
    {
      "cell_type": "code",
      "execution_count": 17,
      "id": "12d202ea-05ef-433a-b055-b2e8a5854e8c",
      "metadata": {
        "id": "12d202ea-05ef-433a-b055-b2e8a5854e8c"
      },
      "outputs": [],
      "source": [
        "#loading the data\n",
        "train_data = tf.data.Dataset.load(save_train_data_path, compression='GZIP')\n",
        "test_data = tf.data.Dataset.load(save_test_data_path, compression='GZIP')"
      ]
    },
    {
      "cell_type": "code",
      "execution_count": 17,
      "id": "23114c2b-ba59-4545-ac98-3dccb4723d0a",
      "metadata": {
        "id": "23114c2b-ba59-4545-ac98-3dccb4723d0a"
      },
      "outputs": [],
      "source": []
    },
    {
      "cell_type": "code",
      "execution_count": 18,
      "id": "d607b24a-3408-4efe-b76f-bbf719214e98",
      "metadata": {
        "colab": {
          "base_uri": "https://localhost:8080/"
        },
        "id": "d607b24a-3408-4efe-b76f-bbf719214e98",
        "outputId": "b3c7654f-9162-4ed5-bc9d-288b8e5fe1cf"
      },
      "outputs": [
        {
          "output_type": "stream",
          "name": "stdout",
          "text": [
            "encoder input\n",
            "[    3    20 10942   120     5  1994    11  6126    14  9357  5660   154\n",
            "     9  7211     2   443   532   105    61 11786]\n",
            "--------------------------------------------\n",
            "decoder input\n",
            "[   3 1361  174   13 3319 4872   69   39   11 1415  764  922    2    4\n",
            "    0    0    0    0    0    0]\n",
            "--------------------------------------------\n",
            "encoder output\n",
            "[1361  174   13 3319 4872   69   39   11 1415  764  922    2    4    0\n",
            "    0    0    0    0    0    0]\n"
          ]
        }
      ],
      "source": [
        "for (enc_input, dec_input), dec_output  in train_data.take(1):\n",
        "    print('encoder input')\n",
        "    print(enc_input[0, :20].numpy())\n",
        "    print('-'*44)\n",
        "    print('decoder input')\n",
        "    print(dec_input[0, :20].numpy()) \n",
        "    print('-'*44)\n",
        "    print('encoder output')\n",
        "    print(dec_output[0, :20].numpy())\n",
        "    break"
      ]
    },
    {
      "cell_type": "markdown",
      "id": "28d9b401-6db9-47e0-bfff-da5b195a25e6",
      "metadata": {
        "id": "28d9b401-6db9-47e0-bfff-da5b195a25e6"
      },
      "source": [
        "# Encoder"
      ]
    },
    {
      "cell_type": "code",
      "execution_count": 19,
      "id": "5c67ae42-0dd5-4124-990f-b14b83ba8508",
      "metadata": {
        "id": "5c67ae42-0dd5-4124-990f-b14b83ba8508"
      },
      "outputs": [],
      "source": [
        "class Encoder(tf.keras.layers.Layer):\n",
        "    def __init__(self, text_vectorizer, units, embed_dims):\n",
        "        super(Encoder, self).__init__()\n",
        "        self.text_vectorizer =  text_vectorizer\n",
        "        self.units = units\n",
        "        self.embed_dims = embed_dims\n",
        "        self.vocab_size = text_vectorizer.vocabulary_size()\n",
        "        self.embedding = Embedding(input_dim=self.vocab_size, output_dim=self.embed_dims, mask_zero=True, )\n",
        "        self.rnn = Bidirectional(merge_mode='concat', layer = GRU(self.units, return_sequences=True, return_state=True))\n",
        "        \n",
        "    def call(self, x, y=None, return_state=False):\n",
        "        \n",
        "        x = self.embedding(x)\n",
        "        encoder_output, encoder_fw_state, encoder_bw_state = self.rnn(x)\n",
        "        encoder_state = [encoder_fw_state, encoder_bw_state]\n",
        "        \n",
        "        if return_state:\n",
        "            return encoder_output, encoder_state\n",
        "        else:\n",
        "            return encoder_output\n",
        "        \n",
        "    def convert_input(self, texts):\n",
        "        texts = tf.convert_to_tensor(texts)\n",
        "        if len(texts.shape) == 0:\n",
        "            texts = tf.convert_to_tensor(texts)[tf.newaxis]\n",
        "        context = self.text_vectorizer(texts)\n",
        "        context = self(context)\n",
        "        return context"
      ]
    },
    {
      "cell_type": "code",
      "execution_count": 20,
      "id": "5b48ad1c-e24f-40c7-b359-b0a01ecdabc2",
      "metadata": {
        "id": "5b48ad1c-e24f-40c7-b359-b0a01ecdabc2"
      },
      "outputs": [],
      "source": [
        "encoder = Encoder(vectorizer, UNITS, EMBEDDING_DIMS)"
      ]
    },
    {
      "cell_type": "code",
      "execution_count": 21,
      "id": "43be60fc-ff6d-416b-8088-cb9d63bd3bd9",
      "metadata": {
        "id": "43be60fc-ff6d-416b-8088-cb9d63bd3bd9"
      },
      "outputs": [],
      "source": [
        "en_context , en_state = encoder(enc_input, return_state = True)"
      ]
    },
    {
      "cell_type": "code",
      "execution_count": 22,
      "id": "767fe307-813f-4d5c-981a-d7d5cbd5ac1d",
      "metadata": {
        "colab": {
          "base_uri": "https://localhost:8080/"
        },
        "id": "767fe307-813f-4d5c-981a-d7d5cbd5ac1d",
        "outputId": "e34b8f46-2fbc-46c8-c0a7-5935aeb952af"
      },
      "outputs": [
        {
          "output_type": "stream",
          "name": "stdout",
          "text": [
            "context (32, 101, 128)\n",
            "state fw (32, 64)\n",
            "state bw (32, 64)\n"
          ]
        }
      ],
      "source": [
        "print('context',en_context.shape)\n",
        "print('state fw',en_state[0].shape)\n",
        "print('state bw',en_state[1].shape)"
      ]
    },
    {
      "cell_type": "markdown",
      "id": "ab3af4bd-0b39-4484-9282-9b70fb99a410",
      "metadata": {
        "id": "ab3af4bd-0b39-4484-9282-9b70fb99a410"
      },
      "source": [
        "# Attention Layer"
      ]
    },
    {
      "cell_type": "code",
      "execution_count": 23,
      "id": "29ced149-98e4-43ee-a364-450b110e8a51",
      "metadata": {
        "id": "29ced149-98e4-43ee-a364-450b110e8a51"
      },
      "outputs": [],
      "source": [
        "class CrossAttention(tf.keras.layers.Layer):\n",
        "    def __init__(self, units, **kwargs):\n",
        "        super().__init__()\n",
        "        self.mha = tf.keras.layers.MultiHeadAttention(key_dim=units, num_heads=1, **kwargs)\n",
        "        self.layernorm = tf.keras.layers.LayerNormalization()\n",
        "        self.add = tf.keras.layers.Add()\n",
        "\n",
        "    def call(self, x, context):\n",
        "\n",
        "        attn_output, attn_scores = self.mha(\n",
        "            query=x,\n",
        "            value=context,\n",
        "            return_attention_scores=True)\n",
        "\n",
        "        # Cache the attention scores for plotting later.\n",
        "        attn_scores = tf.reduce_mean(attn_scores, axis=1)\n",
        "        self.last_attention_weights = attn_scores\n",
        "\n",
        "        x = self.add([x, attn_output])\n",
        "        x = self.layernorm(x)\n",
        "\n",
        "        return x"
      ]
    },
    {
      "cell_type": "code",
      "execution_count": 24,
      "id": "ba272fc7-1a84-46f6-87f8-dd7984bde97a",
      "metadata": {
        "id": "ba272fc7-1a84-46f6-87f8-dd7984bde97a"
      },
      "outputs": [],
      "source": [
        "# attention = tf.keras.layers.Attention()\n",
        "# score = attention([en_context, en_context], return_attention_scores=True)"
      ]
    },
    {
      "cell_type": "code",
      "execution_count": 25,
      "id": "9934fea4-b9f6-4296-83e9-f4828404e9c3",
      "metadata": {
        "id": "9934fea4-b9f6-4296-83e9-f4828404e9c3"
      },
      "outputs": [],
      "source": [
        "attention = CrossAttention(UNITS)\n",
        "score = attention(en_context, en_context)"
      ]
    },
    {
      "cell_type": "code",
      "execution_count": 26,
      "id": "8e3bee7f-749e-4d51-a815-4a9d3ca14d61",
      "metadata": {
        "colab": {
          "base_uri": "https://localhost:8080/"
        },
        "id": "8e3bee7f-749e-4d51-a815-4a9d3ca14d61",
        "outputId": "8a7efb56-46df-4996-c3c8-17e3ad3df88a"
      },
      "outputs": [
        {
          "output_type": "stream",
          "name": "stdout",
          "text": [
            "(32, 101, 128)\n"
          ]
        }
      ],
      "source": [
        "if len(score)==2:\n",
        "    print(score[0].shape);print(score[1].shape)\n",
        "else:\n",
        "    print(score.shape)"
      ]
    },
    {
      "cell_type": "code",
      "execution_count": 27,
      "id": "ce41fb61-4536-419f-931d-6ee6d8f45d78",
      "metadata": {
        "colab": {
          "base_uri": "https://localhost:8080/",
          "height": 330
        },
        "id": "ce41fb61-4536-419f-931d-6ee6d8f45d78",
        "outputId": "74955762-c2c3-48d5-aa8b-da8f3cc63993"
      },
      "outputs": [
        {
          "output_type": "display_data",
          "data": {
            "text/plain": [
              "<Figure size 1800x360 with 4 Axes>"
            ],
            "image/png": "[encoded data removed]"
          },
          "metadata": {
            "needs_background": "light"
          }
        }
      ],
      "source": [
        "# score[0,:,:], en_context[0,:,:]\n",
        "random_num = random.randint(0,32)\n",
        "plt.figure(figsize = (25,5))\n",
        "\n",
        "try:\n",
        "    plt.subplot(1,2,1)\n",
        "    sns.heatmap(score[random_num,:30,:])\n",
        "\n",
        "#     # attention score\n",
        "#     plt.subplot(1,3,2)\n",
        "#     sns.heatmap(score[1][random_num,:30,:])\n",
        "\n",
        "    # encoder output\n",
        "    plt.subplot(1,2,2)\n",
        "    sns.heatmap(en_context[random_num,:30,:])\n",
        "    \n",
        "except:\n",
        "    pass"
      ]
    },
    {
      "cell_type": "markdown",
      "id": "a6218a27-5766-4f6c-881a-0aaaaf7ddadc",
      "metadata": {
        "id": "a6218a27-5766-4f6c-881a-0aaaaf7ddadc"
      },
      "source": [
        "# Decoder"
      ]
    },
    {
      "cell_type": "code",
      "execution_count": 52,
      "id": "fad27304-0f15-4d83-bab6-e919cae93bc8",
      "metadata": {
        "id": "fad27304-0f15-4d83-bab6-e919cae93bc8"
      },
      "outputs": [],
      "source": [
        "class Decoder(keras.layers.Layer):\n",
        "    def __init__(self, text_vectorizer, units,  embed_dims) :\n",
        "        super(Decoder, self).__init__()\n",
        "        self.text_vectorizer =  text_vectorizer\n",
        "        self.units = units\n",
        "        self.embed_dims = embed_dims\n",
        "        self.vocab_size = text_vectorizer.vocabulary_size()\n",
        "        \n",
        "        self.embedding = Embedding(input_dim=self.vocab_size, output_dim=self.embed_dims, mask_zero=True, )\n",
        "        self.rnn = LSTM(self.units, return_sequences=True, return_state=True)\n",
        "        \n",
        "        # self.attention =  tf.keras.layers.Attention()\n",
        "        self.attention = CrossAttention(units)\n",
        "        \n",
        "        self.output_dense = Dense(self.vocab_size)\n",
        "        \n",
        "        self.word_to_id = tf.keras.layers.StringLookup(vocabulary=text_vectorizer.get_vocabulary(), mask_token='', oov_token='[UNK]')\n",
        "        self.id_to_word = tf.keras.layers.StringLookup(vocabulary=text_vectorizer.get_vocabulary(), mask_token='', oov_token='[UNK]', invert=True)\n",
        "        \n",
        "        self.start_token = self.word_to_id('[START]')\n",
        "        self.end_token = self.word_to_id('[END]')\n",
        "\n",
        "    def call(self, x, context, state=None, return_state = False):\n",
        "        ''' x, context, state=None, return_sequence=False '''\n",
        "        \n",
        "        x = self.embedding(x)\n",
        "        \n",
        "        decoder_output, decoder_state = self.rnn(x, initial_state=state)\n",
        "        \n",
        "        # decoder_state = [decoder_state_h, decoder_state_c]\n",
        "        x = self.attention(decoder_output, context)\n",
        "        self.last_attention_weights = self.attention.last_attention_weights\n",
        "\n",
        "        logits = self.output_dense(x)\n",
        "        \n",
        "        if return_state:\n",
        "            return logits, decoder_state\n",
        "        else:\n",
        "            return logits\n",
        "        \n",
        "    def get_initial_state(self, context):\n",
        "        batch_size = tf.shape(context)[0]\n",
        "        start_tokens = tf.fill([batch_size, 1], self.start_token)\n",
        "        done = tf.zeros([batch_size, 1], dtype=tf.bool)\n",
        "        embedded = self.embedding(start_tokens)\n",
        "        return start_tokens, done, self.rnn.get_initial_state(embedded)[0]\n",
        "\n",
        "    \n",
        "    def tokens_to_text(self, tokens):\n",
        "        words = self.id_to_word(tokens)\n",
        "        result = tf.strings.reduce_join(words, axis=-1, separator=' ')\n",
        "        result = tf.strings.regex_replace(result, '^ *\\[START\\] *', '')\n",
        "        result = tf.strings.regex_replace(result, ' *\\[END\\] *$', '')\n",
        "        return result\n",
        "    \n",
        "    def get_next_token(self, next_token, context,  done, state, temperature = 0.0):\n",
        "        \n",
        "        logits, state = self(next_token, context, state = state, return_state=True) \n",
        "\n",
        "        if temperature == 0.0:\n",
        "            next_token = tf.argmax(logits, axis=-1)\n",
        "        else:\n",
        "            logits = logits[:, -1, :]/temperature\n",
        "            next_token = tf.random.categorical(logits, num_samples=1)\n",
        "\n",
        "        # If a sequence produces an `end_token`, set it `done`\n",
        "        done = done | (next_token == self.end_token)\n",
        "        # Once a sequence is done it only produces 0-padding.\n",
        "        next_token = tf.where(done, tf.constant(0, dtype=tf.int64), next_token)\n",
        "\n",
        "        return next_token, done, state"
      ]
    },
    {
      "cell_type": "code",
      "execution_count": 29,
      "id": "879cc0c6-cc2e-432b-831d-48cf9b7b6ac9",
      "metadata": {
        "id": "879cc0c6-cc2e-432b-831d-48cf9b7b6ac9"
      },
      "outputs": [],
      "source": [
        "decoder = Decoder(vectorizer, UNITS, EMBEDDING_DIMS)"
      ]
    },
    {
      "cell_type": "code",
      "execution_count": 30,
      "id": "b2c85709-e8f2-433f-b735-0ea34b6a098c",
      "metadata": {
        "id": "b2c85709-e8f2-433f-b735-0ea34b6a098c"
      },
      "outputs": [],
      "source": [
        "dec_out = decoder(dec_output, en_context, return_state = True)"
      ]
    },
    {
      "cell_type": "code",
      "execution_count": 31,
      "id": "f425b2f4-6b4f-4c9d-b20c-bcfe16f210d0",
      "metadata": {
        "colab": {
          "base_uri": "https://localhost:8080/"
        },
        "id": "f425b2f4-6b4f-4c9d-b20c-bcfe16f210d0",
        "outputId": "f869c597-6c7b-4b94-89a9-9706a7ac4d97"
      },
      "outputs": [
        {
          "output_type": "stream",
          "name": "stdout",
          "text": [
            "decoder logits shape: (32, 101, 49580)\n",
            "decoder state h shape: (32, 64)\n",
            "decoder state c shape: (32, 64)\n"
          ]
        }
      ],
      "source": [
        "print(f'decoder logits shape: {dec_out[0].shape}')\n",
        "print(f'decoder state h shape: {dec_out[1][0].shape}')\n",
        "print(f'decoder state c shape: {dec_out[1][1].shape}')"
      ]
    },
    {
      "cell_type": "markdown",
      "id": "a9202fc3-7c35-4969-bfce-62f4d007f370",
      "metadata": {
        "id": "a9202fc3-7c35-4969-bfce-62f4d007f370"
      },
      "source": [
        "# Model"
      ]
    },
    {
      "cell_type": "code",
      "execution_count": 32,
      "id": "e5a7f8e7-e609-4928-adc4-e7f4477e3dc5",
      "metadata": {
        "id": "e5a7f8e7-e609-4928-adc4-e7f4477e3dc5"
      },
      "outputs": [],
      "source": [
        "class ChatBot(tf.keras.Model):\n",
        "    \n",
        "    @classmethod\n",
        "    def add_method(cls, fun):\n",
        "        setattr(cls, fun.__name__, fun)\n",
        "        return fun\n",
        "\n",
        "    def __init__(self, text_processor, units, embed_dims):\n",
        "        super().__init__()\n",
        "        self.text_processor = text_processor\n",
        "        self.units = units\n",
        "        self.embed_dims = embed_dims\n",
        "        \n",
        "        # Build the encoder and decoder\n",
        "        encoder = Encoder(text_processor, units, embed_dims)\n",
        "        decoder = Decoder(text_processor, units, embed_dims)\n",
        "        \n",
        "        self.encoder = encoder\n",
        "        self.decoder = decoder\n",
        "\n",
        "    def call(self, inputs):\n",
        "        context, x = inputs\n",
        "        context = self.encoder(context)\n",
        "        logits = self.decoder(x, context)\n",
        "\n",
        "        #TODO(b/250038731): remove this\n",
        "        try:\n",
        "          # Delete the keras mask, so keras doesn't scale the loss+accuracy. \n",
        "            del logits._keras_mask\n",
        "        except AttributeError:\n",
        "            pass\n",
        "\n",
        "        return logits\n"
      ]
    },
    {
      "cell_type": "code",
      "execution_count": 33,
      "id": "957289ab-45b3-4d49-beb9-a7b5465e5606",
      "metadata": {
        "id": "957289ab-45b3-4d49-beb9-a7b5465e5606"
      },
      "outputs": [],
      "source": [
        "model = ChatBot(vectorizer, UNITS, EMBEDDING_DIMS)\n",
        "\n",
        "# logits = model((enc_input, dec_input))\n",
        "\n",
        "# print(f'Context tokens, shape: (batch, s, units) {enc_input.shape}')\n",
        "# print(f'Target tokens, shape: (batch, t) {dec_input.shape}')\n",
        "# print(f'logits, shape: (batch, t, target_vocabulary_size) {logits.shape}')"
      ]
    },
    {
      "cell_type": "markdown",
      "id": "da77aeb3-47b9-4cdf-9a07-9d157a3b6637",
      "metadata": {
        "id": "da77aeb3-47b9-4cdf-9a07-9d157a3b6637"
      },
      "source": [
        "# Masked Loss and Accuracy"
      ]
    },
    {
      "cell_type": "code",
      "execution_count": 34,
      "id": "b467a7c3-f49f-451b-8406-f46cf4b38874",
      "metadata": {
        "id": "b467a7c3-f49f-451b-8406-f46cf4b38874"
      },
      "outputs": [],
      "source": [
        "def masked_loss(y_true, y_pred):\n",
        "    # Calculate the loss for each item in the batch.\n",
        "    loss_fn = tf.keras.losses.SparseCategoricalCrossentropy(\n",
        "        from_logits=True, reduction='none')\n",
        "    loss = loss_fn(y_true, y_pred)\n",
        "\n",
        "    # Mask off the losses on padding.\n",
        "    mask = tf.cast(y_true != 0, loss.dtype)\n",
        "    loss *= mask\n",
        "\n",
        "    # Return the total.\n",
        "    return tf.reduce_sum(loss)/tf.reduce_sum(mask)"
      ]
    },
    {
      "cell_type": "code",
      "execution_count": 35,
      "id": "6cb6563a-9cf9-400f-a278-4fce7baffba9",
      "metadata": {
        "id": "6cb6563a-9cf9-400f-a278-4fce7baffba9"
      },
      "outputs": [],
      "source": [
        "def masked_acc(y_true, y_pred):\n",
        "    # Calculate the loss for each item in the batch.\n",
        "    y_pred = tf.argmax(y_pred, axis=-1)\n",
        "    y_pred = tf.cast(y_pred, y_true.dtype)\n",
        "\n",
        "    match = tf.cast(y_true == y_pred, tf.float32)\n",
        "    mask = tf.cast(y_true != 0, tf.float32)\n",
        "\n",
        "    return tf.reduce_sum(match)/tf.reduce_sum(mask)"
      ]
    },
    {
      "cell_type": "markdown",
      "id": "2d99608e-9e95-49b7-9043-5869e859626c",
      "metadata": {
        "id": "2d99608e-9e95-49b7-9043-5869e859626c"
      },
      "source": [
        "# Compile and Train"
      ]
    },
    {
      "cell_type": "code",
      "execution_count": 36,
      "id": "c43fdea7-7f01-4ade-b2bd-077287b359b6",
      "metadata": {
        "id": "c43fdea7-7f01-4ade-b2bd-077287b359b6"
      },
      "outputs": [],
      "source": [
        "model.compile(optimizer='adam',\n",
        "              loss=masked_loss, \n",
        "              metrics=[masked_acc, masked_loss])"
      ]
    },
    {
      "cell_type": "code",
      "execution_count": 37,
      "id": "917d4d6e-b512-419e-9814-aa3706d72c0b",
      "metadata": {
        "colab": {
          "base_uri": "https://localhost:8080/"
        },
        "id": "917d4d6e-b512-419e-9814-aa3706d72c0b",
        "outputId": "8ce505aa-9d2b-45a7-ada4-7fe24630ee99"
      },
      "outputs": [
        {
          "output_type": "execute_result",
          "data": {
            "text/plain": [
              "{'expected_loss': 10.811343, 'expected_acc': '0.0000202'}"
            ]
          },
          "metadata": {},
          "execution_count": 37
        }
      ],
      "source": [
        "# The model is randomly initialized, and should give roughly uniform output probabilities. \n",
        "# So it's easy to predict what the initial values of the metrics should be:\n",
        "\n",
        "\n",
        "vocab_size = 1.0 * vectorizer.vocabulary_size()\n",
        "\n",
        "{\"expected_loss\": tf.math.log(vocab_size).numpy(),\n",
        " \"expected_acc\": f'{1/vocab_size:.7f}'}"
      ]
    },
    {
      "cell_type": "code",
      "execution_count": null,
      "id": "d4c31939-9571-43eb-88a3-ddc714645d7f",
      "metadata": {
        "id": "d4c31939-9571-43eb-88a3-ddc714645d7f"
      },
      "outputs": [],
      "source": [
        "# model.evaluate(test_data, steps=20, return_dict=True)"
      ]
    },
    {
      "cell_type": "code",
      "execution_count": 77,
      "id": "189847f0-9736-4bb8-960c-37cdd3bcc183",
      "metadata": {
        "id": "189847f0-9736-4bb8-960c-37cdd3bcc183"
      },
      "outputs": [],
      "source": []
    },
    {
      "cell_type": "code",
      "source": [],
      "metadata": {
        "colab": {
          "base_uri": "https://localhost:8080/",
          "height": 328
        },
        "id": "JLhOsJRKvg5G",
        "outputId": "9d300695-f591-4caa-afdc-e25d1405fbb6"
      },
      "id": "JLhOsJRKvg5G",
      "execution_count": 85,
      "outputs": [
        {
          "output_type": "error",
          "ename": "MessageError",
          "evalue": "ignored",
          "traceback": [
            "\u001b[0;31m---------------------------------------------------------------------------\u001b[0m",
            "\u001b[0;31mMessageError\u001b[0m                              Traceback (most recent call last)",
            "\u001b[0;32m<ipython-input-85-d5df0069828e>\u001b[0m in \u001b[0;36m<module>\u001b[0;34m\u001b[0m\n\u001b[1;32m      1\u001b[0m \u001b[0;32mfrom\u001b[0m \u001b[0mgoogle\u001b[0m\u001b[0;34m.\u001b[0m\u001b[0mcolab\u001b[0m \u001b[0;32mimport\u001b[0m \u001b[0mdrive\u001b[0m\u001b[0;34m\u001b[0m\u001b[0;34m\u001b[0m\u001b[0m\n\u001b[0;32m----> 2\u001b[0;31m \u001b[0mdrive\u001b[0m\u001b[0;34m.\u001b[0m\u001b[0mmount\u001b[0m\u001b[0;34m(\u001b[0m\u001b[0;34m'/content/drive'\u001b[0m\u001b[0;34m)\u001b[0m\u001b[0;34m\u001b[0m\u001b[0;34m\u001b[0m\u001b[0m\n\u001b[0m",
            "\u001b[0;32m/usr/local/lib/python3.8/dist-packages/google/colab/drive.py\u001b[0m in \u001b[0;36mmount\u001b[0;34m(mountpoint, force_remount, timeout_ms, readonly)\u001b[0m\n\u001b[1;32m     98\u001b[0m \u001b[0;32mdef\u001b[0m \u001b[0mmount\u001b[0m\u001b[0;34m(\u001b[0m\u001b[0mmountpoint\u001b[0m\u001b[0;34m,\u001b[0m \u001b[0mforce_remount\u001b[0m\u001b[0;34m=\u001b[0m\u001b[0;32mFalse\u001b[0m\u001b[0;34m,\u001b[0m \u001b[0mtimeout_ms\u001b[0m\u001b[0;34m=\u001b[0m\u001b[0;36m120000\u001b[0m\u001b[0;34m,\u001b[0m \u001b[0mreadonly\u001b[0m\u001b[0;34m=\u001b[0m\u001b[0;32mFalse\u001b[0m\u001b[0;34m)\u001b[0m\u001b[0;34m:\u001b[0m\u001b[0;34m\u001b[0m\u001b[0;34m\u001b[0m\u001b[0m\n\u001b[1;32m     99\u001b[0m   \u001b[0;34m\"\"\"Mount your Google Drive at the specified mountpoint path.\"\"\"\u001b[0m\u001b[0;34m\u001b[0m\u001b[0;34m\u001b[0m\u001b[0m\n\u001b[0;32m--> 100\u001b[0;31m   return _mount(\n\u001b[0m\u001b[1;32m    101\u001b[0m       \u001b[0mmountpoint\u001b[0m\u001b[0;34m,\u001b[0m\u001b[0;34m\u001b[0m\u001b[0;34m\u001b[0m\u001b[0m\n\u001b[1;32m    102\u001b[0m       \u001b[0mforce_remount\u001b[0m\u001b[0;34m=\u001b[0m\u001b[0mforce_remount\u001b[0m\u001b[0;34m,\u001b[0m\u001b[0;34m\u001b[0m\u001b[0;34m\u001b[0m\u001b[0m\n",
            "\u001b[0;32m/usr/local/lib/python3.8/dist-packages/google/colab/drive.py\u001b[0m in \u001b[0;36m_mount\u001b[0;34m(mountpoint, force_remount, timeout_ms, ephemeral, readonly)\u001b[0m\n\u001b[1;32m    121\u001b[0m       'TBE_EPHEM_CREDS_ADDR'] if ephemeral else _os.environ['TBE_CREDS_ADDR']\n\u001b[1;32m    122\u001b[0m   \u001b[0;32mif\u001b[0m \u001b[0mephemeral\u001b[0m\u001b[0;34m:\u001b[0m\u001b[0;34m\u001b[0m\u001b[0;34m\u001b[0m\u001b[0m\n\u001b[0;32m--> 123\u001b[0;31m     _message.blocking_request(\n\u001b[0m\u001b[1;32m    124\u001b[0m         'request_auth', request={'authType': 'dfs_ephemeral'}, timeout_sec=None)\n\u001b[1;32m    125\u001b[0m \u001b[0;34m\u001b[0m\u001b[0m\n",
            "\u001b[0;32m/usr/local/lib/python3.8/dist-packages/google/colab/_message.py\u001b[0m in \u001b[0;36mblocking_request\u001b[0;34m(request_type, request, timeout_sec, parent)\u001b[0m\n\u001b[1;32m    169\u001b[0m   request_id = send_request(\n\u001b[1;32m    170\u001b[0m       request_type, request, parent=parent, expect_reply=True)\n\u001b[0;32m--> 171\u001b[0;31m   \u001b[0;32mreturn\u001b[0m \u001b[0mread_reply_from_input\u001b[0m\u001b[0;34m(\u001b[0m\u001b[0mrequest_id\u001b[0m\u001b[0;34m,\u001b[0m \u001b[0mtimeout_sec\u001b[0m\u001b[0;34m)\u001b[0m\u001b[0;34m\u001b[0m\u001b[0;34m\u001b[0m\u001b[0m\n\u001b[0m",
            "\u001b[0;32m/usr/local/lib/python3.8/dist-packages/google/colab/_message.py\u001b[0m in \u001b[0;36mread_reply_from_input\u001b[0;34m(message_id, timeout_sec)\u001b[0m\n\u001b[1;32m    100\u001b[0m         reply.get('colab_msg_id') == message_id):\n\u001b[1;32m    101\u001b[0m       \u001b[0;32mif\u001b[0m \u001b[0;34m'error'\u001b[0m \u001b[0;32min\u001b[0m \u001b[0mreply\u001b[0m\u001b[0;34m:\u001b[0m\u001b[0;34m\u001b[0m\u001b[0;34m\u001b[0m\u001b[0m\n\u001b[0;32m--> 102\u001b[0;31m         \u001b[0;32mraise\u001b[0m \u001b[0mMessageError\u001b[0m\u001b[0;34m(\u001b[0m\u001b[0mreply\u001b[0m\u001b[0;34m[\u001b[0m\u001b[0;34m'error'\u001b[0m\u001b[0;34m]\u001b[0m\u001b[0;34m)\u001b[0m\u001b[0;34m\u001b[0m\u001b[0;34m\u001b[0m\u001b[0m\n\u001b[0m\u001b[1;32m    103\u001b[0m       \u001b[0;32mreturn\u001b[0m \u001b[0mreply\u001b[0m\u001b[0;34m.\u001b[0m\u001b[0mget\u001b[0m\u001b[0;34m(\u001b[0m\u001b[0;34m'data'\u001b[0m\u001b[0;34m,\u001b[0m \u001b[0;32mNone\u001b[0m\u001b[0;34m)\u001b[0m\u001b[0;34m\u001b[0m\u001b[0;34m\u001b[0m\u001b[0m\n\u001b[1;32m    104\u001b[0m \u001b[0;34m\u001b[0m\u001b[0m\n",
            "\u001b[0;31mMessageError\u001b[0m: Error: credential propagation was unsuccessful"
          ]
        }
      ]
    },
    {
      "cell_type": "code",
      "execution_count": 38,
      "id": "67db03e0-3e8c-4112-906e-629eace43d6c",
      "metadata": {
        "id": "67db03e0-3e8c-4112-906e-629eace43d6c"
      },
      "outputs": [],
      "source": [
        "EPOCHS = 50\n",
        "\n",
        "# CKPT_DIR = './model_checkpoint'\n",
        "CKPT_DIR = '/content/drive/MyDrive/tf_model/chatbot'\n",
        "os.makedirs(CKPT_DIR, exist_ok = True)\n",
        "model_ckpt = tf.keras.callbacks.ModelCheckpoint(\n",
        "    os.path.join(CKPT_DIR,  f\"{datetime.now().strftime('%m:%d:%Y, %H:%M:%S')}\"),\n",
        "    monitor= 'masked_acc',\n",
        "    verbose= 0,\n",
        "    save_best_only = True,\n",
        "    save_weights_only = True,\n",
        "    mode= 'auto',\n",
        "    save_freq='epoch'\n",
        ")\n",
        "\n",
        "os.makedirs('log', exist_ok = True)\n",
        "csv_logger = CSVLogger('./log/training.log')\n"
      ]
    },
    {
      "cell_type": "code",
      "execution_count": 39,
      "id": "fa701395-19c8-4df3-b1aa-67591bf467cd",
      "metadata": {
        "colab": {
          "base_uri": "https://localhost:8080/"
        },
        "id": "fa701395-19c8-4df3-b1aa-67591bf467cd",
        "outputId": "35251560-ec20-475c-fae3-e14cde806d51"
      },
      "outputs": [
        {
          "output_type": "stream",
          "name": "stdout",
          "text": [
            "80/80 [==============================] - 23s 281ms/step - loss: 4.5007 - masked_acc: 0.2696 - masked_loss: 4.5007 - val_loss: 4.4776 - val_masked_acc: 0.2570 - val_masked_loss: 4.4776\n",
            "Epoch 49/50\n",
            "80/80 [==============================] - 22s 274ms/step - loss: 4.4736 - masked_acc: 0.2655 - masked_loss: 4.4736 - val_loss: 4.4624 - val_masked_acc: 0.2581 - val_masked_loss: 4.4624\n",
            "Epoch 50/50\n",
            "80/80 [==============================] - 22s 275ms/step - loss: 4.4758 - masked_acc: 0.2715 - masked_loss: 4.4758 - val_loss: 4.4707 - val_masked_acc: 0.2611 - val_masked_loss: 4.4707\n"
          ]
        }
      ],
      "source": [
        "# Train\n",
        "history = model.fit(\n",
        "    train_data.repeat(), \n",
        "    epochs=EPOCHS,\n",
        "    steps_per_epoch = 80,\n",
        "    validation_data=test_data,\n",
        "    validation_steps = 5,\n",
        "    callbacks=[\n",
        "        tf.keras.callbacks.EarlyStopping(patience=5), model_ckpt, csv_logger])"
      ]
    },
    {
      "cell_type": "code",
      "execution_count": null,
      "id": "e410b291-7f4c-4e24-b2c6-73a3b043aec0",
      "metadata": {
        "id": "e410b291-7f4c-4e24-b2c6-73a3b043aec0"
      },
      "outputs": [],
      "source": []
    },
    {
      "cell_type": "code",
      "execution_count": 53,
      "id": "d140e0b1-4d3e-444b-a874-4aae649839d4",
      "metadata": {
        "id": "d140e0b1-4d3e-444b-a874-4aae649839d4"
      },
      "outputs": [],
      "source": [
        "@ChatBot.add_method\n",
        "def translate(self,\n",
        "              texts, *,\n",
        "              max_length=50,\n",
        "              temperature=0.0):\n",
        "    # Process the input texts\n",
        "    context = self.encoder.convert_input(texts)\n",
        "    batch_size = tf.shape(texts)[0]\n",
        "\n",
        "    # Setup the loop inputs\n",
        "    tokens = []\n",
        "    attention_weights = []\n",
        "    next_token, done, state = self.decoder.get_initial_state(context)\n",
        "    # state =[state,state]\n",
        "    for _ in range(max_length):\n",
        "        # Generate the next token\n",
        "        next_token, done, state = self.decoder.get_next_token(\n",
        "                next_token, context, done,  state, temperature)\n",
        "\n",
        "        # Collect the generated tokens\n",
        "        tokens.append(next_token)\n",
        "        attention_weights.append(self.decoder.last_attention_weights)\n",
        "\n",
        "        if tf.executing_eagerly() and tf.reduce_all(done):\n",
        "            break\n",
        "\n",
        "    # Stack the lists of tokens and attention weights.\n",
        "    tokens = tf.concat(tokens, axis=-1)   # t*[(batch 1)] -> (batch, t)\n",
        "    self.last_attention_weights = tf.concat(attention_weights, axis=1)  # t*[(batch 1 s)] -> (batch, t s)\n",
        "\n",
        "    result = self.decoder.tokens_to_text(tokens)\n",
        "    return result"
      ]
    },
    {
      "cell_type": "code",
      "execution_count": 54,
      "id": "f8b3fc5e-5b08-4b2f-8b49-b376f8e18d10",
      "metadata": {
        "colab": {
          "base_uri": "https://localhost:8080/",
          "height": 554
        },
        "id": "f8b3fc5e-5b08-4b2f-8b49-b376f8e18d10",
        "outputId": "5cef757e-64d2-484e-cdde-e9a5dc22a6dd"
      },
      "outputs": [
        {
          "output_type": "error",
          "ename": "ValueError",
          "evalue": "ignored",
          "traceback": [
            "\u001b[0;31m---------------------------------------------------------------------------\u001b[0m",
            "\u001b[0;31mValueError\u001b[0m                                Traceback (most recent call last)",
            "\u001b[0;32m<ipython-input-54-02b51d158d8f>\u001b[0m in \u001b[0;36m<module>\u001b[0;34m\u001b[0m\n\u001b[0;32m----> 1\u001b[0;31m \u001b[0mresult\u001b[0m \u001b[0;34m=\u001b[0m \u001b[0mmodel\u001b[0m\u001b[0;34m.\u001b[0m\u001b[0mtranslate\u001b[0m\u001b[0;34m(\u001b[0m\u001b[0;34m[\u001b[0m\u001b[0;34m'  You demand to be served.'\u001b[0m\u001b[0;34m]\u001b[0m\u001b[0;34m)\u001b[0m \u001b[0;31m# Are you still home\u001b[0m\u001b[0;34m\u001b[0m\u001b[0;34m\u001b[0m\u001b[0m\n\u001b[0m\u001b[1;32m      2\u001b[0m \u001b[0mresult\u001b[0m\u001b[0;34m[\u001b[0m\u001b[0;36m0\u001b[0m\u001b[0;34m]\u001b[0m\u001b[0;34m.\u001b[0m\u001b[0mnumpy\u001b[0m\u001b[0;34m(\u001b[0m\u001b[0;34m)\u001b[0m\u001b[0;34m.\u001b[0m\u001b[0mdecode\u001b[0m\u001b[0;34m(\u001b[0m\u001b[0;34m)\u001b[0m\u001b[0;34m\u001b[0m\u001b[0;34m\u001b[0m\u001b[0m\n",
            "\u001b[0;32m<ipython-input-53-9903e2f7ce2c>\u001b[0m in \u001b[0;36mtranslate\u001b[0;34m(self, texts, max_length, temperature)\u001b[0m\n\u001b[1;32m     15\u001b[0m     \u001b[0;32mfor\u001b[0m \u001b[0m_\u001b[0m \u001b[0;32min\u001b[0m \u001b[0mrange\u001b[0m\u001b[0;34m(\u001b[0m\u001b[0mmax_length\u001b[0m\u001b[0;34m)\u001b[0m\u001b[0;34m:\u001b[0m\u001b[0;34m\u001b[0m\u001b[0;34m\u001b[0m\u001b[0m\n\u001b[1;32m     16\u001b[0m         \u001b[0;31m# Generate the next token\u001b[0m\u001b[0;34m\u001b[0m\u001b[0;34m\u001b[0m\u001b[0;34m\u001b[0m\u001b[0m\n\u001b[0;32m---> 17\u001b[0;31m         next_token, done, state = self.decoder.get_next_token(\n\u001b[0m\u001b[1;32m     18\u001b[0m                 next_token, context, done,  state, temperature)\n\u001b[1;32m     19\u001b[0m \u001b[0;34m\u001b[0m\u001b[0m\n",
            "\u001b[0;32m<ipython-input-28-832df45b0019>\u001b[0m in \u001b[0;36mget_next_token\u001b[0;34m(self, next_token, context, done, state, temperature)\u001b[0m\n\u001b[1;32m     56\u001b[0m     \u001b[0;32mdef\u001b[0m \u001b[0mget_next_token\u001b[0m\u001b[0;34m(\u001b[0m\u001b[0mself\u001b[0m\u001b[0;34m,\u001b[0m \u001b[0mnext_token\u001b[0m\u001b[0;34m,\u001b[0m \u001b[0mcontext\u001b[0m\u001b[0;34m,\u001b[0m  \u001b[0mdone\u001b[0m\u001b[0;34m,\u001b[0m \u001b[0mstate\u001b[0m\u001b[0;34m,\u001b[0m \u001b[0mtemperature\u001b[0m \u001b[0;34m=\u001b[0m \u001b[0;36m0.0\u001b[0m\u001b[0;34m)\u001b[0m\u001b[0;34m:\u001b[0m\u001b[0;34m\u001b[0m\u001b[0;34m\u001b[0m\u001b[0m\n\u001b[1;32m     57\u001b[0m \u001b[0;34m\u001b[0m\u001b[0m\n\u001b[0;32m---> 58\u001b[0;31m         \u001b[0mlogits\u001b[0m\u001b[0;34m,\u001b[0m \u001b[0mstate\u001b[0m \u001b[0;34m=\u001b[0m \u001b[0mself\u001b[0m\u001b[0;34m(\u001b[0m\u001b[0mnext_token\u001b[0m\u001b[0;34m,\u001b[0m \u001b[0mcontext\u001b[0m\u001b[0;34m,\u001b[0m \u001b[0mstate\u001b[0m \u001b[0;34m=\u001b[0m \u001b[0mstate\u001b[0m\u001b[0;34m,\u001b[0m \u001b[0mreturn_state\u001b[0m\u001b[0;34m=\u001b[0m\u001b[0;32mTrue\u001b[0m\u001b[0;34m)\u001b[0m\u001b[0;34m\u001b[0m\u001b[0;34m\u001b[0m\u001b[0m\n\u001b[0m\u001b[1;32m     59\u001b[0m \u001b[0;34m\u001b[0m\u001b[0m\n\u001b[1;32m     60\u001b[0m         \u001b[0;32mif\u001b[0m \u001b[0mtemperature\u001b[0m \u001b[0;34m==\u001b[0m \u001b[0;36m0.0\u001b[0m\u001b[0;34m:\u001b[0m\u001b[0;34m\u001b[0m\u001b[0;34m\u001b[0m\u001b[0m\n",
            "\u001b[0;32m/usr/local/lib/python3.8/dist-packages/keras/utils/traceback_utils.py\u001b[0m in \u001b[0;36merror_handler\u001b[0;34m(*args, **kwargs)\u001b[0m\n\u001b[1;32m     68\u001b[0m             \u001b[0;31m# To get the full stack trace, call:\u001b[0m\u001b[0;34m\u001b[0m\u001b[0;34m\u001b[0m\u001b[0;34m\u001b[0m\u001b[0m\n\u001b[1;32m     69\u001b[0m             \u001b[0;31m# `tf.debugging.disable_traceback_filtering()`\u001b[0m\u001b[0;34m\u001b[0m\u001b[0;34m\u001b[0m\u001b[0;34m\u001b[0m\u001b[0m\n\u001b[0;32m---> 70\u001b[0;31m             \u001b[0;32mraise\u001b[0m \u001b[0me\u001b[0m\u001b[0;34m.\u001b[0m\u001b[0mwith_traceback\u001b[0m\u001b[0;34m(\u001b[0m\u001b[0mfiltered_tb\u001b[0m\u001b[0;34m)\u001b[0m \u001b[0;32mfrom\u001b[0m \u001b[0;32mNone\u001b[0m\u001b[0;34m\u001b[0m\u001b[0;34m\u001b[0m\u001b[0m\n\u001b[0m\u001b[1;32m     71\u001b[0m         \u001b[0;32mfinally\u001b[0m\u001b[0;34m:\u001b[0m\u001b[0;34m\u001b[0m\u001b[0;34m\u001b[0m\u001b[0m\n\u001b[1;32m     72\u001b[0m             \u001b[0;32mdel\u001b[0m \u001b[0mfiltered_tb\u001b[0m\u001b[0;34m\u001b[0m\u001b[0;34m\u001b[0m\u001b[0m\n",
            "\u001b[0;32m<ipython-input-28-832df45b0019>\u001b[0m in \u001b[0;36mcall\u001b[0;34m(self, x, context, state, return_state)\u001b[0m\n\u001b[1;32m     26\u001b[0m         \u001b[0mx\u001b[0m \u001b[0;34m=\u001b[0m \u001b[0mself\u001b[0m\u001b[0;34m.\u001b[0m\u001b[0membedding\u001b[0m\u001b[0;34m(\u001b[0m\u001b[0mx\u001b[0m\u001b[0;34m)\u001b[0m\u001b[0;34m\u001b[0m\u001b[0;34m\u001b[0m\u001b[0m\n\u001b[1;32m     27\u001b[0m \u001b[0;34m\u001b[0m\u001b[0m\n\u001b[0;32m---> 28\u001b[0;31m         \u001b[0mdecoder_output\u001b[0m\u001b[0;34m,\u001b[0m \u001b[0mdecoder_state_h\u001b[0m\u001b[0;34m,\u001b[0m \u001b[0mdecoder_state_c\u001b[0m \u001b[0;34m=\u001b[0m \u001b[0mself\u001b[0m\u001b[0;34m.\u001b[0m\u001b[0mrnn\u001b[0m\u001b[0;34m(\u001b[0m\u001b[0mx\u001b[0m\u001b[0;34m,\u001b[0m \u001b[0minitial_state\u001b[0m\u001b[0;34m=\u001b[0m\u001b[0mstate\u001b[0m\u001b[0;34m)\u001b[0m\u001b[0;34m\u001b[0m\u001b[0;34m\u001b[0m\u001b[0m\n\u001b[0m\u001b[1;32m     29\u001b[0m \u001b[0;34m\u001b[0m\u001b[0m\n\u001b[1;32m     30\u001b[0m         \u001b[0mdecoder_state\u001b[0m \u001b[0;34m=\u001b[0m \u001b[0;34m[\u001b[0m\u001b[0mdecoder_state_h\u001b[0m\u001b[0;34m,\u001b[0m \u001b[0mdecoder_state_c\u001b[0m\u001b[0;34m]\u001b[0m\u001b[0;34m\u001b[0m\u001b[0;34m\u001b[0m\u001b[0m\n",
            "\u001b[0;31mValueError\u001b[0m: Exception encountered when calling layer 'lstm_1' (type LSTM).\n\nLayer has 2 states but was passed 1 initial states. Received: initial_state=[<tf.Tensor: shape=(1, 64), dtype=float32, numpy=\narray([[0., 0., 0., 0., 0., 0., 0., 0., 0., 0., 0., 0., 0., 0., 0., 0.,\n        0., 0., 0., 0., 0., 0., 0., 0., 0., 0., 0., 0., 0., 0., 0., 0.,\n        0., 0., 0., 0., 0., 0., 0., 0., 0., 0., 0., 0., 0., 0., 0., 0.,\n        0., 0., 0., 0., 0., 0., 0., 0., 0., 0., 0., 0., 0., 0., 0., 0.]],\n      dtype=float32)>]\n\nCall arguments received by layer 'lstm_1' (type LSTM):\n  • inputs=tf.Tensor(shape=(1, 1, 128), dtype=float32)\n  • mask=tf.Tensor(shape=(1, 1), dtype=bool)\n  • training=None\n  • initial_state=['tf.Tensor(shape=(1, 64), dtype=float32)']"
          ]
        }
      ],
      "source": [
        "result = model.translate(['  You demand to be served.']) # Are you still home\n",
        "result[0].numpy().decode()"
      ]
    },
    {
      "cell_type": "code",
      "execution_count": 55,
      "id": "3fb75a2d-55a8-48e2-a5e7-a9e9f4b931c4",
      "metadata": {
        "colab": {
          "base_uri": "https://localhost:8080/"
        },
        "id": "3fb75a2d-55a8-48e2-a5e7-a9e9f4b931c4",
        "outputId": "a585bbf0-d751-4fdd-bbd1-ecc53d31317f"
      },
      "outputs": [
        {
          "output_type": "execute_result",
          "data": {
            "text/plain": [
              "144185    is bending down, pulling a tray of sausage rol...\n",
              "95380                                My God! What happened?\n",
              "49331                                         [I want you.]\n",
              "14785     He tells me he can give us an exit visa, but w...\n",
              "203843    Some Italian I picked up back there. Hes in t...\n",
              "                                ...                        \n",
              "184195    No I'm not!  I'm talking about common, everyda...\n",
              "49723                                        When was this?\n",
              "156845    You had your coaches and your father for that ...\n",
              "200099          You demand to be served.  A fork fetishist.\n",
              "14100                                     You called it in?\n",
              "Name: col1, Length: 210217, dtype: object"
            ]
          },
          "metadata": {},
          "execution_count": 55
        }
      ],
      "source": [
        "xtrain"
      ]
    },
    {
      "cell_type": "code",
      "execution_count": null,
      "id": "6de7759d-922d-4f7b-bb83-839b7890b4d2",
      "metadata": {
        "id": "6de7759d-922d-4f7b-bb83-839b7890b4d2"
      },
      "outputs": [],
      "source": []
    },
    {
      "cell_type": "code",
      "execution_count": null,
      "id": "cfd97eac-eafe-4b84-9816-54cfaf913289",
      "metadata": {
        "id": "cfd97eac-eafe-4b84-9816-54cfaf913289"
      },
      "outputs": [],
      "source": []
    },
    {
      "cell_type": "code",
      "execution_count": null,
      "id": "4e3bf025-7830-4acc-a1b9-df54135284c5",
      "metadata": {
        "id": "4e3bf025-7830-4acc-a1b9-df54135284c5"
      },
      "outputs": [],
      "source": []
    },
    {
      "cell_type": "code",
      "execution_count": null,
      "id": "1d6959ac-dcce-4ca7-ba61-a962ffd0b2f1",
      "metadata": {
        "id": "1d6959ac-dcce-4ca7-ba61-a962ffd0b2f1"
      },
      "outputs": [],
      "source": []
    },
    {
      "cell_type": "code",
      "execution_count": null,
      "id": "aa54b47a-fbf1-4359-b8c8-1c2aaaa2dffa",
      "metadata": {
        "id": "aa54b47a-fbf1-4359-b8c8-1c2aaaa2dffa"
      },
      "outputs": [],
      "source": []
    },
    {
      "cell_type": "code",
      "execution_count": null,
      "id": "fe429c0e-861d-4e02-a349-747f36d5a39a",
      "metadata": {
        "id": "fe429c0e-861d-4e02-a349-747f36d5a39a"
      },
      "outputs": [],
      "source": []
    },
    {
      "cell_type": "code",
      "execution_count": null,
      "id": "87996d32-419a-469c-80cc-7cfc2a087bef",
      "metadata": {
        "id": "87996d32-419a-469c-80cc-7cfc2a087bef"
      },
      "outputs": [],
      "source": []
    },
    {
      "cell_type": "code",
      "execution_count": null,
      "id": "7efbd363-3d34-4c2b-bdeb-7dc550ec0454",
      "metadata": {
        "id": "7efbd363-3d34-4c2b-bdeb-7dc550ec0454"
      },
      "outputs": [],
      "source": []
    },
    {
      "cell_type": "code",
      "execution_count": null,
      "id": "1cd879d8-02ad-478f-b9e7-3da9bf36e27a",
      "metadata": {
        "id": "1cd879d8-02ad-478f-b9e7-3da9bf36e27a"
      },
      "outputs": [],
      "source": []
    },
    {
      "cell_type": "code",
      "execution_count": null,
      "id": "0c2664e1-fa1b-4851-aed7-7cd275b42f92",
      "metadata": {
        "id": "0c2664e1-fa1b-4851-aed7-7cd275b42f92"
      },
      "outputs": [],
      "source": []
    },
    {
      "cell_type": "code",
      "execution_count": null,
      "id": "7091939c-1e2f-48e9-b796-bb9dc7ebedca",
      "metadata": {
        "id": "7091939c-1e2f-48e9-b796-bb9dc7ebedca"
      },
      "outputs": [],
      "source": []
    },
    {
      "cell_type": "code",
      "execution_count": null,
      "id": "fd8cbb47-aac9-4823-a493-a1e023645b1e",
      "metadata": {
        "id": "fd8cbb47-aac9-4823-a493-a1e023645b1e"
      },
      "outputs": [],
      "source": []
    },
    {
      "cell_type": "code",
      "execution_count": null,
      "id": "f5d7244e-0282-4051-af2d-ab2672db956d",
      "metadata": {
        "id": "f5d7244e-0282-4051-af2d-ab2672db956d"
      },
      "outputs": [],
      "source": []
    },
    {
      "cell_type": "code",
      "execution_count": null,
      "id": "d176d4b4-8ca4-4924-b896-8e20e6106a22",
      "metadata": {
        "id": "d176d4b4-8ca4-4924-b896-8e20e6106a22"
      },
      "outputs": [],
      "source": []
    },
    {
      "cell_type": "code",
      "execution_count": null,
      "id": "97a254b6-b5c9-4a10-983f-7c2c12f16b33",
      "metadata": {
        "id": "97a254b6-b5c9-4a10-983f-7c2c12f16b33"
      },
      "outputs": [],
      "source": []
    }
  ],
  "metadata": {
    "kernelspec": {
      "display_name": "Python 3",
      "name": "python3"
    },
    "language_info": {
      "name": "python"
    },
    "colab": {
      "provenance": []
    },
    "accelerator": "GPU",
    "gpuClass": "standard"
  },
  "nbformat": 4,
  "nbformat_minor": 5
}