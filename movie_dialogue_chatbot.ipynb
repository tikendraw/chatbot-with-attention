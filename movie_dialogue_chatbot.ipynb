{
 "cells": [
  {
   "cell_type": "code",
   "execution_count": 1,
   "id": "55dd94cd-06fb-4dba-a2c9-3a366e216863",
   "metadata": {},
   "outputs": [
    {
     "name": "stderr",
     "output_type": "stream",
     "text": [
      "2023-02-25 19:51:22.623669: I tensorflow/core/platform/cpu_feature_guard.cc:193] This TensorFlow binary is optimized with oneAPI Deep Neural Network Library (oneDNN) to use the following CPU instructions in performance-critical operations:  AVX2 FMA\n",
      "To enable them in other operations, rebuild TensorFlow with the appropriate compiler flags.\n",
      "2023-02-25 19:51:24.467896: W tensorflow/compiler/xla/stream_executor/platform/default/dso_loader.cc:64] Could not load dynamic library 'libnvinfer.so.7'; dlerror: libnvinfer.so.7: cannot open shared object file: No such file or directory; LD_LIBRARY_PATH: :/home/t/miniconda3/envs/tf_new/lib/\n",
      "2023-02-25 19:51:24.467996: W tensorflow/compiler/xla/stream_executor/platform/default/dso_loader.cc:64] Could not load dynamic library 'libnvinfer_plugin.so.7'; dlerror: libnvinfer_plugin.so.7: cannot open shared object file: No such file or directory; LD_LIBRARY_PATH: :/home/t/miniconda3/envs/tf_new/lib/\n",
      "2023-02-25 19:51:24.468004: W tensorflow/compiler/tf2tensorrt/utils/py_utils.cc:38] TF-TRT Warning: Cannot dlopen some TensorRT libraries. If you would like to use Nvidia GPU with TensorRT, please make sure the missing libraries mentioned above are installed properly.\n"
     ]
    },
    {
     "name": "stdout",
     "output_type": "stream",
     "text": [
      "GPU Avaliable:  1\n"
     ]
    },
    {
     "name": "stderr",
     "output_type": "stream",
     "text": [
      "2023-02-25 19:51:26.081185: I tensorflow/compiler/xla/stream_executor/cuda/cuda_gpu_executor.cc:981] successful NUMA node read from SysFS had negative value (-1), but there must be at least one NUMA node, so returning NUMA node zero\n",
      "2023-02-25 19:51:26.137239: I tensorflow/compiler/xla/stream_executor/cuda/cuda_gpu_executor.cc:981] successful NUMA node read from SysFS had negative value (-1), but there must be at least one NUMA node, so returning NUMA node zero\n",
      "2023-02-25 19:51:26.137885: I tensorflow/compiler/xla/stream_executor/cuda/cuda_gpu_executor.cc:981] successful NUMA node read from SysFS had negative value (-1), but there must be at least one NUMA node, so returning NUMA node zero\n"
     ]
    }
   ],
   "source": [
    "import seaborn as sns\n",
    "import random, os\n",
    "import pandas as pd\n",
    "import numpy as np\n",
    "import tensorflow as tf\n",
    "from tensorflow import keras\n",
    "from sklearn.model_selection import train_test_split\n",
    "from tensorflow.keras.layers import TextVectorization, Embedding, LSTM, GRU, Bidirectional, TimeDistributed, Dense, Attention, MultiHeadAttention\n",
    "import tensorflow_text as tf_text\n",
    "import pickle\n",
    "from datetime import datetime\n",
    "\n",
    "\n",
    "print('GPU Avaliable: ', gpu:=len(tf.config.list_physical_devices('GPU')))\n",
    "if gpu:\n",
    "    pass\n",
    "\n"
   ]
  },
  {
   "cell_type": "code",
   "execution_count": 2,
   "id": "97a4f457-d0a0-4323-9cc9-2a2b247029f1",
   "metadata": {},
   "outputs": [],
   "source": [
    "DEBUG = False\n",
    "\n",
    "if DEBUG:\n",
    "    pass\n",
    "else:\n",
    "    pass"
   ]
  },
  {
   "cell_type": "code",
   "execution_count": 3,
   "id": "753818c9-d137-4fa1-a9a2-9d50d577ce66",
   "metadata": {},
   "outputs": [],
   "source": [
    "data = pd.read_csv('./dataset.csv',sep = '\\t',encoding='latin1', names = ['col1','col2'])"
   ]
  },
  {
   "cell_type": "code",
   "execution_count": 4,
   "id": "480362ff-ec17-472e-b205-95896f3f561d",
   "metadata": {},
   "outputs": [
    {
     "data": {
      "text/html": [
       "<div>\n",
       "<style scoped>\n",
       "    .dataframe tbody tr th:only-of-type {\n",
       "        vertical-align: middle;\n",
       "    }\n",
       "\n",
       "    .dataframe tbody tr th {\n",
       "        vertical-align: top;\n",
       "    }\n",
       "\n",
       "    .dataframe thead th {\n",
       "        text-align: right;\n",
       "    }\n",
       "</style>\n",
       "<table border=\"1\" class=\"dataframe\">\n",
       "  <thead>\n",
       "    <tr style=\"text-align: right;\">\n",
       "      <th></th>\n",
       "      <th>col1</th>\n",
       "      <th>col2</th>\n",
       "    </tr>\n",
       "  </thead>\n",
       "  <tbody>\n",
       "    <tr>\n",
       "      <th>0</th>\n",
       "      <td>Can we make this quick?  Roxanne Korrine and A...</td>\n",
       "      <td>Well, I thought we'd start with pronunciation,...</td>\n",
       "    </tr>\n",
       "    <tr>\n",
       "      <th>1</th>\n",
       "      <td>Well, I thought we'd start with pronunciation,...</td>\n",
       "      <td>Not the hacking and gagging and spitting part....</td>\n",
       "    </tr>\n",
       "    <tr>\n",
       "      <th>2</th>\n",
       "      <td>Not the hacking and gagging and spitting part....</td>\n",
       "      <td>Okay... then how 'bout we try out some French ...</td>\n",
       "    </tr>\n",
       "    <tr>\n",
       "      <th>3</th>\n",
       "      <td>You're asking me out.  That's so cute. What's ...</td>\n",
       "      <td>Forget it.</td>\n",
       "    </tr>\n",
       "    <tr>\n",
       "      <th>4</th>\n",
       "      <td>No, no, it's my fault -- we didn't have a prop...</td>\n",
       "      <td>Cameron.</td>\n",
       "    </tr>\n",
       "    <tr>\n",
       "      <th>...</th>\n",
       "      <td>...</td>\n",
       "      <td>...</td>\n",
       "    </tr>\n",
       "    <tr>\n",
       "      <th>221277</th>\n",
       "      <td>Your orders, Mr Vereker?</td>\n",
       "      <td>I'm to take the Sikali with the main column to...</td>\n",
       "    </tr>\n",
       "    <tr>\n",
       "      <th>221278</th>\n",
       "      <td>I'm to take the Sikali with the main column to...</td>\n",
       "      <td>Lord Chelmsford seems to want me to stay back ...</td>\n",
       "    </tr>\n",
       "    <tr>\n",
       "      <th>221279</th>\n",
       "      <td>Lord Chelmsford seems to want me to stay back ...</td>\n",
       "      <td>I think Chelmsford wants a good man on the bor...</td>\n",
       "    </tr>\n",
       "    <tr>\n",
       "      <th>221280</th>\n",
       "      <td>Well I assure you, Sir, I have no desire to cr...</td>\n",
       "      <td>And I assure you, you do not In fact I'd be ob...</td>\n",
       "    </tr>\n",
       "    <tr>\n",
       "      <th>221281</th>\n",
       "      <td>And I assure you, you do not In fact I'd be ob...</td>\n",
       "      <td>So far only their scouts. But we have had repo...</td>\n",
       "    </tr>\n",
       "  </tbody>\n",
       "</table>\n",
       "<p>221282 rows × 2 columns</p>\n",
       "</div>"
      ],
      "text/plain": [
       "                                                     col1  \\\n",
       "0       Can we make this quick?  Roxanne Korrine and A...   \n",
       "1       Well, I thought we'd start with pronunciation,...   \n",
       "2       Not the hacking and gagging and spitting part....   \n",
       "3       You're asking me out.  That's so cute. What's ...   \n",
       "4       No, no, it's my fault -- we didn't have a prop...   \n",
       "...                                                   ...   \n",
       "221277                           Your orders, Mr Vereker?   \n",
       "221278  I'm to take the Sikali with the main column to...   \n",
       "221279  Lord Chelmsford seems to want me to stay back ...   \n",
       "221280  Well I assure you, Sir, I have no desire to cr...   \n",
       "221281  And I assure you, you do not In fact I'd be ob...   \n",
       "\n",
       "                                                     col2  \n",
       "0       Well, I thought we'd start with pronunciation,...  \n",
       "1       Not the hacking and gagging and spitting part....  \n",
       "2       Okay... then how 'bout we try out some French ...  \n",
       "3                                              Forget it.  \n",
       "4                                                Cameron.  \n",
       "...                                                   ...  \n",
       "221277  I'm to take the Sikali with the main column to...  \n",
       "221278  Lord Chelmsford seems to want me to stay back ...  \n",
       "221279  I think Chelmsford wants a good man on the bor...  \n",
       "221280  And I assure you, you do not In fact I'd be ob...  \n",
       "221281  So far only their scouts. But we have had repo...  \n",
       "\n",
       "[221282 rows x 2 columns]"
      ]
     },
     "execution_count": 4,
     "metadata": {},
     "output_type": "execute_result"
    }
   ],
   "source": [
    "data"
   ]
  },
  {
   "cell_type": "code",
   "execution_count": 5,
   "id": "74eb0854-494c-4599-92af-99ec3e6ef160",
   "metadata": {},
   "outputs": [
    {
     "data": {
      "text/plain": [
       "col1    0\n",
       "col2    0\n",
       "dtype: int64"
      ]
     },
     "execution_count": 5,
     "metadata": {},
     "output_type": "execute_result"
    }
   ],
   "source": [
    "data.isnull().sum()"
   ]
  },
  {
   "cell_type": "code",
   "execution_count": 6,
   "id": "a34cf9fc-4a8b-43b3-bd88-03c851f09603",
   "metadata": {},
   "outputs": [],
   "source": [
    "# senetence lenght of conversations\n",
    "data['col1_length'] = data.col1.apply(lambda x: len(str(x).split()))\n",
    "data['col2_length'] = data.col2.apply(lambda x: len(str(x).split()))"
   ]
  },
  {
   "cell_type": "code",
   "execution_count": 7,
   "id": "b510cba2-061e-4bca-9b28-c0f50482100c",
   "metadata": {},
   "outputs": [
    {
     "data": {
      "text/html": [
       "<div>\n",
       "<style scoped>\n",
       "    .dataframe tbody tr th:only-of-type {\n",
       "        vertical-align: middle;\n",
       "    }\n",
       "\n",
       "    .dataframe tbody tr th {\n",
       "        vertical-align: top;\n",
       "    }\n",
       "\n",
       "    .dataframe thead th {\n",
       "        text-align: right;\n",
       "    }\n",
       "</style>\n",
       "<table border=\"1\" class=\"dataframe\">\n",
       "  <thead>\n",
       "    <tr style=\"text-align: right;\">\n",
       "      <th></th>\n",
       "      <th>col1</th>\n",
       "      <th>col2</th>\n",
       "      <th>col1_length</th>\n",
       "      <th>col2_length</th>\n",
       "    </tr>\n",
       "  </thead>\n",
       "  <tbody>\n",
       "    <tr>\n",
       "      <th>0</th>\n",
       "      <td>Can we make this quick?  Roxanne Korrine and A...</td>\n",
       "      <td>Well, I thought we'd start with pronunciation,...</td>\n",
       "      <td>22</td>\n",
       "      <td>12</td>\n",
       "    </tr>\n",
       "    <tr>\n",
       "      <th>1</th>\n",
       "      <td>Well, I thought we'd start with pronunciation,...</td>\n",
       "      <td>Not the hacking and gagging and spitting part....</td>\n",
       "      <td>12</td>\n",
       "      <td>9</td>\n",
       "    </tr>\n",
       "    <tr>\n",
       "      <th>2</th>\n",
       "      <td>Not the hacking and gagging and spitting part....</td>\n",
       "      <td>Okay... then how 'bout we try out some French ...</td>\n",
       "      <td>9</td>\n",
       "      <td>12</td>\n",
       "    </tr>\n",
       "    <tr>\n",
       "      <th>3</th>\n",
       "      <td>You're asking me out.  That's so cute. What's ...</td>\n",
       "      <td>Forget it.</td>\n",
       "      <td>11</td>\n",
       "      <td>2</td>\n",
       "    </tr>\n",
       "    <tr>\n",
       "      <th>4</th>\n",
       "      <td>No, no, it's my fault -- we didn't have a prop...</td>\n",
       "      <td>Cameron.</td>\n",
       "      <td>13</td>\n",
       "      <td>1</td>\n",
       "    </tr>\n",
       "  </tbody>\n",
       "</table>\n",
       "</div>"
      ],
      "text/plain": [
       "                                                col1  \\\n",
       "0  Can we make this quick?  Roxanne Korrine and A...   \n",
       "1  Well, I thought we'd start with pronunciation,...   \n",
       "2  Not the hacking and gagging and spitting part....   \n",
       "3  You're asking me out.  That's so cute. What's ...   \n",
       "4  No, no, it's my fault -- we didn't have a prop...   \n",
       "\n",
       "                                                col2  col1_length  col2_length  \n",
       "0  Well, I thought we'd start with pronunciation,...           22           12  \n",
       "1  Not the hacking and gagging and spitting part....           12            9  \n",
       "2  Okay... then how 'bout we try out some French ...            9           12  \n",
       "3                                         Forget it.           11            2  \n",
       "4                                           Cameron.           13            1  "
      ]
     },
     "execution_count": 7,
     "metadata": {},
     "output_type": "execute_result"
    }
   ],
   "source": [
    "data.head()"
   ]
  },
  {
   "cell_type": "code",
   "execution_count": 8,
   "id": "7b951b6b-ce95-4b45-aadb-1e9d0ee5c0d7",
   "metadata": {},
   "outputs": [],
   "source": [
    "import matplotlib.pyplot as plt"
   ]
  },
  {
   "cell_type": "code",
   "execution_count": 9,
   "id": "e994e6b0-6421-4b53-997a-2534d0b34ab9",
   "metadata": {},
   "outputs": [],
   "source": [
    "\n",
    "def distplot_axis(x:np.array, axis:list=list(range(95,101)), percent:int = 99, **kwargs):\n",
    "    # plt.figure(figsize = (15,7))\n",
    "    plt.grid()\n",
    "\n",
    "    plt.hist(x , bins = 50, **kwargs)\n",
    "    # Title Word Count distribution\n",
    "    plt.xlabel('word length')\n",
    "    plt.ylabel('Count')\n",
    "    for i in axis:\n",
    "        plt.axvline(x = np.percentile(x, i), color = 'b', label = 'axvline - full height')\n",
    "    plt.title(f'Text Word Count distribution: {np.percentile(x, percent)} words cover {percent}% of text data')\n",
    "\n"
   ]
  },
  {
   "cell_type": "code",
   "execution_count": 10,
   "id": "9f742027-9ec2-4fe8-83b7-fee1b48c6629",
   "metadata": {},
   "outputs": [
    {
     "data": {
      "image/png": "[encoded data removed]",
      "text/plain": [
       "<Figure size 3000x500 with 2 Axes>"
      ]
     },
     "metadata": {},
     "output_type": "display_data"
    }
   ],
   "source": [
    "plt.figure(figsize = (30,5))\n",
    "\n",
    "plt.subplot(1,2,1)\n",
    "distplot_axis(data.col1_length)\n",
    "\n",
    "\n",
    "plt.subplot(1,2,2)\n",
    "distplot_axis(data.col2_length)"
   ]
  },
  {
   "cell_type": "code",
   "execution_count": 11,
   "id": "9cb37f91-980c-49b6-973c-df00e36e3dc8",
   "metadata": {},
   "outputs": [],
   "source": [
    "MAX_OUTPUT_LENGTH = 102\n",
    "BATCH_SIZE = 32\n",
    "UNITS = 64\n",
    "EMBEDDING_DIMS = 128"
   ]
  },
  {
   "cell_type": "markdown",
   "id": "cb2ae3aa-d41e-40ab-b5fd-ab55213a058b",
   "metadata": {},
   "source": [
    "# Splitting Data"
   ]
  },
  {
   "cell_type": "code",
   "execution_count": 33,
   "id": "9fcd716c-a264-40aa-82df-74b04e8078e4",
   "metadata": {},
   "outputs": [],
   "source": [
    "if DEBUG:\n",
    "    xtrain, xtest, ytrain, ytest = train_test_split(data['col1'],data['col2'], train_size=.05 , test_size=.005, random_state= 44)\n",
    "else:\n",
    "    xtrain, xtest, ytrain, ytest = train_test_split(data['col1'],data['col2'], test_size=.05, random_state= 44)"
   ]
  },
  {
   "cell_type": "code",
   "execution_count": 34,
   "id": "3b87a01a-21d9-470d-8590-3e6595db5c7f",
   "metadata": {},
   "outputs": [
    {
     "name": "stdout",
     "output_type": "stream",
     "text": [
      "xtrain.shape=(210217,)\n",
      "ytrain.shape=(210217,)\n",
      "xtest.shape=(11065,)\n",
      "ytest.shape=(11065,)\n"
     ]
    }
   ],
   "source": [
    "print(f'{xtrain.shape=}')\n",
    "print(f'{ytrain.shape=}')\n",
    "print(f'{xtest.shape=}')\n",
    "print(f'{ytest.shape=}')"
   ]
  },
  {
   "cell_type": "code",
   "execution_count": 35,
   "id": "8aecfc2a-f938-4544-8978-0f067bf14d60",
   "metadata": {},
   "outputs": [],
   "source": [
    "train_data = tf.data.Dataset.from_tensor_slices((xtrain.to_list(), ytrain.to_list()))\n",
    "test_data = tf.data.Dataset.from_tensor_slices((xtest.to_list(), ytest.to_list()))"
   ]
  },
  {
   "cell_type": "markdown",
   "id": "949a7dd1-b4b0-41e4-bb05-4c73a27dc032",
   "metadata": {},
   "source": [
    "# Text Vectorization"
   ]
  },
  {
   "cell_type": "code",
   "execution_count": null,
   "id": "e576575e-580a-4ace-9322-bb96fe9abbe3",
   "metadata": {},
   "outputs": [],
   "source": []
  },
  {
   "cell_type": "code",
   "execution_count": 36,
   "id": "b598214d-bb37-4831-a2b0-176659c303bf",
   "metadata": {},
   "outputs": [],
   "source": [
    "# preprocessing text\n",
    "def tf_lower_and_split_punct_en(text):\n",
    "    # Split accented characters.\n",
    "    text = tf_text.normalize_utf8(text, 'NFKD')\n",
    "    text = tf.strings.lower(text)\n",
    "    # Keep space, a to z, and select punctuation.\n",
    "    text = tf.strings.regex_replace(text, '[^ a-z.?!,¿]', '')\n",
    "    # Add spaces around punctuation.\n",
    "    text = tf.strings.regex_replace(text, '[.?!,¿|]', r' \\0 ')\n",
    "    # Strip whitespace.\n",
    "    text = tf.strings.strip(text)\n",
    "    text = tf.strings.join(['[START]', text, '[END]'], separator=' ')\n",
    "    return text\n",
    "\n"
   ]
  },
  {
   "cell_type": "code",
   "execution_count": 37,
   "id": "42461adb-af1c-4568-b26f-c20e3dcda345",
   "metadata": {},
   "outputs": [],
   "source": []
  },
  {
   "cell_type": "code",
   "execution_count": 38,
   "id": "0649c8ec-776f-4084-af5e-e0fb0efa3dd7",
   "metadata": {},
   "outputs": [],
   "source": [
    "# vectorization\n",
    "vectorizer = TextVectorization(output_sequence_length=MAX_OUTPUT_LENGTH, standardize=tf_lower_and_split_punct_en)"
   ]
  },
  {
   "cell_type": "code",
   "execution_count": 39,
   "id": "52f38aa9-86ff-4658-baa5-9e3a7dbde7a5",
   "metadata": {},
   "outputs": [
    {
     "name": "stdout",
     "output_type": "stream",
     "text": [
      "tf.Tensor(b'is bending down, pulling a tray of sausage rolls into the oven. Both girls look at HONORA silently.', shape=(), dtype=string)\n",
      "tf.Tensor(b'turns around and Juliet presents her with a brown paper bag.', shape=(), dtype=string)\n"
     ]
    }
   ],
   "source": [
    "for i,j in train_data.take(1):\n",
    "    print(i)\n",
    "    print(j)"
   ]
  },
  {
   "cell_type": "code",
   "execution_count": 40,
   "id": "7393b24f-777d-45cb-aa11-8cd0b9d8fb6d",
   "metadata": {},
   "outputs": [],
   "source": [
    "\n",
    "# 20.2 s ± 606 ms per loop (mean ± std. dev. of 7 runs, 1 loop each)\n",
    "# 21* 7 == 2 MIN 27 sec\n",
    "vectorizer.adapt(xtrain)"
   ]
  },
  {
   "cell_type": "markdown",
   "id": "2567fa46-ee23-44f1-8977-571372b61363",
   "metadata": {},
   "source": [
    "### saving vectorizer\n",
    "https://stackoverflow.com/questions/65103526/how-to-save-textvectorization-to-disk-in-tensorflow\n"
   ]
  },
  {
   "cell_type": "code",
   "execution_count": 41,
   "id": "db9d82af-e17f-418a-8260-3b2aca817913",
   "metadata": {},
   "outputs": [],
   "source": [
    "# Pickle the config and weights\n",
    "\n",
    "# os.makedirs('components', exist_ok=True)\n",
    "# pickle.dump({'config': vectorizer.get_config(),\n",
    "#              'weights': vectorizer.get_weights()}\n",
    "#             , open(\"./components/vectorizer.pkl\", \"wb\"))\n"
   ]
  },
  {
   "cell_type": "markdown",
   "id": "e60f71e7-7a9c-40d5-aac8-051e1e6ed656",
   "metadata": {},
   "source": [
    "### Loading saved vectorizer"
   ]
  },
  {
   "cell_type": "code",
   "execution_count": 42,
   "id": "79d40069-6ffe-4c2c-9c2b-7ed97bc8b6ba",
   "metadata": {},
   "outputs": [
    {
     "name": "stdout",
     "output_type": "stream",
     "text": [
      "tf.Tensor(\n",
      "[  3  76 144   8   4   0   0   0   0   0   0   0   0   0   0   0   0   0\n",
      "   0   0   0   0   0   0   0   0   0   0   0   0   0   0   0   0   0   0\n",
      "   0   0   0   0   0   0   0   0   0   0   0   0   0   0   0   0   0   0\n",
      "   0   0   0   0   0   0   0   0   0   0   0   0   0   0   0   0   0   0\n",
      "   0   0   0   0   0   0   0   0   0   0   0   0   0   0   0   0   0   0\n",
      "   0   0   0   0   0   0   0   0   0   0   0   0], shape=(102,), dtype=int64)\n"
     ]
    }
   ],
   "source": [
    "# Later you can unpickle and use \n",
    "# `config` to create object and \n",
    "# `weights` to load the trained weights. \n",
    "\n",
    "# from_disk = pickle.load(open(\"./components/vectorizer.pkl\", \"rb\"))\n",
    "# vectorizer = TextVectorization.from_config(from_disk['config'])\n",
    "# # You have to call `adapt` with some dummy data (BUG in Keras)\n",
    "# vectorizer.adapt(tf.data.Dataset.from_tensor_slices([\"xyz\"]))\n",
    "# vectorizer.set_weights(from_disk['weights'])\n",
    "\n",
    "# Lets see the Vector for word \"this\"\n",
    "print (vectorizer(\"who am i\"))"
   ]
  },
  {
   "cell_type": "code",
   "execution_count": 69,
   "id": "a4f55398-b8e3-4b05-a8fc-4138cc1198e9",
   "metadata": {},
   "outputs": [],
   "source": [
    "def make_vector(x, y):\n",
    "    x = vectorizer(x)\n",
    "    y = vectorizer(y)\n",
    "\n",
    "    x = x[:-1]\n",
    "    y_in = y[:-1]\n",
    "    y_out = y[1:]\n",
    "    return (x,y_in),y_out"
   ]
  },
  {
   "cell_type": "code",
   "execution_count": 43,
   "id": "303fe22b-53dd-4761-89c0-b5b4637cde13",
   "metadata": {},
   "outputs": [],
   "source": [
    "train_data = train_data.map(make_vector).batch(BATCH_SIZE).prefetch(tf.data.AUTOTUNE)\n",
    "test_data = test_data.map(make_vector).batch(BATCH_SIZE).prefetch(tf.data.AUTOTUNE)"
   ]
  },
  {
   "cell_type": "markdown",
   "id": "153aa1f7-7d78-4b32-8519-99df34ae48f2",
   "metadata": {},
   "source": [
    "# Saving the Dataset"
   ]
  },
  {
   "cell_type": "code",
   "execution_count": 64,
   "id": "d81d0646-f3b7-4041-b1ad-f90a49f992e3",
   "metadata": {},
   "outputs": [],
   "source": [
    "# %%timeit\n",
    "\n",
    "save_train_data_path = './dataset/train/'\n",
    "save_test_data_path = './dataset/test/'\n",
    "\n",
    "# # save the train_data and test_data\n",
    "# train_data.save(save_train_data_path, compression='GZIP')\n",
    "# test_data.save(save_test_data_path, compression='GZIP')"
   ]
  },
  {
   "cell_type": "code",
   "execution_count": 66,
   "id": "12d202ea-05ef-433a-b055-b2e8a5854e8c",
   "metadata": {},
   "outputs": [],
   "source": [
    "# #loading the data\n",
    "# train_datas = tf.data.Dataset.load(save_train_data_path, compression='GZIP')\n",
    "# test_datas = tf.data.Dataset.load(save_test_data_path, compression='GZIP')"
   ]
  },
  {
   "cell_type": "code",
   "execution_count": null,
   "id": "23114c2b-ba59-4545-ac98-3dccb4723d0a",
   "metadata": {},
   "outputs": [],
   "source": []
  },
  {
   "cell_type": "code",
   "execution_count": 68,
   "id": "d607b24a-3408-4efe-b76f-bbf719214e98",
   "metadata": {},
   "outputs": [
    {
     "name": "stdout",
     "output_type": "stream",
     "text": [
      "encoder input\n",
      "[    3    20 10942   120     5  1994    11  6126    14  9357  5660   154\n",
      "     9  7211     2   443   532   105    61 11786]\n",
      "--------------------------------------------\n",
      "decoder input\n",
      "[   3 1361  174   13 3319 4872   69   39   11 1415  764  922    2    4\n",
      "    0    0    0    0    0    0]\n",
      "--------------------------------------------\n",
      "encoder output\n",
      "[1361  174   13 3319 4872   69   39   11 1415  764  922    2    4    0\n",
      "    0    0    0    0    0    0]\n"
     ]
    }
   ],
   "source": [
    "for (enc_input, dec_input), dec_output  in train_datas.take(1):\n",
    "    print('encoder input')\n",
    "    print(enc_input[0, :20].numpy())\n",
    "    print('-'*44)\n",
    "    print('decoder input')\n",
    "    print(dec_input[0, :20].numpy()) \n",
    "    print('-'*44)\n",
    "    print('encoder output')\n",
    "    print(dec_output[0, :20].numpy())\n",
    "    break"
   ]
  },
  {
   "cell_type": "markdown",
   "id": "28d9b401-6db9-47e0-bfff-da5b195a25e6",
   "metadata": {},
   "source": [
    "# Encoder"
   ]
  },
  {
   "cell_type": "code",
   "execution_count": 70,
   "id": "5c67ae42-0dd5-4124-990f-b14b83ba8508",
   "metadata": {},
   "outputs": [],
   "source": [
    "class Encoder(tf.keras.layers.Layer):\n",
    "    def __init__(self, text_vectorizer, units, embed_dims):\n",
    "        super(Encoder, self).__init__()\n",
    "        self.text_vectorizer =  text_vectorizer\n",
    "        self.units = units\n",
    "        self.embed_dims = embed_dims\n",
    "        self.vocab_size = text_vectorizer.vocabulary_size()\n",
    "        self.embedding = Embedding(input_dim=self.vocab_size, output_dim=self.embed_dims, mask_zero=True, )\n",
    "        self.rnn = Bidirectional(merge_mode='concat', layer = GRU(self.units, return_sequences=True, return_state=True))\n",
    "        \n",
    "    def call(self, x, y=None, return_state=False):\n",
    "        \n",
    "        x = self.embedding(x)\n",
    "        encoder_output, encoder_fw_state, encoder_bw_state = self.rnn(x)\n",
    "        encoder_state = [encoder_fw_state, encoder_bw_state]\n",
    "        \n",
    "        if return_state:\n",
    "            return encoder_output, encoder_state\n",
    "        else:\n",
    "            return encoder_output\n",
    "        \n",
    "    def convert_input(self, texts):\n",
    "        texts = tf.convert_to_tensor(texts)\n",
    "        if len(texts.shape) == 0:\n",
    "            texts = tf.convert_to_tensor(texts)[tf.newaxis]\n",
    "        context = self.text_vectorizer(texts)\n",
    "        context = self(context)\n",
    "        return context"
   ]
  },
  {
   "cell_type": "code",
   "execution_count": 71,
   "id": "5b48ad1c-e24f-40c7-b359-b0a01ecdabc2",
   "metadata": {},
   "outputs": [],
   "source": [
    "encoder = Encoder(vectorizer, UNITS, EMBEDDING_DIMS)"
   ]
  },
  {
   "cell_type": "code",
   "execution_count": 72,
   "id": "43be60fc-ff6d-416b-8088-cb9d63bd3bd9",
   "metadata": {},
   "outputs": [],
   "source": [
    "en_context , en_state = encoder(enc_input, return_state = True)"
   ]
  },
  {
   "cell_type": "code",
   "execution_count": 73,
   "id": "767fe307-813f-4d5c-981a-d7d5cbd5ac1d",
   "metadata": {},
   "outputs": [
    {
     "name": "stdout",
     "output_type": "stream",
     "text": [
      "context (32, 101, 128)\n",
      "state fw (32, 64)\n",
      "state bw (32, 64)\n"
     ]
    }
   ],
   "source": [
    "print('context',en_context.shape)\n",
    "print('state fw',en_state[0].shape)\n",
    "print('state bw',en_state[1].shape)"
   ]
  },
  {
   "cell_type": "markdown",
   "id": "ab3af4bd-0b39-4484-9282-9b70fb99a410",
   "metadata": {},
   "source": [
    "# Attention Layer"
   ]
  },
  {
   "cell_type": "code",
   "execution_count": 74,
   "id": "29ced149-98e4-43ee-a364-450b110e8a51",
   "metadata": {},
   "outputs": [],
   "source": [
    "class CrossAttention(tf.keras.layers.Layer):\n",
    "    def __init__(self, units, **kwargs):\n",
    "        super().__init__()\n",
    "        self.mha = tf.keras.layers.MultiHeadAttention(key_dim=units, num_heads=1, **kwargs)\n",
    "        self.layernorm = tf.keras.layers.LayerNormalization()\n",
    "        self.add = tf.keras.layers.Add()\n",
    "\n",
    "    def call(self, x, context):\n",
    "\n",
    "        attn_output, attn_scores = self.mha(\n",
    "            query=x,\n",
    "            value=context,\n",
    "            return_attention_scores=True)\n",
    "\n",
    "        # Cache the attention scores for plotting later.\n",
    "        attn_scores = tf.reduce_mean(attn_scores, axis=1)\n",
    "        self.last_attention_weights = attn_scores\n",
    "\n",
    "        x = self.add([x, attn_output])\n",
    "        x = self.layernorm(x)\n",
    "\n",
    "        return x"
   ]
  },
  {
   "cell_type": "code",
   "execution_count": 75,
   "id": "ba272fc7-1a84-46f6-87f8-dd7984bde97a",
   "metadata": {},
   "outputs": [],
   "source": [
    "# attention = tf.keras.layers.Attention()\n",
    "# score = attention([en_context, en_context], return_attention_scores=True)"
   ]
  },
  {
   "cell_type": "code",
   "execution_count": 76,
   "id": "9934fea4-b9f6-4296-83e9-f4828404e9c3",
   "metadata": {},
   "outputs": [],
   "source": [
    "attention = CrossAttention(UNITS)\n",
    "score = attention(en_context, en_context)"
   ]
  },
  {
   "cell_type": "code",
   "execution_count": 77,
   "id": "8e3bee7f-749e-4d51-a815-4a9d3ca14d61",
   "metadata": {},
   "outputs": [
    {
     "name": "stdout",
     "output_type": "stream",
     "text": [
      "(32, 101, 128)\n"
     ]
    }
   ],
   "source": [
    "if len(score)==2:\n",
    "    print(score[0].shape);print(score[1].shape)\n",
    "else:\n",
    "    print(score.shape)"
   ]
  },
  {
   "cell_type": "code",
   "execution_count": 78,
   "id": "ce41fb61-4536-419f-931d-6ee6d8f45d78",
   "metadata": {},
   "outputs": [
    {
     "data": {
      "image/png": "[encoded data removed]",
      "text/plain": [
       "<Figure size 2500x500 with 4 Axes>"
      ]
     },
     "metadata": {},
     "output_type": "display_data"
    }
   ],
   "source": [
    "# score[0,:,:], en_context[0,:,:]\n",
    "random_num = random.randint(0,32)\n",
    "plt.figure(figsize = (25,5))\n",
    "\n",
    "try:\n",
    "    plt.subplot(1,2,1)\n",
    "    sns.heatmap(score[random_num,:30,:])\n",
    "\n",
    "#     # attention score\n",
    "#     plt.subplot(1,3,2)\n",
    "#     sns.heatmap(score[1][random_num,:30,:])\n",
    "\n",
    "    # encoder output\n",
    "    plt.subplot(1,2,2)\n",
    "    sns.heatmap(en_context[random_num,:30,:])\n",
    "    \n",
    "except:\n",
    "    pass"
   ]
  },
  {
   "cell_type": "markdown",
   "id": "a6218a27-5766-4f6c-881a-0aaaaf7ddadc",
   "metadata": {},
   "source": [
    "# Decoder"
   ]
  },
  {
   "cell_type": "code",
   "execution_count": 79,
   "id": "fad27304-0f15-4d83-bab6-e919cae93bc8",
   "metadata": {},
   "outputs": [],
   "source": [
    "class Decoder(keras.layers.Layer):\n",
    "    def __init__(self, text_vectorizer, units,  embed_dims) :\n",
    "        super(Decoder, self).__init__()\n",
    "        self.text_vectorizer =  text_vectorizer\n",
    "        self.units = units\n",
    "        self.embed_dims = embed_dims\n",
    "        self.vocab_size = text_vectorizer.vocabulary_size()\n",
    "        \n",
    "        self.embedding = Embedding(input_dim=self.vocab_size, output_dim=self.embed_dims, mask_zero=True, )\n",
    "        self.rnn = LSTM(self.units, return_sequences=True, return_state=True)\n",
    "        \n",
    "        # self.attention =  tf.keras.layers.Attention()\n",
    "        self.attention = CrossAttention(units)\n",
    "        \n",
    "        self.output_dense = Dense(self.vocab_size)\n",
    "        \n",
    "        self.word_to_id = tf.keras.layers.StringLookup(vocabulary=text_vectorizer.get_vocabulary(), mask_token='', oov_token='[UNK]')\n",
    "        self.id_to_word = tf.keras.layers.StringLookup(vocabulary=text_vectorizer.get_vocabulary(), mask_token='', oov_token='[UNK]', invert=True)\n",
    "        \n",
    "        self.start_token = self.word_to_id('[START]')\n",
    "        self.end_token = self.word_to_id('[END]')\n",
    "\n",
    "    def call(self, x, context, state=None, return_state = False):\n",
    "        ''' x, context, state=None, return_sequence=False '''\n",
    "        \n",
    "        x = self.embedding(x)\n",
    "        \n",
    "        decoder_output, decoder_state_h, decoder_state_c = self.rnn(x, initial_state=state)\n",
    "        \n",
    "        decoder_state = [decoder_state_h, decoder_state_c]\n",
    "        x = self.attention(decoder_output, context)\n",
    "        self.last_attention_weights = self.attention.last_attention_weights\n",
    "\n",
    "        logits = self.output_dense(x)\n",
    "        \n",
    "        if return_state:\n",
    "            return logits, decoder_state\n",
    "        else:\n",
    "            return logits\n",
    "        \n",
    "    def get_initial_state(self, context):\n",
    "        batch_size = tf.shape(context)[0]\n",
    "        start_tokens = tf.fill([batch_size, 1], self.start_token)\n",
    "        done = tf.zeros([batch_size, 1], dtype=tf.bool)\n",
    "        embedded = self.embedding(start_tokens)\n",
    "        return start_tokens, done, self.rnn.get_initial_state(embedded)[0]\n",
    "\n",
    "    \n",
    "    def tokens_to_text(self, tokens):\n",
    "        words = self.id_to_word(tokens)\n",
    "        result = tf.strings.reduce_join(words, axis=-1, separator=' ')\n",
    "        result = tf.strings.regex_replace(result, '^ *\\[START\\] *', '')\n",
    "        result = tf.strings.regex_replace(result, ' *\\[END\\] *$', '')\n",
    "        return result\n",
    "    \n",
    "    def get_next_token(self, next_token, context,  done, state, temperature = 0.0):\n",
    "        \n",
    "        logits, state = self(next_token, context, state = state, return_state=True) \n",
    "\n",
    "        if temperature == 0.0:\n",
    "            next_token = tf.argmax(logits, axis=-1)\n",
    "        else:\n",
    "            logits = logits[:, -1, :]/temperature\n",
    "            next_token = tf.random.categorical(logits, num_samples=1)\n",
    "\n",
    "        # If a sequence produces an `end_token`, set it `done`\n",
    "        done = done | (next_token == self.end_token)\n",
    "        # Once a sequence is done it only produces 0-padding.\n",
    "        next_token = tf.where(done, tf.constant(0, dtype=tf.int64), next_token)\n",
    "\n",
    "        return next_token, done, state"
   ]
  },
  {
   "cell_type": "code",
   "execution_count": 80,
   "id": "879cc0c6-cc2e-432b-831d-48cf9b7b6ac9",
   "metadata": {},
   "outputs": [],
   "source": [
    "decoder = Decoder(vectorizer, UNITS, EMBEDDING_DIMS)"
   ]
  },
  {
   "cell_type": "code",
   "execution_count": 81,
   "id": "b2c85709-e8f2-433f-b735-0ea34b6a098c",
   "metadata": {},
   "outputs": [],
   "source": [
    "dec_out = decoder(dec_output, en_context, return_state = True)"
   ]
  },
  {
   "cell_type": "code",
   "execution_count": 82,
   "id": "f425b2f4-6b4f-4c9d-b20c-bcfe16f210d0",
   "metadata": {},
   "outputs": [
    {
     "name": "stdout",
     "output_type": "stream",
     "text": [
      "decoder logits shape: (32, 101, 49580)\n",
      "decoder state h shape: (32, 64)\n",
      "decoder state c shape: (32, 64)\n"
     ]
    }
   ],
   "source": [
    "print(f'decoder logits shape: {dec_out[0].shape}')\n",
    "print(f'decoder state h shape: {dec_out[1][0].shape}')\n",
    "print(f'decoder state c shape: {dec_out[1][1].shape}')"
   ]
  },
  {
   "cell_type": "markdown",
   "id": "a9202fc3-7c35-4969-bfce-62f4d007f370",
   "metadata": {},
   "source": [
    "# Model"
   ]
  },
  {
   "cell_type": "code",
   "execution_count": 83,
   "id": "e5a7f8e7-e609-4928-adc4-e7f4477e3dc5",
   "metadata": {},
   "outputs": [],
   "source": [
    "class ChatBot(tf.keras.Model):\n",
    "    \n",
    "    @classmethod\n",
    "    def add_method(cls, fun):\n",
    "        setattr(cls, fun.__name__, fun)\n",
    "        return fun\n",
    "\n",
    "    def __init__(self, text_processor, units, embed_dims):\n",
    "        super().__init__()\n",
    "        self.text_processor = text_processor\n",
    "        self.units = units\n",
    "        self.embed_dims = embed_dims\n",
    "        \n",
    "        # Build the encoder and decoder\n",
    "        encoder = Encoder(text_processor, units, embed_dims)\n",
    "        decoder = Decoder(text_processor, units, embed_dims)\n",
    "        \n",
    "        self.encoder = encoder\n",
    "        self.decoder = decoder\n",
    "\n",
    "    def call(self, inputs):\n",
    "        context, x = inputs\n",
    "        context = self.encoder(context)\n",
    "        logits = self.decoder(x, context)\n",
    "\n",
    "        #TODO(b/250038731): remove this\n",
    "        try:\n",
    "          # Delete the keras mask, so keras doesn't scale the loss+accuracy. \n",
    "            del logits._keras_mask\n",
    "        except AttributeError:\n",
    "            pass\n",
    "\n",
    "        return logits\n"
   ]
  },
  {
   "cell_type": "code",
   "execution_count": 84,
   "id": "957289ab-45b3-4d49-beb9-a7b5465e5606",
   "metadata": {},
   "outputs": [],
   "source": [
    "model = ChatBot(vectorizer, UNITS, EMBEDDING_DIMS)\n",
    "\n",
    "# logits = model((enc_input, dec_input))\n",
    "\n",
    "# print(f'Context tokens, shape: (batch, s, units) {enc_input.shape}')\n",
    "# print(f'Target tokens, shape: (batch, t) {dec_input.shape}')\n",
    "# print(f'logits, shape: (batch, t, target_vocabulary_size) {logits.shape}')"
   ]
  },
  {
   "cell_type": "markdown",
   "id": "da77aeb3-47b9-4cdf-9a07-9d157a3b6637",
   "metadata": {},
   "source": [
    "# Masked Loss and Accuracy"
   ]
  },
  {
   "cell_type": "code",
   "execution_count": 85,
   "id": "b467a7c3-f49f-451b-8406-f46cf4b38874",
   "metadata": {},
   "outputs": [],
   "source": [
    "def masked_loss(y_true, y_pred):\n",
    "    # Calculate the loss for each item in the batch.\n",
    "    loss_fn = tf.keras.losses.SparseCategoricalCrossentropy(\n",
    "        from_logits=True, reduction='none')\n",
    "    loss = loss_fn(y_true, y_pred)\n",
    "\n",
    "    # Mask off the losses on padding.\n",
    "    mask = tf.cast(y_true != 0, loss.dtype)\n",
    "    loss *= mask\n",
    "\n",
    "    # Return the total.\n",
    "    return tf.reduce_sum(loss)/tf.reduce_sum(mask)"
   ]
  },
  {
   "cell_type": "code",
   "execution_count": 86,
   "id": "6cb6563a-9cf9-400f-a278-4fce7baffba9",
   "metadata": {},
   "outputs": [],
   "source": [
    "def masked_acc(y_true, y_pred):\n",
    "    # Calculate the loss for each item in the batch.\n",
    "    y_pred = tf.argmax(y_pred, axis=-1)\n",
    "    y_pred = tf.cast(y_pred, y_true.dtype)\n",
    "\n",
    "    match = tf.cast(y_true == y_pred, tf.float32)\n",
    "    mask = tf.cast(y_true != 0, tf.float32)\n",
    "\n",
    "    return tf.reduce_sum(match)/tf.reduce_sum(mask)"
   ]
  },
  {
   "cell_type": "markdown",
   "id": "2d99608e-9e95-49b7-9043-5869e859626c",
   "metadata": {},
   "source": [
    "# Compile and Train"
   ]
  },
  {
   "cell_type": "code",
   "execution_count": 87,
   "id": "c43fdea7-7f01-4ade-b2bd-077287b359b6",
   "metadata": {},
   "outputs": [],
   "source": [
    "model.compile(optimizer='adam',\n",
    "              loss=masked_loss, \n",
    "              metrics=[masked_acc, masked_loss])"
   ]
  },
  {
   "cell_type": "code",
   "execution_count": 88,
   "id": "917d4d6e-b512-419e-9814-aa3706d72c0b",
   "metadata": {},
   "outputs": [
    {
     "data": {
      "text/plain": [
       "{'expected_loss': 10.811343, 'expected_acc': '0.0000202'}"
      ]
     },
     "execution_count": 88,
     "metadata": {},
     "output_type": "execute_result"
    }
   ],
   "source": [
    "# The model is randomly initialized, and should give roughly uniform output probabilities. \n",
    "# So it's easy to predict what the initial values of the metrics should be:\n",
    "\n",
    "\n",
    "vocab_size = 1.0 * vectorizer.vocabulary_size()\n",
    "\n",
    "{\"expected_loss\": tf.math.log(vocab_size).numpy(),\n",
    " \"expected_acc\": f'{1/vocab_size:.7f}'}"
   ]
  },
  {
   "cell_type": "code",
   "execution_count": 89,
   "id": "d4c31939-9571-43eb-88a3-ddc714645d7f",
   "metadata": {},
   "outputs": [],
   "source": [
    "# model.evaluate(test_data, steps=20, return_dict=True)"
   ]
  },
  {
   "cell_type": "code",
   "execution_count": 90,
   "id": "189847f0-9736-4bb8-960c-37cdd3bcc183",
   "metadata": {},
   "outputs": [],
   "source": []
  },
  {
   "cell_type": "code",
   "execution_count": 91,
   "id": "67db03e0-3e8c-4112-906e-629eace43d6c",
   "metadata": {},
   "outputs": [],
   "source": [
    "EPOCHS = 50\n",
    "\n",
    "CKPT_DIR = './model_checkpoint'\n",
    "\n",
    "model_ckpt = tf.keras.callbacks.ModelCheckpoint(\n",
    "    os.path.join(CKPT_DIR,  f\"{datetime.now().strftime('%m:%d:%Y, %H:%M:%S')}\"),\n",
    "    monitor= 'masked_acc',\n",
    "    verbose= 0,\n",
    "    save_best_only = True,\n",
    "    save_weights_only = True,\n",
    "    mode= 'auto',\n",
    "    save_freq='epoch'\n",
    ")"
   ]
  },
  {
   "cell_type": "code",
   "execution_count": 92,
   "id": "fa701395-19c8-4df3-b1aa-67591bf467cd",
   "metadata": {},
   "outputs": [
    {
     "name": "stdout",
     "output_type": "stream",
     "text": [
      "Epoch 1/50\n"
     ]
    },
    {
     "name": "stderr",
     "output_type": "stream",
     "text": [
      "2023-02-25 20:29:50.496338: W tensorflow/core/common_runtime/type_inference.cc:339] Type inference failed. This indicates an invalid graph that escaped type checking. Error message: INVALID_ARGUMENT: expected compatible input types, but input 1:\n",
      "type_id: TFT_OPTIONAL\n",
      "args {\n",
      "  type_id: TFT_PRODUCT\n",
      "  args {\n",
      "    type_id: TFT_TENSOR\n",
      "    args {\n",
      "      type_id: TFT_FLOAT\n",
      "    }\n",
      "  }\n",
      "}\n",
      " is neither a subtype nor a supertype of the combined inputs preceding it:\n",
      "type_id: TFT_OPTIONAL\n",
      "args {\n",
      "  type_id: TFT_PRODUCT\n",
      "  args {\n",
      "    type_id: TFT_TENSOR\n",
      "    args {\n",
      "      type_id: TFT_INT32\n",
      "    }\n",
      "  }\n",
      "}\n",
      "\n",
      "\twhile inferring type of node 'cond_43/output/_20'\n",
      "2023-02-25 20:30:01.019148: W tensorflow/tsl/framework/bfc_allocator.cc:479] Allocator (GPU_0_bfc) ran out of memory trying to allocate 611.28MiB (rounded to 640970240)requested by op masked_loss/sparse_categorical_crossentropy/SparseSoftmaxCrossEntropyWithLogits/SparseSoftmaxCrossEntropyWithLogits\n",
      "If the cause is memory fragmentation maybe the environment variable 'TF_GPU_ALLOCATOR=cuda_malloc_async' will improve the situation. \n",
      "Current allocation summary follows.\n",
      "Current allocation summary follows.\n",
      "2023-02-25 20:30:01.019226: I tensorflow/tsl/framework/bfc_allocator.cc:1034] BFCAllocator dump for GPU_0_bfc\n",
      "2023-02-25 20:30:01.019261: I tensorflow/tsl/framework/bfc_allocator.cc:1041] Bin (256): \tTotal Chunks: 108, Chunks in use: 107. 27.0KiB allocated for chunks. 26.8KiB in use in bin. 7.5KiB client-requested in use in bin.\n",
      "2023-02-25 20:30:01.019285: I tensorflow/tsl/framework/bfc_allocator.cc:1041] Bin (512): \tTotal Chunks: 3, Chunks in use: 3. 1.5KiB allocated for chunks. 1.5KiB in use in bin. 1.5KiB client-requested in use in bin.\n",
      "2023-02-25 20:30:01.019308: I tensorflow/tsl/framework/bfc_allocator.cc:1041] Bin (1024): \tTotal Chunks: 16, Chunks in use: 16. 21.8KiB allocated for chunks. 21.8KiB in use in bin. 20.9KiB client-requested in use in bin.\n",
      "2023-02-25 20:30:01.019328: I tensorflow/tsl/framework/bfc_allocator.cc:1041] Bin (2048): \tTotal Chunks: 2, Chunks in use: 1. 6.5KiB allocated for chunks. 3.2KiB in use in bin. 3.2KiB client-requested in use in bin.\n",
      "2023-02-25 20:30:01.019348: I tensorflow/tsl/framework/bfc_allocator.cc:1041] Bin (4096): \tTotal Chunks: 2, Chunks in use: 2. 9.0KiB allocated for chunks. 9.0KiB in use in bin. 6.3KiB client-requested in use in bin.\n",
      "2023-02-25 20:30:01.019372: I tensorflow/tsl/framework/bfc_allocator.cc:1041] Bin (8192): \tTotal Chunks: 24, Chunks in use: 23. 240.0KiB allocated for chunks. 231.0KiB in use in bin. 211.8KiB client-requested in use in bin.\n",
      "2023-02-25 20:30:01.019395: I tensorflow/tsl/framework/bfc_allocator.cc:1041] Bin (16384): \tTotal Chunks: 14, Chunks in use: 14. 287.5KiB allocated for chunks. 287.5KiB in use in bin. 241.6KiB client-requested in use in bin.\n",
      "2023-02-25 20:30:01.019418: I tensorflow/tsl/framework/bfc_allocator.cc:1041] Bin (32768): \tTotal Chunks: 18, Chunks in use: 18. 687.8KiB allocated for chunks. 687.8KiB in use in bin. 626.5KiB client-requested in use in bin.\n",
      "2023-02-25 20:30:01.019438: I tensorflow/tsl/framework/bfc_allocator.cc:1041] Bin (65536): \tTotal Chunks: 16, Chunks in use: 15. 1.32MiB allocated for chunks. 1.25MiB in use in bin. 1.09MiB client-requested in use in bin.\n",
      "2023-02-25 20:30:01.019459: I tensorflow/tsl/framework/bfc_allocator.cc:1041] Bin (131072): \tTotal Chunks: 12, Chunks in use: 12. 1.98MiB allocated for chunks. 1.98MiB in use in bin. 1.82MiB client-requested in use in bin.\n",
      "2023-02-25 20:30:01.019478: I tensorflow/tsl/framework/bfc_allocator.cc:1041] Bin (262144): \tTotal Chunks: 6, Chunks in use: 6. 2.33MiB allocated for chunks. 2.33MiB in use in bin. 2.33MiB client-requested in use in bin.\n",
      "2023-02-25 20:30:01.019499: I tensorflow/tsl/framework/bfc_allocator.cc:1041] Bin (524288): \tTotal Chunks: 11, Chunks in use: 11. 8.25MiB allocated for chunks. 8.25MiB in use in bin. 8.10MiB client-requested in use in bin.\n",
      "2023-02-25 20:30:01.019523: I tensorflow/tsl/framework/bfc_allocator.cc:1041] Bin (1048576): \tTotal Chunks: 9, Chunks in use: 8. 12.74MiB allocated for chunks. 11.14MiB in use in bin. 10.05MiB client-requested in use in bin.\n",
      "2023-02-25 20:30:01.019544: I tensorflow/tsl/framework/bfc_allocator.cc:1041] Bin (2097152): \tTotal Chunks: 4, Chunks in use: 3. 9.65MiB allocated for chunks. 6.88MiB in use in bin. 4.73MiB client-requested in use in bin.\n",
      "2023-02-25 20:30:01.019565: I tensorflow/tsl/framework/bfc_allocator.cc:1041] Bin (4194304): \tTotal Chunks: 0, Chunks in use: 0. 0B allocated for chunks. 0B in use in bin. 0B client-requested in use in bin.\n",
      "2023-02-25 20:30:01.019602: I tensorflow/tsl/framework/bfc_allocator.cc:1041] Bin (8388608): \tTotal Chunks: 4, Chunks in use: 4. 48.42MiB allocated for chunks. 48.42MiB in use in bin. 48.42MiB client-requested in use in bin.\n",
      "2023-02-25 20:30:01.019639: I tensorflow/tsl/framework/bfc_allocator.cc:1041] Bin (16777216): \tTotal Chunks: 8, Chunks in use: 8. 194.36MiB allocated for chunks. 194.36MiB in use in bin. 193.67MiB client-requested in use in bin.\n",
      "2023-02-25 20:30:01.019671: I tensorflow/tsl/framework/bfc_allocator.cc:1041] Bin (33554432): \tTotal Chunks: 0, Chunks in use: 0. 0B allocated for chunks. 0B in use in bin. 0B client-requested in use in bin.\n",
      "2023-02-25 20:30:01.019701: I tensorflow/tsl/framework/bfc_allocator.cc:1041] Bin (67108864): \tTotal Chunks: 0, Chunks in use: 0. 0B allocated for chunks. 0B in use in bin. 0B client-requested in use in bin.\n",
      "2023-02-25 20:30:01.019744: I tensorflow/tsl/framework/bfc_allocator.cc:1041] Bin (134217728): \tTotal Chunks: 0, Chunks in use: 0. 0B allocated for chunks. 0B in use in bin. 0B client-requested in use in bin.\n",
      "2023-02-25 20:30:01.019772: I tensorflow/tsl/framework/bfc_allocator.cc:1041] Bin (268435456): \tTotal Chunks: 4, Chunks in use: 2. 2.08GiB allocated for chunks. 1.19GiB in use in bin. 1.19GiB client-requested in use in bin.\n",
      "2023-02-25 20:30:01.019809: I tensorflow/tsl/framework/bfc_allocator.cc:1057] Bin for 611.28MiB was 256.00MiB, Chunk State: \n",
      "2023-02-25 20:30:01.019841: I tensorflow/tsl/framework/bfc_allocator.cc:1063]   Size: 410.56MiB | Requested Size: 8B | in_use: 0 | bin_num: 20, prev:   Size: 611.28MiB | Requested Size: 611.28MiB | in_use: 1 | bin_num: -1\n",
      "2023-02-25 20:30:01.019873: I tensorflow/tsl/framework/bfc_allocator.cc:1063]   Size: 502.34MiB | Requested Size: 0B | in_use: 0 | bin_num: 20, prev:   Size: 12.10MiB | Requested Size: 12.10MiB | in_use: 1 | bin_num: -1, next:   Size: 611.28MiB | Requested Size: 611.28MiB | in_use: 1 | bin_num: -1\n",
      "2023-02-25 20:30:01.019890: I tensorflow/tsl/framework/bfc_allocator.cc:1070] Next region of size 2533097472\n",
      "2023-02-25 20:30:01.019918: I tensorflow/tsl/framework/bfc_allocator.cc:1090] InUse at 7f991c000000 of size 1280 next 1\n",
      "2023-02-25 20:30:01.019936: I tensorflow/tsl/framework/bfc_allocator.cc:1090] InUse at 7f991c000500 of size 256 next 2\n",
      "2023-02-25 20:30:01.019952: I tensorflow/tsl/framework/bfc_allocator.cc:1090] InUse at 7f991c000600 of size 256 next 3\n",
      "2023-02-25 20:30:01.019967: I tensorflow/tsl/framework/bfc_allocator.cc:1090] InUse at 7f991c000700 of size 256 next 4\n",
      "2023-02-25 20:30:01.019981: I tensorflow/tsl/framework/bfc_allocator.cc:1090] InUse at 7f991c000800 of size 256 next 5\n",
      "2023-02-25 20:30:01.019996: I tensorflow/tsl/framework/bfc_allocator.cc:1090] InUse at 7f991c000900 of size 256 next 7\n",
      "2023-02-25 20:30:01.020011: I tensorflow/tsl/framework/bfc_allocator.cc:1090] InUse at 7f991c000a00 of size 256 next 6\n",
      "2023-02-25 20:30:01.020027: I tensorflow/tsl/framework/bfc_allocator.cc:1090] InUse at 7f991c000b00 of size 25856 next 10\n",
      "2023-02-25 20:30:01.020044: I tensorflow/tsl/framework/bfc_allocator.cc:1090] InUse at 7f991c007000 of size 25856 next 11\n",
      "2023-02-25 20:30:01.020060: I tensorflow/tsl/framework/bfc_allocator.cc:1090] InUse at 7f991c00d500 of size 25856 next 12\n",
      "2023-02-25 20:30:01.020075: I tensorflow/tsl/framework/bfc_allocator.cc:1090] InUse at 7f991c013a00 of size 256 next 56\n",
      "2023-02-25 20:30:01.020090: I tensorflow/tsl/framework/bfc_allocator.cc:1090] InUse at 7f991c013b00 of size 256 next 14\n",
      "2023-02-25 20:30:01.020105: I tensorflow/tsl/framework/bfc_allocator.cc:1090] InUse at 7f991c013c00 of size 256 next 82\n",
      "2023-02-25 20:30:01.020120: I tensorflow/tsl/framework/bfc_allocator.cc:1090] InUse at 7f991c013d00 of size 256 next 17\n",
      "2023-02-25 20:30:01.020135: I tensorflow/tsl/framework/bfc_allocator.cc:1090] InUse at 7f991c013e00 of size 256 next 24\n",
      "2023-02-25 20:30:01.020151: I tensorflow/tsl/framework/bfc_allocator.cc:1090] InUse at 7f991c013f00 of size 256 next 22\n",
      "2023-02-25 20:30:01.020165: I tensorflow/tsl/framework/bfc_allocator.cc:1090] InUse at 7f991c014000 of size 256 next 16\n",
      "2023-02-25 20:30:01.020180: I tensorflow/tsl/framework/bfc_allocator.cc:1090] InUse at 7f991c014100 of size 256 next 25\n",
      "2023-02-25 20:30:01.020196: I tensorflow/tsl/framework/bfc_allocator.cc:1090] InUse at 7f991c014200 of size 256 next 21\n",
      "2023-02-25 20:30:01.020216: I tensorflow/tsl/framework/bfc_allocator.cc:1090] InUse at 7f991c014300 of size 77568 next 27\n",
      "2023-02-25 20:30:01.020241: I tensorflow/tsl/framework/bfc_allocator.cc:1090] InUse at 7f991c027200 of size 256 next 18\n",
      "2023-02-25 20:30:01.020267: I tensorflow/tsl/framework/bfc_allocator.cc:1090] InUse at 7f991c027300 of size 256 next 30\n",
      "2023-02-25 20:30:01.020293: I tensorflow/tsl/framework/bfc_allocator.cc:1090] InUse at 7f991c027400 of size 1024 next 46\n",
      "2023-02-25 20:30:01.020319: I tensorflow/tsl/framework/bfc_allocator.cc:1090] InUse at 7f991c027800 of size 256 next 135\n",
      "2023-02-25 20:30:01.020346: I tensorflow/tsl/framework/bfc_allocator.cc:1090] InUse at 7f991c027900 of size 256 next 136\n",
      "2023-02-25 20:30:01.020373: I tensorflow/tsl/framework/bfc_allocator.cc:1090] InUse at 7f991c027a00 of size 1792 next 26\n",
      "2023-02-25 20:30:01.020401: I tensorflow/tsl/framework/bfc_allocator.cc:1090] InUse at 7f991c028100 of size 256 next 33\n",
      "2023-02-25 20:30:01.020427: I tensorflow/tsl/framework/bfc_allocator.cc:1090] InUse at 7f991c028200 of size 256 next 35\n",
      "2023-02-25 20:30:01.020452: I tensorflow/tsl/framework/bfc_allocator.cc:1090] InUse at 7f991c028300 of size 256 next 37\n",
      "2023-02-25 20:30:01.020481: I tensorflow/tsl/framework/bfc_allocator.cc:1090] InUse at 7f991c028400 of size 256 next 38\n",
      "2023-02-25 20:30:01.020510: I tensorflow/tsl/framework/bfc_allocator.cc:1090] InUse at 7f991c028500 of size 256 next 39\n",
      "2023-02-25 20:30:01.020543: I tensorflow/tsl/framework/bfc_allocator.cc:1090] InUse at 7f991c028600 of size 1536 next 49\n",
      "2023-02-25 20:30:01.020574: I tensorflow/tsl/framework/bfc_allocator.cc:1090] InUse at 7f991c028c00 of size 1536 next 36\n",
      "2023-02-25 20:30:01.020602: I tensorflow/tsl/framework/bfc_allocator.cc:1090] InUse at 7f991c029200 of size 256 next 54\n",
      "2023-02-25 20:30:01.020631: I tensorflow/tsl/framework/bfc_allocator.cc:1090] InUse at 7f991c029300 of size 256 next 70\n",
      "2023-02-25 20:30:01.020659: I tensorflow/tsl/framework/bfc_allocator.cc:1090] InUse at 7f991c029400 of size 256 next 31\n",
      "2023-02-25 20:30:01.020688: I tensorflow/tsl/framework/bfc_allocator.cc:1090] InUse at 7f991c029500 of size 256 next 71\n",
      "2023-02-25 20:30:01.020717: I tensorflow/tsl/framework/bfc_allocator.cc:1090] InUse at 7f991c029600 of size 256 next 64\n",
      "2023-02-25 20:30:01.020741: I tensorflow/tsl/framework/bfc_allocator.cc:1090] InUse at 7f991c029700 of size 256 next 67\n",
      "2023-02-25 20:30:01.020767: I tensorflow/tsl/framework/bfc_allocator.cc:1090] InUse at 7f991c029800 of size 256 next 34\n",
      "2023-02-25 20:30:01.020797: I tensorflow/tsl/framework/bfc_allocator.cc:1090] InUse at 7f991c029900 of size 256 next 20\n",
      "2023-02-25 20:30:01.020826: I tensorflow/tsl/framework/bfc_allocator.cc:1090] InUse at 7f991c029a00 of size 256 next 72\n",
      "2023-02-25 20:30:01.020855: I tensorflow/tsl/framework/bfc_allocator.cc:1090] InUse at 7f991c029b00 of size 3328 next 8\n",
      "2023-02-25 20:30:01.020884: I tensorflow/tsl/framework/bfc_allocator.cc:1090] InUse at 7f991c02a800 of size 1536 next 79\n",
      "2023-02-25 20:30:01.020913: I tensorflow/tsl/framework/bfc_allocator.cc:1090] InUse at 7f991c02ae00 of size 1536 next 74\n",
      "2023-02-25 20:30:01.020942: I tensorflow/tsl/framework/bfc_allocator.cc:1090] InUse at 7f991c02b400 of size 512 next 95\n",
      "2023-02-25 20:30:01.020973: I tensorflow/tsl/framework/bfc_allocator.cc:1090] InUse at 7f991c02b600 of size 4096 next 41\n",
      "2023-02-25 20:30:01.021005: I tensorflow/tsl/framework/bfc_allocator.cc:1090] InUse at 7f991c02c600 of size 82176 next 42\n",
      "2023-02-25 20:30:01.021037: I tensorflow/tsl/framework/bfc_allocator.cc:1090] InUse at 7f991c040700 of size 32768 next 44\n",
      "2023-02-25 20:30:01.021066: I tensorflow/tsl/framework/bfc_allocator.cc:1090] InUse at 7f991c048700 of size 16384 next 131\n",
      "2023-02-25 20:30:01.021097: I tensorflow/tsl/framework/bfc_allocator.cc:1090] InUse at 7f991c04c700 of size 16384 next 115\n",
      "2023-02-25 20:30:01.021126: I tensorflow/tsl/framework/bfc_allocator.cc:1090] InUse at 7f991c050700 of size 32768 next 66\n",
      "2023-02-25 20:30:01.021156: I tensorflow/tsl/framework/bfc_allocator.cc:1090] InUse at 7f991c058700 of size 16384 next 129\n",
      "2023-02-25 20:30:01.021184: I tensorflow/tsl/framework/bfc_allocator.cc:1090] InUse at 7f991c05c700 of size 256 next 107\n",
      "2023-02-25 20:30:01.021214: I tensorflow/tsl/framework/bfc_allocator.cc:1090] InUse at 7f991c05c800 of size 256 next 120\n",
      "2023-02-25 20:30:01.021242: I tensorflow/tsl/framework/bfc_allocator.cc:1090] InUse at 7f991c05c900 of size 256 next 128\n",
      "2023-02-25 20:30:01.021271: I tensorflow/tsl/framework/bfc_allocator.cc:1090] InUse at 7f991c05ca00 of size 256 next 125\n",
      "2023-02-25 20:30:01.021299: I tensorflow/tsl/framework/bfc_allocator.cc:1090] InUse at 7f991c05cb00 of size 256 next 178\n",
      "2023-02-25 20:30:01.021330: I tensorflow/tsl/framework/bfc_allocator.cc:1090] InUse at 7f991c05cc00 of size 256 next 179\n",
      "2023-02-25 20:30:01.021358: I tensorflow/tsl/framework/bfc_allocator.cc:1090] InUse at 7f991c05cd00 of size 256 next 180\n",
      "2023-02-25 20:30:01.021388: I tensorflow/tsl/framework/bfc_allocator.cc:1090] InUse at 7f991c05ce00 of size 256 next 181\n",
      "2023-02-25 20:30:01.021416: I tensorflow/tsl/framework/bfc_allocator.cc:1090] InUse at 7f991c05cf00 of size 256 next 182\n",
      "2023-02-25 20:30:01.021446: I tensorflow/tsl/framework/bfc_allocator.cc:1090] InUse at 7f991c05d000 of size 14080 next 98\n",
      "2023-02-25 20:30:01.021478: I tensorflow/tsl/framework/bfc_allocator.cc:1090] InUse at 7f991c060700 of size 32768 next 100\n",
      "2023-02-25 20:30:01.021508: I tensorflow/tsl/framework/bfc_allocator.cc:1090] InUse at 7f991c068700 of size 16384 next 32\n",
      "2023-02-25 20:30:01.021539: I tensorflow/tsl/framework/bfc_allocator.cc:1090] InUse at 7f991c06c700 of size 16384 next 96\n",
      "2023-02-25 20:30:01.021570: I tensorflow/tsl/framework/bfc_allocator.cc:1090] InUse at 7f991c070700 of size 8192 next 90\n",
      "2023-02-25 20:30:01.021602: I tensorflow/tsl/framework/bfc_allocator.cc:1090] InUse at 7f991c072700 of size 16384 next 112\n",
      "2023-02-25 20:30:01.021632: I tensorflow/tsl/framework/bfc_allocator.cc:1090] InUse at 7f991c076700 of size 8192 next 86\n",
      "2023-02-25 20:30:01.021686: I tensorflow/tsl/framework/bfc_allocator.cc:1090] InUse at 7f991c078700 of size 8192 next 91\n",
      "2023-02-25 20:30:01.021721: I tensorflow/tsl/framework/bfc_allocator.cc:1090] InUse at 7f991c07a700 of size 57344 next 77\n",
      "2023-02-25 20:30:01.021748: I tensorflow/tsl/framework/bfc_allocator.cc:1090] InUse at 7f991c088700 of size 98304 next 78\n",
      "2023-02-25 20:30:01.021779: I tensorflow/tsl/framework/bfc_allocator.cc:1090] InUse at 7f991c0a0700 of size 49152 next 76\n",
      "2023-02-25 20:30:01.021810: I tensorflow/tsl/framework/bfc_allocator.cc:1090] InUse at 7f991c0ac700 of size 90112 next 9\n",
      "2023-02-25 20:30:01.021842: I tensorflow/tsl/framework/bfc_allocator.cc:1090] InUse at 7f991c0c2700 of size 396800 next 15\n",
      "2023-02-25 20:30:01.021873: I tensorflow/tsl/framework/bfc_allocator.cc:1090] InUse at 7f991c123500 of size 396800 next 23\n",
      "2023-02-25 20:30:01.021903: I tensorflow/tsl/framework/bfc_allocator.cc:1090] InUse at 7f991c184300 of size 396800 next 13\n",
      "2023-02-25 20:30:01.021932: I tensorflow/tsl/framework/bfc_allocator.cc:1090] InUse at 7f991c1e5100 of size 131072 next 149\n",
      "2023-02-25 20:30:01.021965: I tensorflow/tsl/framework/bfc_allocator.cc:1090] InUse at 7f991c205100 of size 65536 next 150\n",
      "2023-02-25 20:30:01.021996: I tensorflow/tsl/framework/bfc_allocator.cc:1090] InUse at 7f991c215100 of size 65536 next 151\n",
      "2023-02-25 20:30:01.022026: I tensorflow/tsl/framework/bfc_allocator.cc:1090] InUse at 7f991c225100 of size 32768 next 156\n",
      "2023-02-25 20:30:01.022054: I tensorflow/tsl/framework/bfc_allocator.cc:1090] InUse at 7f991c22d100 of size 32768 next 159\n",
      "2023-02-25 20:30:01.022084: I tensorflow/tsl/framework/bfc_allocator.cc:1090] InUse at 7f991c235100 of size 32768 next 160\n",
      "2023-02-25 20:30:01.022112: I tensorflow/tsl/framework/bfc_allocator.cc:1090] InUse at 7f991c23d100 of size 16384 next 163\n",
      "2023-02-25 20:30:01.022144: I tensorflow/tsl/framework/bfc_allocator.cc:1090] InUse at 7f991c241100 of size 198400 next 171\n",
      "2023-02-25 20:30:01.022175: I tensorflow/tsl/framework/bfc_allocator.cc:1090] InUse at 7f991c271800 of size 198400 next 172\n",
      "2023-02-25 20:30:01.022206: I tensorflow/tsl/framework/bfc_allocator.cc:1090] InUse at 7f991c2a1f00 of size 8192 next 227\n",
      "2023-02-25 20:30:01.022234: I tensorflow/tsl/framework/bfc_allocator.cc:1090] InUse at 7f991c2a3f00 of size 8192 next 212\n",
      "2023-02-25 20:30:01.022264: I tensorflow/tsl/framework/bfc_allocator.cc:1090] InUse at 7f991c2a5f00 of size 9472 next 183\n",
      "2023-02-25 20:30:01.022293: I tensorflow/tsl/framework/bfc_allocator.cc:1090] InUse at 7f991c2a8400 of size 25856 next 184\n",
      "2023-02-25 20:30:01.022323: I tensorflow/tsl/framework/bfc_allocator.cc:1090] InUse at 7f991c2ae900 of size 25856 next 185\n",
      "2023-02-25 20:30:01.022352: I tensorflow/tsl/framework/bfc_allocator.cc:1090] InUse at 7f991c2b4e00 of size 256 next 197\n",
      "2023-02-25 20:30:01.022381: I tensorflow/tsl/framework/bfc_allocator.cc:1090] InUse at 7f991c2b4f00 of size 256 next 198\n",
      "2023-02-25 20:30:01.022410: I tensorflow/tsl/framework/bfc_allocator.cc:1090] Free  at 7f991c2b5000 of size 256 next 199\n",
      "2023-02-25 20:30:01.022440: I tensorflow/tsl/framework/bfc_allocator.cc:1090] InUse at 7f991c2b5100 of size 256 next 201\n",
      "2023-02-25 20:30:01.022468: I tensorflow/tsl/framework/bfc_allocator.cc:1090] InUse at 7f991c2b5200 of size 256 next 211\n",
      "2023-02-25 20:30:01.022497: I tensorflow/tsl/framework/bfc_allocator.cc:1090] InUse at 7f991c2b5300 of size 256 next 213\n",
      "2023-02-25 20:30:01.022526: I tensorflow/tsl/framework/bfc_allocator.cc:1090] InUse at 7f991c2b5400 of size 256 next 214\n",
      "2023-02-25 20:30:01.022555: I tensorflow/tsl/framework/bfc_allocator.cc:1090] InUse at 7f991c2b5500 of size 256 next 202\n",
      "2023-02-25 20:30:01.022584: I tensorflow/tsl/framework/bfc_allocator.cc:1090] InUse at 7f991c2b5600 of size 256 next 209\n",
      "2023-02-25 20:30:01.022613: I tensorflow/tsl/framework/bfc_allocator.cc:1090] InUse at 7f991c2b5700 of size 1024 next 186\n",
      "2023-02-25 20:30:01.022642: I tensorflow/tsl/framework/bfc_allocator.cc:1090] Free  at 7f991c2b5b00 of size 3328 next 187\n",
      "2023-02-25 20:30:01.022671: I tensorflow/tsl/framework/bfc_allocator.cc:1090] InUse at 7f991c2b6800 of size 256 next 220\n",
      "2023-02-25 20:30:01.022700: I tensorflow/tsl/framework/bfc_allocator.cc:1090] InUse at 7f991c2b6900 of size 256 next 217\n",
      "2023-02-25 20:30:01.022730: I tensorflow/tsl/framework/bfc_allocator.cc:1090] InUse at 7f991c2b6a00 of size 256 next 218\n",
      "2023-02-25 20:30:01.022758: I tensorflow/tsl/framework/bfc_allocator.cc:1090] InUse at 7f991c2b6b00 of size 256 next 216\n",
      "2023-02-25 20:30:01.022788: I tensorflow/tsl/framework/bfc_allocator.cc:1090] InUse at 7f991c2b6c00 of size 256 next 231\n",
      "2023-02-25 20:30:01.022816: I tensorflow/tsl/framework/bfc_allocator.cc:1090] InUse at 7f991c2b6d00 of size 256 next 240\n",
      "2023-02-25 20:30:01.022846: I tensorflow/tsl/framework/bfc_allocator.cc:1090] InUse at 7f991c2b6e00 of size 256 next 246\n",
      "2023-02-25 20:30:01.022874: I tensorflow/tsl/framework/bfc_allocator.cc:1090] InUse at 7f991c2b6f00 of size 256 next 237\n",
      "2023-02-25 20:30:01.022903: I tensorflow/tsl/framework/bfc_allocator.cc:1090] InUse at 7f991c2b7000 of size 256 next 228\n",
      "2023-02-25 20:30:01.022931: I tensorflow/tsl/framework/bfc_allocator.cc:1090] InUse at 7f991c2b7100 of size 256 next 234\n",
      "2023-02-25 20:30:01.022960: I tensorflow/tsl/framework/bfc_allocator.cc:1090] InUse at 7f991c2b7200 of size 256 next 233\n",
      "2023-02-25 20:30:01.022988: I tensorflow/tsl/framework/bfc_allocator.cc:1090] InUse at 7f991c2b7300 of size 256 next 221\n",
      "2023-02-25 20:30:01.023017: I tensorflow/tsl/framework/bfc_allocator.cc:1090] InUse at 7f991c2b7400 of size 256 next 188\n",
      "2023-02-25 20:30:01.023048: I tensorflow/tsl/framework/bfc_allocator.cc:1090] InUse at 7f991c2b7500 of size 13056 next 190\n",
      "2023-02-25 20:30:01.023081: I tensorflow/tsl/framework/bfc_allocator.cc:1090] InUse at 7f991c2ba800 of size 13056 next 191\n",
      "2023-02-25 20:30:01.023111: I tensorflow/tsl/framework/bfc_allocator.cc:1090] InUse at 7f991c2bdb00 of size 1280 next 204\n",
      "2023-02-25 20:30:01.023140: I tensorflow/tsl/framework/bfc_allocator.cc:1090] InUse at 7f991c2be000 of size 24576 next 192\n",
      "2023-02-25 20:30:01.023170: I tensorflow/tsl/framework/bfc_allocator.cc:1090] InUse at 7f991c2c4000 of size 13056 next 193\n",
      "2023-02-25 20:30:01.023197: I tensorflow/tsl/framework/bfc_allocator.cc:1090] InUse at 7f991c2c7300 of size 13056 next 194\n",
      "2023-02-25 20:30:01.023227: I tensorflow/tsl/framework/bfc_allocator.cc:1090] InUse at 7f991c2ca600 of size 25856 next 195\n",
      "2023-02-25 20:30:01.023255: I tensorflow/tsl/framework/bfc_allocator.cc:1090] InUse at 7f991c2d0b00 of size 256 next 223\n",
      "2023-02-25 20:30:01.023285: I tensorflow/tsl/framework/bfc_allocator.cc:1090] InUse at 7f991c2d0c00 of size 256 next 222\n",
      "2023-02-25 20:30:01.023313: I tensorflow/tsl/framework/bfc_allocator.cc:1090] InUse at 7f991c2d0d00 of size 256 next 219\n",
      "2023-02-25 20:30:01.023343: I tensorflow/tsl/framework/bfc_allocator.cc:1090] InUse at 7f991c2d0e00 of size 256 next 200\n",
      "2023-02-25 20:30:01.023371: I tensorflow/tsl/framework/bfc_allocator.cc:1090] InUse at 7f991c2d0f00 of size 1792 next 210\n",
      "2023-02-25 20:30:01.023402: I tensorflow/tsl/framework/bfc_allocator.cc:1090] InUse at 7f991c2d1600 of size 10240 next 196\n",
      "2023-02-25 20:30:01.023431: I tensorflow/tsl/framework/bfc_allocator.cc:1090] InUse at 7f991c2d3e00 of size 256 next 206\n",
      "2023-02-25 20:30:01.023461: I tensorflow/tsl/framework/bfc_allocator.cc:1090] InUse at 7f991c2d3f00 of size 256 next 207\n",
      "2023-02-25 20:30:01.023492: I tensorflow/tsl/framework/bfc_allocator.cc:1090] InUse at 7f991c2d4000 of size 256 next 208\n",
      "2023-02-25 20:30:01.023500: I tensorflow/tsl/framework/bfc_allocator.cc:1090] InUse at 7f991c2d4100 of size 148992 next 229\n",
      "2023-02-25 20:30:01.023508: I tensorflow/tsl/framework/bfc_allocator.cc:1090] InUse at 7f991c2f8700 of size 8192 next 235\n",
      "2023-02-25 20:30:01.023516: I tensorflow/tsl/framework/bfc_allocator.cc:1090] InUse at 7f991c2fa700 of size 8192 next 215\n",
      "2023-02-25 20:30:01.023524: I tensorflow/tsl/framework/bfc_allocator.cc:1090] InUse at 7f991c2fc700 of size 256 next 244\n",
      "2023-02-25 20:30:01.023531: I tensorflow/tsl/framework/bfc_allocator.cc:1090] InUse at 7f991c2fc800 of size 13056 next 254\n",
      "2023-02-25 20:30:01.023539: I tensorflow/tsl/framework/bfc_allocator.cc:1090] InUse at 7f991c2ffb00 of size 39168 next 257\n",
      "2023-02-25 20:30:01.023548: I tensorflow/tsl/framework/bfc_allocator.cc:1090] InUse at 7f991c309400 of size 13056 next 258\n",
      "2023-02-25 20:30:01.023555: I tensorflow/tsl/framework/bfc_allocator.cc:1090] InUse at 7f991c30c700 of size 13056 next 259\n",
      "2023-02-25 20:30:01.023563: I tensorflow/tsl/framework/bfc_allocator.cc:1090] InUse at 7f991c30fa00 of size 13056 next 260\n",
      "2023-02-25 20:30:01.023570: I tensorflow/tsl/framework/bfc_allocator.cc:1090] Free  at 7f991c312d00 of size 72192 next 205\n",
      "2023-02-25 20:30:01.023578: I tensorflow/tsl/framework/bfc_allocator.cc:1090] InUse at 7f991c324700 of size 8192 next 203\n",
      "2023-02-25 20:30:01.023586: I tensorflow/tsl/framework/bfc_allocator.cc:1090] InUse at 7f991c326700 of size 198656 next 230\n",
      "2023-02-25 20:30:01.023594: I tensorflow/tsl/framework/bfc_allocator.cc:1090] InUse at 7f991c356f00 of size 8192 next 249\n",
      "2023-02-25 20:30:01.023601: I tensorflow/tsl/framework/bfc_allocator.cc:1090] InUse at 7f991c358f00 of size 8192 next 241\n",
      "2023-02-25 20:30:01.023609: I tensorflow/tsl/framework/bfc_allocator.cc:1090] InUse at 7f991c35af00 of size 8192 next 251\n",
      "2023-02-25 20:30:01.023616: I tensorflow/tsl/framework/bfc_allocator.cc:1090] Free  at 7f991c35cf00 of size 9216 next 250\n",
      "2023-02-25 20:30:01.023625: I tensorflow/tsl/framework/bfc_allocator.cc:1090] InUse at 7f991c35f300 of size 204288 next 40\n",
      "2023-02-25 20:30:01.023632: I tensorflow/tsl/framework/bfc_allocator.cc:1090] InUse at 7f991c391100 of size 256 next 65\n",
      "2023-02-25 20:30:01.023641: I tensorflow/tsl/framework/bfc_allocator.cc:1090] InUse at 7f991c391200 of size 256 next 57\n",
      "2023-02-25 20:30:01.023648: I tensorflow/tsl/framework/bfc_allocator.cc:1090] InUse at 7f991c391300 of size 256 next 28\n",
      "2023-02-25 20:30:01.023656: I tensorflow/tsl/framework/bfc_allocator.cc:1090] InUse at 7f991c391400 of size 256 next 45\n",
      "2023-02-25 20:30:01.023663: I tensorflow/tsl/framework/bfc_allocator.cc:1090] InUse at 7f991c391500 of size 256 next 61\n",
      "2023-02-25 20:30:01.023671: I tensorflow/tsl/framework/bfc_allocator.cc:1090] InUse at 7f991c391600 of size 256 next 51\n",
      "2023-02-25 20:30:01.023678: I tensorflow/tsl/framework/bfc_allocator.cc:1090] InUse at 7f991c391700 of size 256 next 58\n",
      "2023-02-25 20:30:01.023685: I tensorflow/tsl/framework/bfc_allocator.cc:1090] InUse at 7f991c391800 of size 98304 next 140\n",
      "2023-02-25 20:30:01.023693: I tensorflow/tsl/framework/bfc_allocator.cc:1090] InUse at 7f991c3a9800 of size 49152 next 141\n",
      "2023-02-25 20:30:01.023699: I tensorflow/tsl/framework/bfc_allocator.cc:1090] InUse at 7f991c3b5800 of size 50688 next 59\n",
      "2023-02-25 20:30:01.023703: I tensorflow/tsl/framework/bfc_allocator.cc:1090] InUse at 7f991c3c1e00 of size 512 next 97\n",
      "2023-02-25 20:30:01.023707: I tensorflow/tsl/framework/bfc_allocator.cc:1090] InUse at 7f991c3c2000 of size 512 next 93\n",
      "2023-02-25 20:30:01.023711: I tensorflow/tsl/framework/bfc_allocator.cc:1090] InUse at 7f991c3c2200 of size 256 next 105\n",
      "2023-02-25 20:30:01.023715: I tensorflow/tsl/framework/bfc_allocator.cc:1090] InUse at 7f991c3c2300 of size 256 next 84\n",
      "2023-02-25 20:30:01.023719: I tensorflow/tsl/framework/bfc_allocator.cc:1090] InUse at 7f991c3c2400 of size 256 next 101\n",
      "2023-02-25 20:30:01.023722: I tensorflow/tsl/framework/bfc_allocator.cc:1090] InUse at 7f991c3c2500 of size 256 next 102\n",
      "2023-02-25 20:30:01.023726: I tensorflow/tsl/framework/bfc_allocator.cc:1090] InUse at 7f991c3c2600 of size 1536 next 142\n",
      "2023-02-25 20:30:01.023730: I tensorflow/tsl/framework/bfc_allocator.cc:1090] InUse at 7f991c3c2c00 of size 1792 next 80\n",
      "2023-02-25 20:30:01.023734: I tensorflow/tsl/framework/bfc_allocator.cc:1090] InUse at 7f991c3c3300 of size 256 next 113\n",
      "2023-02-25 20:30:01.023738: I tensorflow/tsl/framework/bfc_allocator.cc:1090] InUse at 7f991c3c3400 of size 256 next 114\n",
      "2023-02-25 20:30:01.023744: I tensorflow/tsl/framework/bfc_allocator.cc:1090] InUse at 7f991c3c3500 of size 256 next 110\n",
      "2023-02-25 20:30:01.023750: I tensorflow/tsl/framework/bfc_allocator.cc:1090] InUse at 7f991c3c3600 of size 1024 next 111\n",
      "2023-02-25 20:30:01.023757: I tensorflow/tsl/framework/bfc_allocator.cc:1090] InUse at 7f991c3c3a00 of size 256 next 116\n",
      "2023-02-25 20:30:01.023764: I tensorflow/tsl/framework/bfc_allocator.cc:1090] InUse at 7f991c3c3b00 of size 256 next 122\n",
      "2023-02-25 20:30:01.023771: I tensorflow/tsl/framework/bfc_allocator.cc:1090] InUse at 7f991c3c3c00 of size 256 next 126\n",
      "2023-02-25 20:30:01.023779: I tensorflow/tsl/framework/bfc_allocator.cc:1090] InUse at 7f991c3c3d00 of size 256 next 127\n",
      "2023-02-25 20:30:01.023787: I tensorflow/tsl/framework/bfc_allocator.cc:1090] InUse at 7f991c3c3e00 of size 5120 next 55\n",
      "2023-02-25 20:30:01.023795: I tensorflow/tsl/framework/bfc_allocator.cc:1090] InUse at 7f991c3c5200 of size 1536 next 146\n",
      "2023-02-25 20:30:01.023803: I tensorflow/tsl/framework/bfc_allocator.cc:1090] InUse at 7f991c3c5800 of size 1024 next 152\n",
      "2023-02-25 20:30:01.023810: I tensorflow/tsl/framework/bfc_allocator.cc:1090] InUse at 7f991c3c5c00 of size 1024 next 153\n",
      "2023-02-25 20:30:01.023818: I tensorflow/tsl/framework/bfc_allocator.cc:1090] InUse at 7f991c3c6000 of size 256 next 154\n",
      "2023-02-25 20:30:01.023826: I tensorflow/tsl/framework/bfc_allocator.cc:1090] InUse at 7f991c3c6100 of size 256 next 155\n",
      "2023-02-25 20:30:01.023834: I tensorflow/tsl/framework/bfc_allocator.cc:1090] InUse at 7f991c3c6200 of size 256 next 157\n",
      "2023-02-25 20:30:01.023842: I tensorflow/tsl/framework/bfc_allocator.cc:1090] InUse at 7f991c3c6300 of size 256 next 158\n",
      "2023-02-25 20:30:01.023850: I tensorflow/tsl/framework/bfc_allocator.cc:1090] InUse at 7f991c3c6400 of size 256 next 161\n",
      "2023-02-25 20:30:01.023858: I tensorflow/tsl/framework/bfc_allocator.cc:1090] InUse at 7f991c3c6500 of size 256 next 162\n",
      "2023-02-25 20:30:01.023865: I tensorflow/tsl/framework/bfc_allocator.cc:1090] InUse at 7f991c3c6600 of size 256 next 164\n",
      "2023-02-25 20:30:01.023873: I tensorflow/tsl/framework/bfc_allocator.cc:1090] InUse at 7f991c3c6700 of size 256 next 165\n",
      "2023-02-25 20:30:01.023881: I tensorflow/tsl/framework/bfc_allocator.cc:1090] InUse at 7f991c3c6800 of size 256 next 166\n",
      "2023-02-25 20:30:01.023889: I tensorflow/tsl/framework/bfc_allocator.cc:1090] InUse at 7f991c3c6900 of size 256 next 167\n",
      "2023-02-25 20:30:01.023897: I tensorflow/tsl/framework/bfc_allocator.cc:1090] InUse at 7f991c3c6a00 of size 256 next 168\n",
      "2023-02-25 20:30:01.023904: I tensorflow/tsl/framework/bfc_allocator.cc:1090] InUse at 7f991c3c6b00 of size 256 next 169\n",
      "2023-02-25 20:30:01.023912: I tensorflow/tsl/framework/bfc_allocator.cc:1090] InUse at 7f991c3c6c00 of size 256 next 173\n",
      "2023-02-25 20:30:01.023920: I tensorflow/tsl/framework/bfc_allocator.cc:1090] InUse at 7f991c3c6d00 of size 256 next 174\n",
      "2023-02-25 20:30:01.023928: I tensorflow/tsl/framework/bfc_allocator.cc:1090] InUse at 7f991c3c6e00 of size 256 next 175\n",
      "2023-02-25 20:30:01.023936: I tensorflow/tsl/framework/bfc_allocator.cc:1090] InUse at 7f991c3c6f00 of size 256 next 176\n",
      "2023-02-25 20:30:01.023944: I tensorflow/tsl/framework/bfc_allocator.cc:1090] InUse at 7f991c3c7000 of size 256 next 177\n",
      "2023-02-25 20:30:01.023952: I tensorflow/tsl/framework/bfc_allocator.cc:1090] InUse at 7f991c3c7100 of size 256 next 62\n",
      "2023-02-25 20:30:01.023959: I tensorflow/tsl/framework/bfc_allocator.cc:1090] InUse at 7f991c3c7200 of size 98304 next 81\n",
      "2023-02-25 20:30:01.023967: I tensorflow/tsl/framework/bfc_allocator.cc:1090] InUse at 7f991c3df200 of size 98304 next 50\n",
      "2023-02-25 20:30:01.023975: I tensorflow/tsl/framework/bfc_allocator.cc:1090] InUse at 7f991c3f7200 of size 98304 next 60\n",
      "2023-02-25 20:30:01.023983: I tensorflow/tsl/framework/bfc_allocator.cc:1090] InUse at 7f991c40f200 of size 32768 next 117\n",
      "2023-02-25 20:30:01.023991: I tensorflow/tsl/framework/bfc_allocator.cc:1090] InUse at 7f991c417200 of size 97280 next 88\n",
      "2023-02-25 20:30:01.023999: I tensorflow/tsl/framework/bfc_allocator.cc:1090] InUse at 7f991c42ee00 of size 32768 next 92\n",
      "2023-02-25 20:30:01.024007: I tensorflow/tsl/framework/bfc_allocator.cc:1090] InUse at 7f991c436e00 of size 32768 next 83\n",
      "2023-02-25 20:30:01.024015: I tensorflow/tsl/framework/bfc_allocator.cc:1090] InUse at 7f991c43ee00 of size 131072 next 108\n",
      "2023-02-25 20:30:01.024023: I tensorflow/tsl/framework/bfc_allocator.cc:1090] InUse at 7f991c45ee00 of size 32768 next 119\n",
      "2023-02-25 20:30:01.024031: I tensorflow/tsl/framework/bfc_allocator.cc:1090] InUse at 7f991c466e00 of size 32768 next 106\n",
      "2023-02-25 20:30:01.024039: I tensorflow/tsl/framework/bfc_allocator.cc:1090] InUse at 7f991c46ee00 of size 65536 next 109\n",
      "2023-02-25 20:30:01.024047: I tensorflow/tsl/framework/bfc_allocator.cc:1090] InUse at 7f991c47ee00 of size 49152 next 118\n",
      "2023-02-25 20:30:01.024055: I tensorflow/tsl/framework/bfc_allocator.cc:1090] InUse at 7f991c48ae00 of size 8192 next 121\n",
      "2023-02-25 20:30:01.024063: I tensorflow/tsl/framework/bfc_allocator.cc:1090] InUse at 7f991c48ce00 of size 82944 next 73\n",
      "2023-02-25 20:30:01.024071: I tensorflow/tsl/framework/bfc_allocator.cc:1090] InUse at 7f991c4a1200 of size 198656 next 132\n",
      "2023-02-25 20:30:01.024080: I tensorflow/tsl/framework/bfc_allocator.cc:1090] InUse at 7f991c4d1a00 of size 1654784 next 189\n",
      "2023-02-25 20:30:01.024088: I tensorflow/tsl/framework/bfc_allocator.cc:1090] InUse at 7f991c665a00 of size 827392 next 256\n",
      "2023-02-25 20:30:01.024096: I tensorflow/tsl/framework/bfc_allocator.cc:1090] Free  at 7f991c72fa00 of size 1678592 next 75\n",
      "2023-02-25 20:30:01.024104: I tensorflow/tsl/framework/bfc_allocator.cc:1090] InUse at 7f991c8c9700 of size 2482176 next 89\n",
      "2023-02-25 20:30:01.024113: I tensorflow/tsl/framework/bfc_allocator.cc:1090] InUse at 7f991cb27700 of size 396800 next 99\n",
      "2023-02-25 20:30:01.024121: I tensorflow/tsl/framework/bfc_allocator.cc:1090] InUse at 7f991cb88500 of size 560128 next 68\n",
      "2023-02-25 20:30:01.024129: I tensorflow/tsl/framework/bfc_allocator.cc:1090] InUse at 7f991cc11100 of size 396800 next 48\n",
      "2023-02-25 20:30:01.024137: I tensorflow/tsl/framework/bfc_allocator.cc:1090] InUse at 7f991cc71f00 of size 131072 next 43\n",
      "2023-02-25 20:30:01.024145: I tensorflow/tsl/framework/bfc_allocator.cc:1090] InUse at 7f991cc91f00 of size 131072 next 47\n",
      "2023-02-25 20:30:01.024153: I tensorflow/tsl/framework/bfc_allocator.cc:1090] InUse at 7f991ccb1f00 of size 198400 next 138\n",
      "2023-02-25 20:30:01.024161: I tensorflow/tsl/framework/bfc_allocator.cc:1090] InUse at 7f991cce2600 of size 98304 next 143\n",
      "2023-02-25 20:30:01.024169: I tensorflow/tsl/framework/bfc_allocator.cc:1090] InUse at 7f991ccfa600 of size 98304 next 144\n",
      "2023-02-25 20:30:01.024177: I tensorflow/tsl/framework/bfc_allocator.cc:1090] InUse at 7f991cd12600 of size 49152 next 145\n",
      "2023-02-25 20:30:01.024185: I tensorflow/tsl/framework/bfc_allocator.cc:1090] InUse at 7f991cd1e600 of size 202752 next 53\n",
      "2023-02-25 20:30:01.024194: I tensorflow/tsl/framework/bfc_allocator.cc:1090] InUse at 7f991cd4fe00 of size 12692480 next 134\n",
      "2023-02-25 20:30:01.024202: I tensorflow/tsl/framework/bfc_allocator.cc:1090] InUse at 7f991d96aa00 of size 25384960 next 63\n",
      "2023-02-25 20:30:01.024210: I tensorflow/tsl/framework/bfc_allocator.cc:1090] InUse at 7f991f1a0200 of size 26105600 next 29\n",
      "2023-02-25 20:30:01.024219: I tensorflow/tsl/framework/bfc_allocator.cc:1090] InUse at 7f9920a85900 of size 2482176 next 87\n",
      "2023-02-25 20:30:01.024227: I tensorflow/tsl/framework/bfc_allocator.cc:1090] InUse at 7f9920ce3900 of size 1784320 next 85\n",
      "2023-02-25 20:30:01.024235: I tensorflow/tsl/framework/bfc_allocator.cc:1090] InUse at 7f9920e97300 of size 1305856 next 94\n",
      "2023-02-25 20:30:01.024244: I tensorflow/tsl/framework/bfc_allocator.cc:1090] InUse at 7f9920fd6000 of size 827392 next 226\n",
      "2023-02-25 20:30:01.024252: I tensorflow/tsl/framework/bfc_allocator.cc:1090] InUse at 7f99210a0000 of size 456960 next 225\n",
      "2023-02-25 20:30:01.024260: I tensorflow/tsl/framework/bfc_allocator.cc:1090] InUse at 7f992110f900 of size 827392 next 224\n",
      "2023-02-25 20:30:01.024268: I tensorflow/tsl/framework/bfc_allocator.cc:1090] InUse at 7f99211d9900 of size 827392 next 236\n",
      "2023-02-25 20:30:01.024276: I tensorflow/tsl/framework/bfc_allocator.cc:1090] InUse at 7f99212a3900 of size 737280 next 232\n",
      "2023-02-25 20:30:01.024284: I tensorflow/tsl/framework/bfc_allocator.cc:1090] InUse at 7f9921357900 of size 2244864 next 124\n",
      "2023-02-25 20:30:01.024293: I tensorflow/tsl/framework/bfc_allocator.cc:1090] InUse at 7f992157ba00 of size 1305856 next 123\n",
      "2023-02-25 20:30:01.024301: I tensorflow/tsl/framework/bfc_allocator.cc:1090] InUse at 7f99216ba700 of size 827392 next 248\n",
      "2023-02-25 20:30:01.024309: I tensorflow/tsl/framework/bfc_allocator.cc:1090] InUse at 7f9921784700 of size 827392 next 242\n",
      "2023-02-25 20:30:01.024316: I tensorflow/tsl/framework/bfc_allocator.cc:1090] InUse at 7f992184e700 of size 1654784 next 243\n",
      "2023-02-25 20:30:01.024324: I tensorflow/tsl/framework/bfc_allocator.cc:1090] InUse at 7f99219e2700 of size 827392 next 238\n",
      "2023-02-25 20:30:01.024332: I tensorflow/tsl/framework/bfc_allocator.cc:1090] InUse at 7f9921aac700 of size 827392 next 239\n",
      "2023-02-25 20:30:01.024340: I tensorflow/tsl/framework/bfc_allocator.cc:1090] InUse at 7f9921b76700 of size 1360384 next 247\n",
      "2023-02-25 20:30:01.024348: I tensorflow/tsl/framework/bfc_allocator.cc:1090] InUse at 7f9921cc2900 of size 737280 next 245\n",
      "2023-02-25 20:30:01.024356: I tensorflow/tsl/framework/bfc_allocator.cc:1090] InUse at 7f9921d76900 of size 1305856 next 252\n",
      "2023-02-25 20:30:01.024364: I tensorflow/tsl/framework/bfc_allocator.cc:1090] InUse at 7f9921eb5600 of size 1305856 next 253\n",
      "2023-02-25 20:30:01.024372: I tensorflow/tsl/framework/bfc_allocator.cc:1090] Free  at 7f9921ff4300 of size 2911744 next 19\n",
      "2023-02-25 20:30:01.024380: I tensorflow/tsl/framework/bfc_allocator.cc:1090] InUse at 7f99222bb100 of size 25384960 next 69\n",
      "2023-02-25 20:30:01.024388: I tensorflow/tsl/framework/bfc_allocator.cc:1090] InUse at 7f9923af0900 of size 12692480 next 139\n",
      "2023-02-25 20:30:01.024396: I tensorflow/tsl/framework/bfc_allocator.cc:1090] InUse at 7f992470b500 of size 12692480 next 104\n",
      "2023-02-25 20:30:01.024404: I tensorflow/tsl/framework/bfc_allocator.cc:1090] InUse at 7f9925326100 of size 25384960 next 103\n",
      "2023-02-25 20:30:01.024412: I tensorflow/tsl/framework/bfc_allocator.cc:1090] InUse at 7f9926b5b900 of size 25384960 next 52\n",
      "2023-02-25 20:30:01.024420: I tensorflow/tsl/framework/bfc_allocator.cc:1090] InUse at 7f9928391100 of size 25384960 next 137\n",
      "2023-02-25 20:30:01.024428: I tensorflow/tsl/framework/bfc_allocator.cc:1090] InUse at 7f9929bc6900 of size 25384960 next 147\n",
      "2023-02-25 20:30:01.024436: I tensorflow/tsl/framework/bfc_allocator.cc:1090] InUse at 7f992b3fc100 of size 25384960 next 148\n",
      "2023-02-25 20:30:01.024444: I tensorflow/tsl/framework/bfc_allocator.cc:1090] InUse at 7f992cc31900 of size 12692480 next 170\n",
      "2023-02-25 20:30:01.024452: I tensorflow/tsl/framework/bfc_allocator.cc:1090] Free  at 7f992d84c500 of size 526737920 next 133\n",
      "2023-02-25 20:30:01.024460: I tensorflow/tsl/framework/bfc_allocator.cc:1090] InUse at 7f994cea2700 of size 640970240 next 130\n",
      "2023-02-25 20:30:01.024469: I tensorflow/tsl/framework/bfc_allocator.cc:1090] InUse at 7f99731e9500 of size 640970240 next 255\n",
      "2023-02-25 20:30:01.024477: I tensorflow/tsl/framework/bfc_allocator.cc:1090] Free  at 7f9999530300 of size 430505216 next 18446744073709551615\n",
      "2023-02-25 20:30:01.024484: I tensorflow/tsl/framework/bfc_allocator.cc:1095]      Summary of in-use Chunks by size: \n",
      "2023-02-25 20:30:01.024495: I tensorflow/tsl/framework/bfc_allocator.cc:1098] 107 Chunks of size 256 totalling 26.8KiB\n",
      "2023-02-25 20:30:01.024505: I tensorflow/tsl/framework/bfc_allocator.cc:1098] 3 Chunks of size 512 totalling 1.5KiB\n",
      "2023-02-25 20:30:01.024514: I tensorflow/tsl/framework/bfc_allocator.cc:1098] 5 Chunks of size 1024 totalling 5.0KiB\n",
      "2023-02-25 20:30:01.024523: I tensorflow/tsl/framework/bfc_allocator.cc:1098] 2 Chunks of size 1280 totalling 2.5KiB\n",
      "2023-02-25 20:30:01.024531: I tensorflow/tsl/framework/bfc_allocator.cc:1098] 6 Chunks of size 1536 totalling 9.0KiB\n",
      "2023-02-25 20:30:01.024540: I tensorflow/tsl/framework/bfc_allocator.cc:1098] 3 Chunks of size 1792 totalling 5.2KiB\n",
      "2023-02-25 20:30:01.024549: I tensorflow/tsl/framework/bfc_allocator.cc:1098] 1 Chunks of size 3328 totalling 3.2KiB\n",
      "2023-02-25 20:30:01.024558: I tensorflow/tsl/framework/bfc_allocator.cc:1098] 1 Chunks of size 4096 totalling 4.0KiB\n",
      "2023-02-25 20:30:01.024567: I tensorflow/tsl/framework/bfc_allocator.cc:1098] 1 Chunks of size 5120 totalling 5.0KiB\n",
      "2023-02-25 20:30:01.024576: I tensorflow/tsl/framework/bfc_allocator.cc:1098] 12 Chunks of size 8192 totalling 96.0KiB\n",
      "2023-02-25 20:30:01.024585: I tensorflow/tsl/framework/bfc_allocator.cc:1098] 1 Chunks of size 9472 totalling 9.2KiB\n",
      "2023-02-25 20:30:01.024595: I tensorflow/tsl/framework/bfc_allocator.cc:1098] 1 Chunks of size 10240 totalling 10.0KiB\n",
      "2023-02-25 20:30:01.024604: I tensorflow/tsl/framework/bfc_allocator.cc:1098] 8 Chunks of size 13056 totalling 102.0KiB\n",
      "2023-02-25 20:30:01.024614: I tensorflow/tsl/framework/bfc_allocator.cc:1098] 1 Chunks of size 14080 totalling 13.8KiB\n",
      "2023-02-25 20:30:01.024623: I tensorflow/tsl/framework/bfc_allocator.cc:1098] 7 Chunks of size 16384 totalling 112.0KiB\n",
      "2023-02-25 20:30:01.024632: I tensorflow/tsl/framework/bfc_allocator.cc:1098] 1 Chunks of size 24576 totalling 24.0KiB\n",
      "2023-02-25 20:30:01.024642: I tensorflow/tsl/framework/bfc_allocator.cc:1098] 6 Chunks of size 25856 totalling 151.5KiB\n",
      "2023-02-25 20:30:01.024651: I tensorflow/tsl/framework/bfc_allocator.cc:1098] 11 Chunks of size 32768 totalling 352.0KiB\n",
      "2023-02-25 20:30:01.024660: I tensorflow/tsl/framework/bfc_allocator.cc:1098] 1 Chunks of size 39168 totalling 38.2KiB\n",
      "2023-02-25 20:30:01.024670: I tensorflow/tsl/framework/bfc_allocator.cc:1098] 4 Chunks of size 49152 totalling 192.0KiB\n",
      "2023-02-25 20:30:01.024679: I tensorflow/tsl/framework/bfc_allocator.cc:1098] 1 Chunks of size 50688 totalling 49.5KiB\n",
      "2023-02-25 20:30:01.024689: I tensorflow/tsl/framework/bfc_allocator.cc:1098] 1 Chunks of size 57344 totalling 56.0KiB\n",
      "2023-02-25 20:30:01.024698: I tensorflow/tsl/framework/bfc_allocator.cc:1098] 3 Chunks of size 65536 totalling 192.0KiB\n",
      "2023-02-25 20:30:01.024707: I tensorflow/tsl/framework/bfc_allocator.cc:1098] 1 Chunks of size 77568 totalling 75.8KiB\n",
      "2023-02-25 20:30:01.024716: I tensorflow/tsl/framework/bfc_allocator.cc:1098] 1 Chunks of size 82176 totalling 80.2KiB\n",
      "2023-02-25 20:30:01.024726: I tensorflow/tsl/framework/bfc_allocator.cc:1098] 1 Chunks of size 82944 totalling 81.0KiB\n",
      "2023-02-25 20:30:01.024735: I tensorflow/tsl/framework/bfc_allocator.cc:1098] 1 Chunks of size 90112 totalling 88.0KiB\n",
      "2023-02-25 20:30:01.024744: I tensorflow/tsl/framework/bfc_allocator.cc:1098] 1 Chunks of size 97280 totalling 95.0KiB\n",
      "2023-02-25 20:30:01.024753: I tensorflow/tsl/framework/bfc_allocator.cc:1098] 7 Chunks of size 98304 totalling 672.0KiB\n",
      "2023-02-25 20:30:01.024762: I tensorflow/tsl/framework/bfc_allocator.cc:1098] 4 Chunks of size 131072 totalling 512.0KiB\n",
      "2023-02-25 20:30:01.024771: I tensorflow/tsl/framework/bfc_allocator.cc:1098] 1 Chunks of size 148992 totalling 145.5KiB\n",
      "2023-02-25 20:30:01.024781: I tensorflow/tsl/framework/bfc_allocator.cc:1098] 3 Chunks of size 198400 totalling 581.2KiB\n",
      "2023-02-25 20:30:01.024790: I tensorflow/tsl/framework/bfc_allocator.cc:1098] 2 Chunks of size 198656 totalling 388.0KiB\n",
      "2023-02-25 20:30:01.024800: I tensorflow/tsl/framework/bfc_allocator.cc:1098] 1 Chunks of size 202752 totalling 198.0KiB\n",
      "2023-02-25 20:30:01.024809: I tensorflow/tsl/framework/bfc_allocator.cc:1098] 1 Chunks of size 204288 totalling 199.5KiB\n",
      "2023-02-25 20:30:01.024818: I tensorflow/tsl/framework/bfc_allocator.cc:1098] 5 Chunks of size 396800 totalling 1.89MiB\n",
      "2023-02-25 20:30:01.024827: I tensorflow/tsl/framework/bfc_allocator.cc:1098] 1 Chunks of size 456960 totalling 446.2KiB\n",
      "2023-02-25 20:30:01.024836: I tensorflow/tsl/framework/bfc_allocator.cc:1098] 1 Chunks of size 560128 totalling 547.0KiB\n",
      "2023-02-25 20:30:01.024845: I tensorflow/tsl/framework/bfc_allocator.cc:1098] 2 Chunks of size 737280 totalling 1.41MiB\n",
      "2023-02-25 20:30:01.024854: I tensorflow/tsl/framework/bfc_allocator.cc:1098] 8 Chunks of size 827392 totalling 6.31MiB\n",
      "2023-02-25 20:30:01.024863: I tensorflow/tsl/framework/bfc_allocator.cc:1098] 4 Chunks of size 1305856 totalling 4.98MiB\n",
      "2023-02-25 20:30:01.024871: I tensorflow/tsl/framework/bfc_allocator.cc:1098] 1 Chunks of size 1360384 totalling 1.30MiB\n",
      "2023-02-25 20:30:01.024880: I tensorflow/tsl/framework/bfc_allocator.cc:1098] 2 Chunks of size 1654784 totalling 3.16MiB\n",
      "2023-02-25 20:30:01.024889: I tensorflow/tsl/framework/bfc_allocator.cc:1098] 1 Chunks of size 1784320 totalling 1.70MiB\n",
      "2023-02-25 20:30:01.024898: I tensorflow/tsl/framework/bfc_allocator.cc:1098] 1 Chunks of size 2244864 totalling 2.14MiB\n",
      "2023-02-25 20:30:01.024907: I tensorflow/tsl/framework/bfc_allocator.cc:1098] 2 Chunks of size 2482176 totalling 4.73MiB\n",
      "2023-02-25 20:30:01.024917: I tensorflow/tsl/framework/bfc_allocator.cc:1098] 4 Chunks of size 12692480 totalling 48.42MiB\n",
      "2023-02-25 20:30:01.024926: I tensorflow/tsl/framework/bfc_allocator.cc:1098] 7 Chunks of size 25384960 totalling 169.46MiB\n",
      "2023-02-25 20:30:01.024935: I tensorflow/tsl/framework/bfc_allocator.cc:1098] 1 Chunks of size 26105600 totalling 24.90MiB\n",
      "2023-02-25 20:30:01.024944: I tensorflow/tsl/framework/bfc_allocator.cc:1098] 2 Chunks of size 640970240 totalling 1.19GiB\n",
      "2023-02-25 20:30:01.024952: I tensorflow/tsl/framework/bfc_allocator.cc:1102] Sum Total of in-use chunks: 1.46GiB\n",
      "2023-02-25 20:30:01.024961: I tensorflow/tsl/framework/bfc_allocator.cc:1104] total_region_allocated_bytes_: 2533097472 memory_limit_: 2533097472 available bytes: 0 curr_region_allocation_bytes_: 5066194944\n",
      "2023-02-25 20:30:01.024973: I tensorflow/tsl/framework/bfc_allocator.cc:1110] Stats: \n",
      "Limit:                      2533097472\n",
      "InUse:                      1571179008\n",
      "MaxInUse:                   1571179008\n",
      "NumAllocs:                      106511\n",
      "MaxAllocSize:                640970240\n",
      "Reserved:                            0\n",
      "PeakReserved:                        0\n",
      "LargestFreeBlock:                    0\n",
      "\n",
      "2023-02-25 20:30:01.024999: W tensorflow/tsl/framework/bfc_allocator.cc:492] ************____________________****************************************************________________\n",
      "2023-02-25 20:30:01.025844: W tensorflow/core/framework/op_kernel.cc:1830] OP_REQUIRES failed at sparse_xent_op.cc:97 : RESOURCE_EXHAUSTED: OOM when allocating tensor with shape[3232,49580] and type float on /job:localhost/replica:0/task:0/device:GPU:0 by allocator GPU_0_bfc\n"
     ]
    },
    {
     "ename": "ResourceExhaustedError",
     "evalue": "Graph execution error:\n\nDetected at node 'masked_loss/sparse_categorical_crossentropy/SparseSoftmaxCrossEntropyWithLogits/SparseSoftmaxCrossEntropyWithLogits' defined at (most recent call last):\n    File \"/home/t/miniconda3/envs/tf_new/lib/python3.9/runpy.py\", line 197, in _run_module_as_main\n      return _run_code(code, main_globals, None,\n    File \"/home/t/miniconda3/envs/tf_new/lib/python3.9/runpy.py\", line 87, in _run_code\n      exec(code, run_globals)\n    File \"/home/t/.local/lib/python3.9/site-packages/ipykernel_launcher.py\", line 17, in <module>\n      app.launch_new_instance()\n    File \"/home/t/.local/lib/python3.9/site-packages/traitlets/config/application.py\", line 1041, in launch_instance\n      app.start()\n    File \"/home/t/.local/lib/python3.9/site-packages/ipykernel/kernelapp.py\", line 724, in start\n      self.io_loop.start()\n    File \"/home/t/miniconda3/envs/tf_new/lib/python3.9/site-packages/tornado/platform/asyncio.py\", line 215, in start\n      self.asyncio_loop.run_forever()\n    File \"/home/t/miniconda3/envs/tf_new/lib/python3.9/asyncio/base_events.py\", line 601, in run_forever\n      self._run_once()\n    File \"/home/t/miniconda3/envs/tf_new/lib/python3.9/asyncio/base_events.py\", line 1905, in _run_once\n      handle._run()\n    File \"/home/t/miniconda3/envs/tf_new/lib/python3.9/asyncio/events.py\", line 80, in _run\n      self._context.run(self._callback, *self._args)\n    File \"/home/t/.local/lib/python3.9/site-packages/ipykernel/kernelbase.py\", line 512, in dispatch_queue\n      await self.process_one()\n    File \"/home/t/.local/lib/python3.9/site-packages/ipykernel/kernelbase.py\", line 501, in process_one\n      await dispatch(*args)\n    File \"/home/t/.local/lib/python3.9/site-packages/ipykernel/kernelbase.py\", line 408, in dispatch_shell\n      await result\n    File \"/home/t/.local/lib/python3.9/site-packages/ipykernel/kernelbase.py\", line 731, in execute_request\n      reply_content = await reply_content\n    File \"/home/t/.local/lib/python3.9/site-packages/ipykernel/ipkernel.py\", line 417, in do_execute\n      res = shell.run_cell(\n    File \"/home/t/.local/lib/python3.9/site-packages/ipykernel/zmqshell.py\", line 540, in run_cell\n      return super().run_cell(*args, **kwargs)\n    File \"/home/t/.local/lib/python3.9/site-packages/IPython/core/interactiveshell.py\", line 2945, in run_cell\n      result = self._run_cell(\n    File \"/home/t/.local/lib/python3.9/site-packages/IPython/core/interactiveshell.py\", line 3000, in _run_cell\n      return runner(coro)\n    File \"/home/t/.local/lib/python3.9/site-packages/IPython/core/async_helpers.py\", line 129, in _pseudo_sync_runner\n      coro.send(None)\n    File \"/home/t/.local/lib/python3.9/site-packages/IPython/core/interactiveshell.py\", line 3203, in run_cell_async\n      has_raised = await self.run_ast_nodes(code_ast.body, cell_name,\n    File \"/home/t/.local/lib/python3.9/site-packages/IPython/core/interactiveshell.py\", line 3382, in run_ast_nodes\n      if await self.run_code(code, result, async_=asy):\n    File \"/home/t/.local/lib/python3.9/site-packages/IPython/core/interactiveshell.py\", line 3442, in run_code\n      exec(code_obj, self.user_global_ns, self.user_ns)\n    File \"/tmp/ipykernel_10346/1630762766.py\", line 2, in <module>\n      history = model.fit(\n    File \"/home/t/miniconda3/envs/tf_new/lib/python3.9/site-packages/keras/utils/traceback_utils.py\", line 65, in error_handler\n      return fn(*args, **kwargs)\n    File \"/home/t/miniconda3/envs/tf_new/lib/python3.9/site-packages/keras/engine/training.py\", line 1650, in fit\n      tmp_logs = self.train_function(iterator)\n    File \"/home/t/miniconda3/envs/tf_new/lib/python3.9/site-packages/keras/engine/training.py\", line 1249, in train_function\n      return step_function(self, iterator)\n    File \"/home/t/miniconda3/envs/tf_new/lib/python3.9/site-packages/keras/engine/training.py\", line 1233, in step_function\n      outputs = model.distribute_strategy.run(run_step, args=(data,))\n    File \"/home/t/miniconda3/envs/tf_new/lib/python3.9/site-packages/keras/engine/training.py\", line 1222, in run_step\n      outputs = model.train_step(data)\n    File \"/home/t/miniconda3/envs/tf_new/lib/python3.9/site-packages/keras/engine/training.py\", line 1024, in train_step\n      loss = self.compute_loss(x, y, y_pred, sample_weight)\n    File \"/home/t/miniconda3/envs/tf_new/lib/python3.9/site-packages/keras/engine/training.py\", line 1082, in compute_loss\n      return self.compiled_loss(\n    File \"/home/t/miniconda3/envs/tf_new/lib/python3.9/site-packages/keras/engine/compile_utils.py\", line 265, in __call__\n      loss_value = loss_obj(y_t, y_p, sample_weight=sw)\n    File \"/home/t/miniconda3/envs/tf_new/lib/python3.9/site-packages/keras/losses.py\", line 152, in __call__\n      losses = call_fn(y_true, y_pred)\n    File \"/home/t/miniconda3/envs/tf_new/lib/python3.9/site-packages/keras/losses.py\", line 284, in call\n      return ag_fn(y_true, y_pred, **self._fn_kwargs)\n    File \"/tmp/ipykernel_10346/2953002845.py\", line 5, in masked_loss\n      loss = loss_fn(y_true, y_pred)\n    File \"/home/t/miniconda3/envs/tf_new/lib/python3.9/site-packages/keras/losses.py\", line 152, in __call__\n      losses = call_fn(y_true, y_pred)\n    File \"/home/t/miniconda3/envs/tf_new/lib/python3.9/site-packages/keras/losses.py\", line 284, in call\n      return ag_fn(y_true, y_pred, **self._fn_kwargs)\n    File \"/home/t/miniconda3/envs/tf_new/lib/python3.9/site-packages/keras/losses.py\", line 2098, in sparse_categorical_crossentropy\n      return backend.sparse_categorical_crossentropy(\n    File \"/home/t/miniconda3/envs/tf_new/lib/python3.9/site-packages/keras/backend.py\", line 5633, in sparse_categorical_crossentropy\n      res = tf.nn.sparse_softmax_cross_entropy_with_logits(\nNode: 'masked_loss/sparse_categorical_crossentropy/SparseSoftmaxCrossEntropyWithLogits/SparseSoftmaxCrossEntropyWithLogits'\nOOM when allocating tensor with shape[3232,49580] and type float on /job:localhost/replica:0/task:0/device:GPU:0 by allocator GPU_0_bfc\n\t [[{{node masked_loss/sparse_categorical_crossentropy/SparseSoftmaxCrossEntropyWithLogits/SparseSoftmaxCrossEntropyWithLogits}}]]\nHint: If you want to see a list of allocated tensors when OOM happens, add report_tensor_allocations_upon_oom to RunOptions for current allocation info. This isn't available when running in Eager mode.\n [Op:__inference_train_function_127924]",
     "output_type": "error",
     "traceback": [
      "\u001b[0;31m---------------------------------------------------------------------------\u001b[0m",
      "\u001b[0;31mResourceExhaustedError\u001b[0m                    Traceback (most recent call last)",
      "Cell \u001b[0;32mIn[92], line 2\u001b[0m\n\u001b[1;32m      1\u001b[0m \u001b[38;5;66;03m# Train\u001b[39;00m\n\u001b[0;32m----> 2\u001b[0m history \u001b[38;5;241m=\u001b[39m \u001b[43mmodel\u001b[49m\u001b[38;5;241;43m.\u001b[39;49m\u001b[43mfit\u001b[49m\u001b[43m(\u001b[49m\n\u001b[1;32m      3\u001b[0m \u001b[43m    \u001b[49m\u001b[43mtrain_data\u001b[49m\u001b[38;5;241;43m.\u001b[39;49m\u001b[43mrepeat\u001b[49m\u001b[43m(\u001b[49m\u001b[43m)\u001b[49m\u001b[43m,\u001b[49m\u001b[43m \u001b[49m\n\u001b[1;32m      4\u001b[0m \u001b[43m    \u001b[49m\u001b[43mepochs\u001b[49m\u001b[38;5;241;43m=\u001b[39;49m\u001b[43mEPOCHS\u001b[49m\u001b[43m,\u001b[49m\n\u001b[1;32m      5\u001b[0m \u001b[43m    \u001b[49m\u001b[43msteps_per_epoch\u001b[49m\u001b[43m \u001b[49m\u001b[38;5;241;43m=\u001b[39;49m\u001b[43m \u001b[49m\u001b[38;5;241;43m80\u001b[39;49m\u001b[43m,\u001b[49m\n\u001b[1;32m      6\u001b[0m \u001b[43m    \u001b[49m\u001b[43mvalidation_data\u001b[49m\u001b[38;5;241;43m=\u001b[39;49m\u001b[43mtest_data\u001b[49m\u001b[43m,\u001b[49m\n\u001b[1;32m      7\u001b[0m \u001b[43m    \u001b[49m\u001b[43mvalidation_steps\u001b[49m\u001b[43m \u001b[49m\u001b[38;5;241;43m=\u001b[39;49m\u001b[43m \u001b[49m\u001b[38;5;241;43m5\u001b[39;49m\u001b[43m,\u001b[49m\n\u001b[1;32m      8\u001b[0m \u001b[43m    \u001b[49m\u001b[43mcallbacks\u001b[49m\u001b[38;5;241;43m=\u001b[39;49m\u001b[43m[\u001b[49m\n\u001b[1;32m      9\u001b[0m \u001b[43m        \u001b[49m\u001b[43mtf\u001b[49m\u001b[38;5;241;43m.\u001b[39;49m\u001b[43mkeras\u001b[49m\u001b[38;5;241;43m.\u001b[39;49m\u001b[43mcallbacks\u001b[49m\u001b[38;5;241;43m.\u001b[39;49m\u001b[43mEarlyStopping\u001b[49m\u001b[43m(\u001b[49m\u001b[43mpatience\u001b[49m\u001b[38;5;241;43m=\u001b[39;49m\u001b[38;5;241;43m3\u001b[39;49m\u001b[43m)\u001b[49m\u001b[43m,\u001b[49m\u001b[43m \u001b[49m\u001b[43mmodel_ckpt\u001b[49m\u001b[43m]\u001b[49m\u001b[43m)\u001b[49m\n",
      "File \u001b[0;32m~/miniconda3/envs/tf_new/lib/python3.9/site-packages/keras/utils/traceback_utils.py:70\u001b[0m, in \u001b[0;36mfilter_traceback.<locals>.error_handler\u001b[0;34m(*args, **kwargs)\u001b[0m\n\u001b[1;32m     67\u001b[0m     filtered_tb \u001b[38;5;241m=\u001b[39m _process_traceback_frames(e\u001b[38;5;241m.\u001b[39m__traceback__)\n\u001b[1;32m     68\u001b[0m     \u001b[38;5;66;03m# To get the full stack trace, call:\u001b[39;00m\n\u001b[1;32m     69\u001b[0m     \u001b[38;5;66;03m# `tf.debugging.disable_traceback_filtering()`\u001b[39;00m\n\u001b[0;32m---> 70\u001b[0m     \u001b[38;5;28;01mraise\u001b[39;00m e\u001b[38;5;241m.\u001b[39mwith_traceback(filtered_tb) \u001b[38;5;28;01mfrom\u001b[39;00m \u001b[38;5;28mNone\u001b[39m\n\u001b[1;32m     71\u001b[0m \u001b[38;5;28;01mfinally\u001b[39;00m:\n\u001b[1;32m     72\u001b[0m     \u001b[38;5;28;01mdel\u001b[39;00m filtered_tb\n",
      "File \u001b[0;32m~/miniconda3/envs/tf_new/lib/python3.9/site-packages/tensorflow/python/eager/execute.py:52\u001b[0m, in \u001b[0;36mquick_execute\u001b[0;34m(op_name, num_outputs, inputs, attrs, ctx, name)\u001b[0m\n\u001b[1;32m     50\u001b[0m \u001b[38;5;28;01mtry\u001b[39;00m:\n\u001b[1;32m     51\u001b[0m   ctx\u001b[38;5;241m.\u001b[39mensure_initialized()\n\u001b[0;32m---> 52\u001b[0m   tensors \u001b[38;5;241m=\u001b[39m pywrap_tfe\u001b[38;5;241m.\u001b[39mTFE_Py_Execute(ctx\u001b[38;5;241m.\u001b[39m_handle, device_name, op_name,\n\u001b[1;32m     53\u001b[0m                                       inputs, attrs, num_outputs)\n\u001b[1;32m     54\u001b[0m \u001b[38;5;28;01mexcept\u001b[39;00m core\u001b[38;5;241m.\u001b[39m_NotOkStatusException \u001b[38;5;28;01mas\u001b[39;00m e:\n\u001b[1;32m     55\u001b[0m   \u001b[38;5;28;01mif\u001b[39;00m name \u001b[38;5;129;01mis\u001b[39;00m \u001b[38;5;129;01mnot\u001b[39;00m \u001b[38;5;28;01mNone\u001b[39;00m:\n",
      "\u001b[0;31mResourceExhaustedError\u001b[0m: Graph execution error:\n\nDetected at node 'masked_loss/sparse_categorical_crossentropy/SparseSoftmaxCrossEntropyWithLogits/SparseSoftmaxCrossEntropyWithLogits' defined at (most recent call last):\n    File \"/home/t/miniconda3/envs/tf_new/lib/python3.9/runpy.py\", line 197, in _run_module_as_main\n      return _run_code(code, main_globals, None,\n    File \"/home/t/miniconda3/envs/tf_new/lib/python3.9/runpy.py\", line 87, in _run_code\n      exec(code, run_globals)\n    File \"/home/t/.local/lib/python3.9/site-packages/ipykernel_launcher.py\", line 17, in <module>\n      app.launch_new_instance()\n    File \"/home/t/.local/lib/python3.9/site-packages/traitlets/config/application.py\", line 1041, in launch_instance\n      app.start()\n    File \"/home/t/.local/lib/python3.9/site-packages/ipykernel/kernelapp.py\", line 724, in start\n      self.io_loop.start()\n    File \"/home/t/miniconda3/envs/tf_new/lib/python3.9/site-packages/tornado/platform/asyncio.py\", line 215, in start\n      self.asyncio_loop.run_forever()\n    File \"/home/t/miniconda3/envs/tf_new/lib/python3.9/asyncio/base_events.py\", line 601, in run_forever\n      self._run_once()\n    File \"/home/t/miniconda3/envs/tf_new/lib/python3.9/asyncio/base_events.py\", line 1905, in _run_once\n      handle._run()\n    File \"/home/t/miniconda3/envs/tf_new/lib/python3.9/asyncio/events.py\", line 80, in _run\n      self._context.run(self._callback, *self._args)\n    File \"/home/t/.local/lib/python3.9/site-packages/ipykernel/kernelbase.py\", line 512, in dispatch_queue\n      await self.process_one()\n    File \"/home/t/.local/lib/python3.9/site-packages/ipykernel/kernelbase.py\", line 501, in process_one\n      await dispatch(*args)\n    File \"/home/t/.local/lib/python3.9/site-packages/ipykernel/kernelbase.py\", line 408, in dispatch_shell\n      await result\n    File \"/home/t/.local/lib/python3.9/site-packages/ipykernel/kernelbase.py\", line 731, in execute_request\n      reply_content = await reply_content\n    File \"/home/t/.local/lib/python3.9/site-packages/ipykernel/ipkernel.py\", line 417, in do_execute\n      res = shell.run_cell(\n    File \"/home/t/.local/lib/python3.9/site-packages/ipykernel/zmqshell.py\", line 540, in run_cell\n      return super().run_cell(*args, **kwargs)\n    File \"/home/t/.local/lib/python3.9/site-packages/IPython/core/interactiveshell.py\", line 2945, in run_cell\n      result = self._run_cell(\n    File \"/home/t/.local/lib/python3.9/site-packages/IPython/core/interactiveshell.py\", line 3000, in _run_cell\n      return runner(coro)\n    File \"/home/t/.local/lib/python3.9/site-packages/IPython/core/async_helpers.py\", line 129, in _pseudo_sync_runner\n      coro.send(None)\n    File \"/home/t/.local/lib/python3.9/site-packages/IPython/core/interactiveshell.py\", line 3203, in run_cell_async\n      has_raised = await self.run_ast_nodes(code_ast.body, cell_name,\n    File \"/home/t/.local/lib/python3.9/site-packages/IPython/core/interactiveshell.py\", line 3382, in run_ast_nodes\n      if await self.run_code(code, result, async_=asy):\n    File \"/home/t/.local/lib/python3.9/site-packages/IPython/core/interactiveshell.py\", line 3442, in run_code\n      exec(code_obj, self.user_global_ns, self.user_ns)\n    File \"/tmp/ipykernel_10346/1630762766.py\", line 2, in <module>\n      history = model.fit(\n    File \"/home/t/miniconda3/envs/tf_new/lib/python3.9/site-packages/keras/utils/traceback_utils.py\", line 65, in error_handler\n      return fn(*args, **kwargs)\n    File \"/home/t/miniconda3/envs/tf_new/lib/python3.9/site-packages/keras/engine/training.py\", line 1650, in fit\n      tmp_logs = self.train_function(iterator)\n    File \"/home/t/miniconda3/envs/tf_new/lib/python3.9/site-packages/keras/engine/training.py\", line 1249, in train_function\n      return step_function(self, iterator)\n    File \"/home/t/miniconda3/envs/tf_new/lib/python3.9/site-packages/keras/engine/training.py\", line 1233, in step_function\n      outputs = model.distribute_strategy.run(run_step, args=(data,))\n    File \"/home/t/miniconda3/envs/tf_new/lib/python3.9/site-packages/keras/engine/training.py\", line 1222, in run_step\n      outputs = model.train_step(data)\n    File \"/home/t/miniconda3/envs/tf_new/lib/python3.9/site-packages/keras/engine/training.py\", line 1024, in train_step\n      loss = self.compute_loss(x, y, y_pred, sample_weight)\n    File \"/home/t/miniconda3/envs/tf_new/lib/python3.9/site-packages/keras/engine/training.py\", line 1082, in compute_loss\n      return self.compiled_loss(\n    File \"/home/t/miniconda3/envs/tf_new/lib/python3.9/site-packages/keras/engine/compile_utils.py\", line 265, in __call__\n      loss_value = loss_obj(y_t, y_p, sample_weight=sw)\n    File \"/home/t/miniconda3/envs/tf_new/lib/python3.9/site-packages/keras/losses.py\", line 152, in __call__\n      losses = call_fn(y_true, y_pred)\n    File \"/home/t/miniconda3/envs/tf_new/lib/python3.9/site-packages/keras/losses.py\", line 284, in call\n      return ag_fn(y_true, y_pred, **self._fn_kwargs)\n    File \"/tmp/ipykernel_10346/2953002845.py\", line 5, in masked_loss\n      loss = loss_fn(y_true, y_pred)\n    File \"/home/t/miniconda3/envs/tf_new/lib/python3.9/site-packages/keras/losses.py\", line 152, in __call__\n      losses = call_fn(y_true, y_pred)\n    File \"/home/t/miniconda3/envs/tf_new/lib/python3.9/site-packages/keras/losses.py\", line 284, in call\n      return ag_fn(y_true, y_pred, **self._fn_kwargs)\n    File \"/home/t/miniconda3/envs/tf_new/lib/python3.9/site-packages/keras/losses.py\", line 2098, in sparse_categorical_crossentropy\n      return backend.sparse_categorical_crossentropy(\n    File \"/home/t/miniconda3/envs/tf_new/lib/python3.9/site-packages/keras/backend.py\", line 5633, in sparse_categorical_crossentropy\n      res = tf.nn.sparse_softmax_cross_entropy_with_logits(\nNode: 'masked_loss/sparse_categorical_crossentropy/SparseSoftmaxCrossEntropyWithLogits/SparseSoftmaxCrossEntropyWithLogits'\nOOM when allocating tensor with shape[3232,49580] and type float on /job:localhost/replica:0/task:0/device:GPU:0 by allocator GPU_0_bfc\n\t [[{{node masked_loss/sparse_categorical_crossentropy/SparseSoftmaxCrossEntropyWithLogits/SparseSoftmaxCrossEntropyWithLogits}}]]\nHint: If you want to see a list of allocated tensors when OOM happens, add report_tensor_allocations_upon_oom to RunOptions for current allocation info. This isn't available when running in Eager mode.\n [Op:__inference_train_function_127924]"
     ]
    }
   ],
   "source": [
    "# Train\n",
    "history = model.fit(\n",
    "    train_data.repeat(), \n",
    "    epochs=EPOCHS,\n",
    "    steps_per_epoch = 80,\n",
    "    validation_data=test_data,\n",
    "    validation_steps = 5,\n",
    "    callbacks=[\n",
    "        tf.keras.callbacks.EarlyStopping(patience=3), model_ckpt])"
   ]
  },
  {
   "cell_type": "code",
   "execution_count": null,
   "id": "e410b291-7f4c-4e24-b2c6-73a3b043aec0",
   "metadata": {},
   "outputs": [],
   "source": []
  },
  {
   "cell_type": "code",
   "execution_count": null,
   "id": "d140e0b1-4d3e-444b-a874-4aae649839d4",
   "metadata": {},
   "outputs": [],
   "source": []
  },
  {
   "cell_type": "code",
   "execution_count": null,
   "id": "f8b3fc5e-5b08-4b2f-8b49-b376f8e18d10",
   "metadata": {},
   "outputs": [],
   "source": []
  },
  {
   "cell_type": "code",
   "execution_count": null,
   "id": "3fb75a2d-55a8-48e2-a5e7-a9e9f4b931c4",
   "metadata": {},
   "outputs": [],
   "source": []
  },
  {
   "cell_type": "code",
   "execution_count": null,
   "id": "6de7759d-922d-4f7b-bb83-839b7890b4d2",
   "metadata": {},
   "outputs": [],
   "source": []
  },
  {
   "cell_type": "code",
   "execution_count": null,
   "id": "cfd97eac-eafe-4b84-9816-54cfaf913289",
   "metadata": {},
   "outputs": [],
   "source": []
  },
  {
   "cell_type": "code",
   "execution_count": null,
   "id": "4e3bf025-7830-4acc-a1b9-df54135284c5",
   "metadata": {},
   "outputs": [],
   "source": []
  },
  {
   "cell_type": "code",
   "execution_count": null,
   "id": "1d6959ac-dcce-4ca7-ba61-a962ffd0b2f1",
   "metadata": {},
   "outputs": [],
   "source": []
  },
  {
   "cell_type": "code",
   "execution_count": null,
   "id": "aa54b47a-fbf1-4359-b8c8-1c2aaaa2dffa",
   "metadata": {},
   "outputs": [],
   "source": []
  },
  {
   "cell_type": "code",
   "execution_count": null,
   "id": "fe429c0e-861d-4e02-a349-747f36d5a39a",
   "metadata": {},
   "outputs": [],
   "source": []
  },
  {
   "cell_type": "code",
   "execution_count": null,
   "id": "87996d32-419a-469c-80cc-7cfc2a087bef",
   "metadata": {},
   "outputs": [],
   "source": []
  },
  {
   "cell_type": "code",
   "execution_count": null,
   "id": "7efbd363-3d34-4c2b-bdeb-7dc550ec0454",
   "metadata": {},
   "outputs": [],
   "source": []
  },
  {
   "cell_type": "code",
   "execution_count": null,
   "id": "1cd879d8-02ad-478f-b9e7-3da9bf36e27a",
   "metadata": {},
   "outputs": [],
   "source": []
  },
  {
   "cell_type": "code",
   "execution_count": null,
   "id": "0c2664e1-fa1b-4851-aed7-7cd275b42f92",
   "metadata": {},
   "outputs": [],
   "source": []
  },
  {
   "cell_type": "code",
   "execution_count": null,
   "id": "7091939c-1e2f-48e9-b796-bb9dc7ebedca",
   "metadata": {},
   "outputs": [],
   "source": []
  },
  {
   "cell_type": "code",
   "execution_count": null,
   "id": "fd8cbb47-aac9-4823-a493-a1e023645b1e",
   "metadata": {},
   "outputs": [],
   "source": []
  },
  {
   "cell_type": "code",
   "execution_count": null,
   "id": "f5d7244e-0282-4051-af2d-ab2672db956d",
   "metadata": {},
   "outputs": [],
   "source": []
  },
  {
   "cell_type": "code",
   "execution_count": null,
   "id": "d176d4b4-8ca4-4924-b896-8e20e6106a22",
   "metadata": {},
   "outputs": [],
   "source": []
  },
  {
   "cell_type": "code",
   "execution_count": null,
   "id": "97a254b6-b5c9-4a10-983f-7c2c12f16b33",
   "metadata": {},
   "outputs": [],
   "source": []
  }
 ],
 "metadata": {
  "kernelspec": {
   "display_name": "tf_new",
   "language": "python",
   "name": "tf_new"
  },
  "language_info": {
   "codemirror_mode": {
    "name": "ipython",
    "version": 3
   },
   "file_extension": ".py",
   "mimetype": "text/x-python",
   "name": "python",
   "nbconvert_exporter": "python",
   "pygments_lexer": "ipython3",
   "version": "3.9.16"
  }
 },
 "nbformat": 4,
 "nbformat_minor": 5
}
